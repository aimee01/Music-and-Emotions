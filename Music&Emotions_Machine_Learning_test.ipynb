{
  "nbformat": 4,
  "nbformat_minor": 0,
  "metadata": {
    "colab": {
      "name": "Machine Learning test_projet final.ipynb",
      "provenance": []
    },
    "kernelspec": {
      "name": "python3",
      "display_name": "Python 3"
    }
  },
  "cells": [
    {
      "cell_type": "code",
      "metadata": {
        "id": "1_EOF8h-5OSt",
        "colab_type": "code",
        "colab": {
          "base_uri": "https://localhost:8080/",
          "height": 71
        },
        "outputId": "6b8b42e6-e619-4ddf-ea01-06ec0246011e"
      },
      "source": [
        "import pandas as pd\n",
        "import seaborn as sns\n",
        "import matplotlib.pyplot as plt\n",
        "from sklearn.metrics import classification_report, confusion_matrix\n",
        "from sklearn.linear_model import LogisticRegression\n",
        "from sklearn.model_selection import cross_val_score\n"
      ],
      "execution_count": null,
      "outputs": [
        {
          "output_type": "stream",
          "text": [
            "/usr/local/lib/python3.6/dist-packages/statsmodels/tools/_testing.py:19: FutureWarning: pandas.util.testing is deprecated. Use the functions in the public API at pandas.testing instead.\n",
            "  import pandas.util.testing as tm\n"
          ],
          "name": "stderr"
        }
      ]
    },
    {
      "cell_type": "markdown",
      "metadata": {
        "id": "tuxdavA1u9sl",
        "colab_type": "text"
      },
      "source": [
        "### Overview"
      ]
    },
    {
      "cell_type": "markdown",
      "metadata": {
        "id": "RhMlxpmRuhh6",
        "colab_type": "text"
      },
      "source": [
        "Let's gather all the datasets created previously."
      ]
    },
    {
      "cell_type": "code",
      "metadata": {
        "id": "0XfQhYSN6Afx",
        "colab_type": "code",
        "colab": {}
      },
      "source": [
        "conf = pd.read_csv('Confident_dataset.csv', index_col=0)\n"
      ],
      "execution_count": null,
      "outputs": []
    },
    {
      "cell_type": "code",
      "metadata": {
        "id": "quThe5wL-iT6",
        "colab_type": "code",
        "colab": {}
      },
      "source": [
        "ref = pd.read_csv('Reflective_dataset.csv', index_col=0)"
      ],
      "execution_count": null,
      "outputs": []
    },
    {
      "cell_type": "code",
      "metadata": {
        "id": "JxWuk7Mekh8R",
        "colab_type": "code",
        "colab": {}
      },
      "source": [
        "ten = pd.read_csv('Tension_dataset.csv', index_col=0)"
      ],
      "execution_count": null,
      "outputs": []
    },
    {
      "cell_type": "code",
      "metadata": {
        "id": "6Vrz10rlkihe",
        "colab_type": "code",
        "colab": {}
      },
      "source": [
        "pos = pd.read_csv('Positive_dataset.csv', index_col=0)"
      ],
      "execution_count": null,
      "outputs": []
    },
    {
      "cell_type": "code",
      "metadata": {
        "id": "tHxxSAVu8ZQb",
        "colab_type": "code",
        "colab": {
          "base_uri": "https://localhost:8080/",
          "height": 34
        },
        "outputId": "e5e692ee-3fe4-4eab-b425-aa8b8c838561"
      },
      "source": [
        "ref.shape"
      ],
      "execution_count": null,
      "outputs": [
        {
          "output_type": "execute_result",
          "data": {
            "text/plain": [
              "(96, 30)"
            ]
          },
          "metadata": {
            "tags": []
          },
          "execution_count": 52
        }
      ]
    },
    {
      "cell_type": "code",
      "metadata": {
        "id": "1NEXMgKF1OXA",
        "colab_type": "code",
        "colab": {
          "base_uri": "https://localhost:8080/",
          "height": 317
        },
        "outputId": "37f552f2-0924-4bfa-db03-37ff26df99c5"
      },
      "source": [
        "ref.describe()"
      ],
      "execution_count": null,
      "outputs": [
        {
          "output_type": "execute_result",
          "data": {
            "text/html": [
              "<div>\n",
              "<style scoped>\n",
              "    .dataframe tbody tr th:only-of-type {\n",
              "        vertical-align: middle;\n",
              "    }\n",
              "\n",
              "    .dataframe tbody tr th {\n",
              "        vertical-align: top;\n",
              "    }\n",
              "\n",
              "    .dataframe thead th {\n",
              "        text-align: right;\n",
              "    }\n",
              "</style>\n",
              "<table border=\"1\" class=\"dataframe\">\n",
              "  <thead>\n",
              "    <tr style=\"text-align: right;\">\n",
              "      <th></th>\n",
              "      <th>tempo</th>\n",
              "      <th>beats</th>\n",
              "      <th>chroma_stft</th>\n",
              "      <th>rmse</th>\n",
              "      <th>spectral_centroid</th>\n",
              "      <th>spectral_bandwidth</th>\n",
              "      <th>rollof</th>\n",
              "      <th>zero_crossing_rate</th>\n",
              "      <th>mfcc1</th>\n",
              "      <th>mfcc2</th>\n",
              "      <th>mfcc3</th>\n",
              "      <th>mfcc4</th>\n",
              "      <th>mfcc5</th>\n",
              "      <th>mfcc6</th>\n",
              "      <th>mfcc7</th>\n",
              "      <th>mfcc8</th>\n",
              "      <th>mfcc9</th>\n",
              "      <th>mfcc10</th>\n",
              "      <th>mfcc11</th>\n",
              "      <th>mfcc12</th>\n",
              "      <th>mfcc13</th>\n",
              "      <th>mfcc14</th>\n",
              "      <th>mfcc15</th>\n",
              "      <th>mfcc16</th>\n",
              "      <th>mfcc17</th>\n",
              "      <th>mfcc18</th>\n",
              "      <th>mfcc19</th>\n",
              "      <th>mfcc20</th>\n",
              "    </tr>\n",
              "  </thead>\n",
              "  <tbody>\n",
              "    <tr>\n",
              "      <th>count</th>\n",
              "      <td>96.000000</td>\n",
              "      <td>96.000000</td>\n",
              "      <td>96.000000</td>\n",
              "      <td>96.000000</td>\n",
              "      <td>96.000000</td>\n",
              "      <td>96.000000</td>\n",
              "      <td>96.000000</td>\n",
              "      <td>96.000000</td>\n",
              "      <td>96.000000</td>\n",
              "      <td>96.000000</td>\n",
              "      <td>96.000000</td>\n",
              "      <td>96.000000</td>\n",
              "      <td>96.000000</td>\n",
              "      <td>96.000000</td>\n",
              "      <td>96.000000</td>\n",
              "      <td>96.000000</td>\n",
              "      <td>96.000000</td>\n",
              "      <td>96.000000</td>\n",
              "      <td>96.000000</td>\n",
              "      <td>96.000000</td>\n",
              "      <td>96.000000</td>\n",
              "      <td>96.000000</td>\n",
              "      <td>96.000000</td>\n",
              "      <td>96.000000</td>\n",
              "      <td>96.000000</td>\n",
              "      <td>96.000000</td>\n",
              "      <td>96.000000</td>\n",
              "      <td>96.000000</td>\n",
              "    </tr>\n",
              "    <tr>\n",
              "      <th>mean</th>\n",
              "      <td>116.886300</td>\n",
              "      <td>51.781250</td>\n",
              "      <td>0.309555</td>\n",
              "      <td>0.097671</td>\n",
              "      <td>1134.785228</td>\n",
              "      <td>1430.639461</td>\n",
              "      <td>2084.646095</td>\n",
              "      <td>0.053967</td>\n",
              "      <td>-304.667408</td>\n",
              "      <td>148.648485</td>\n",
              "      <td>19.114179</td>\n",
              "      <td>20.652396</td>\n",
              "      <td>5.188542</td>\n",
              "      <td>1.855439</td>\n",
              "      <td>-4.248391</td>\n",
              "      <td>-2.277433</td>\n",
              "      <td>-5.353209</td>\n",
              "      <td>-4.175531</td>\n",
              "      <td>-7.012131</td>\n",
              "      <td>-4.620604</td>\n",
              "      <td>-5.536266</td>\n",
              "      <td>-2.259257</td>\n",
              "      <td>-5.059210</td>\n",
              "      <td>-3.042011</td>\n",
              "      <td>-4.580897</td>\n",
              "      <td>-2.794121</td>\n",
              "      <td>-4.165825</td>\n",
              "      <td>-1.251375</td>\n",
              "    </tr>\n",
              "    <tr>\n",
              "      <th>std</th>\n",
              "      <td>43.833526</td>\n",
              "      <td>20.796358</td>\n",
              "      <td>0.079600</td>\n",
              "      <td>0.060201</td>\n",
              "      <td>750.431786</td>\n",
              "      <td>656.584340</td>\n",
              "      <td>1577.257036</td>\n",
              "      <td>0.046281</td>\n",
              "      <td>95.955446</td>\n",
              "      <td>50.306423</td>\n",
              "      <td>36.612581</td>\n",
              "      <td>20.308434</td>\n",
              "      <td>18.392559</td>\n",
              "      <td>13.106144</td>\n",
              "      <td>12.785102</td>\n",
              "      <td>12.725276</td>\n",
              "      <td>11.350271</td>\n",
              "      <td>10.156247</td>\n",
              "      <td>9.947763</td>\n",
              "      <td>9.024245</td>\n",
              "      <td>7.696044</td>\n",
              "      <td>7.958831</td>\n",
              "      <td>7.244064</td>\n",
              "      <td>7.929193</td>\n",
              "      <td>6.419755</td>\n",
              "      <td>6.183536</td>\n",
              "      <td>6.005399</td>\n",
              "      <td>5.732390</td>\n",
              "    </tr>\n",
              "    <tr>\n",
              "      <th>min</th>\n",
              "      <td>0.000000</td>\n",
              "      <td>0.000000</td>\n",
              "      <td>0.170875</td>\n",
              "      <td>0.003379</td>\n",
              "      <td>160.151882</td>\n",
              "      <td>309.781087</td>\n",
              "      <td>150.232425</td>\n",
              "      <td>0.001166</td>\n",
              "      <td>-536.566568</td>\n",
              "      <td>-12.051682</td>\n",
              "      <td>-75.490863</td>\n",
              "      <td>-51.191254</td>\n",
              "      <td>-49.604772</td>\n",
              "      <td>-38.860200</td>\n",
              "      <td>-45.205065</td>\n",
              "      <td>-33.807815</td>\n",
              "      <td>-32.142347</td>\n",
              "      <td>-33.563884</td>\n",
              "      <td>-36.941242</td>\n",
              "      <td>-32.270239</td>\n",
              "      <td>-27.796677</td>\n",
              "      <td>-19.146604</td>\n",
              "      <td>-26.403043</td>\n",
              "      <td>-21.605639</td>\n",
              "      <td>-20.098717</td>\n",
              "      <td>-16.860588</td>\n",
              "      <td>-18.790631</td>\n",
              "      <td>-12.990146</td>\n",
              "    </tr>\n",
              "    <tr>\n",
              "      <th>25%</th>\n",
              "      <td>99.384014</td>\n",
              "      <td>43.000000</td>\n",
              "      <td>0.254981</td>\n",
              "      <td>0.049759</td>\n",
              "      <td>640.216211</td>\n",
              "      <td>868.348181</td>\n",
              "      <td>953.248403</td>\n",
              "      <td>0.031793</td>\n",
              "      <td>-358.070881</td>\n",
              "      <td>124.399416</td>\n",
              "      <td>-7.569459</td>\n",
              "      <td>8.249615</td>\n",
              "      <td>-7.201152</td>\n",
              "      <td>-6.811879</td>\n",
              "      <td>-12.602158</td>\n",
              "      <td>-10.773388</td>\n",
              "      <td>-13.334843</td>\n",
              "      <td>-10.077373</td>\n",
              "      <td>-11.657993</td>\n",
              "      <td>-9.615172</td>\n",
              "      <td>-10.314795</td>\n",
              "      <td>-7.495882</td>\n",
              "      <td>-9.959536</td>\n",
              "      <td>-8.287050</td>\n",
              "      <td>-10.040512</td>\n",
              "      <td>-7.411589</td>\n",
              "      <td>-7.714559</td>\n",
              "      <td>-4.895561</td>\n",
              "    </tr>\n",
              "    <tr>\n",
              "      <th>50%</th>\n",
              "      <td>112.347147</td>\n",
              "      <td>53.500000</td>\n",
              "      <td>0.297353</td>\n",
              "      <td>0.085145</td>\n",
              "      <td>955.258382</td>\n",
              "      <td>1392.280834</td>\n",
              "      <td>1699.893888</td>\n",
              "      <td>0.044946</td>\n",
              "      <td>-305.363140</td>\n",
              "      <td>150.725468</td>\n",
              "      <td>25.055166</td>\n",
              "      <td>20.629199</td>\n",
              "      <td>6.453872</td>\n",
              "      <td>1.937125</td>\n",
              "      <td>-4.475739</td>\n",
              "      <td>-3.172428</td>\n",
              "      <td>-5.953798</td>\n",
              "      <td>-5.621189</td>\n",
              "      <td>-7.056718</td>\n",
              "      <td>-4.710916</td>\n",
              "      <td>-5.605988</td>\n",
              "      <td>-2.760369</td>\n",
              "      <td>-4.881644</td>\n",
              "      <td>-3.576316</td>\n",
              "      <td>-4.594462</td>\n",
              "      <td>-2.188267</td>\n",
              "      <td>-4.635757</td>\n",
              "      <td>-1.806604</td>\n",
              "    </tr>\n",
              "    <tr>\n",
              "      <th>75%</th>\n",
              "      <td>129.199219</td>\n",
              "      <td>61.000000</td>\n",
              "      <td>0.349906</td>\n",
              "      <td>0.144842</td>\n",
              "      <td>1381.152871</td>\n",
              "      <td>1933.121211</td>\n",
              "      <td>2673.921331</td>\n",
              "      <td>0.055825</td>\n",
              "      <td>-233.838200</td>\n",
              "      <td>182.007651</td>\n",
              "      <td>40.233777</td>\n",
              "      <td>34.280798</td>\n",
              "      <td>17.065990</td>\n",
              "      <td>10.619667</td>\n",
              "      <td>4.658143</td>\n",
              "      <td>5.474839</td>\n",
              "      <td>1.504813</td>\n",
              "      <td>1.692909</td>\n",
              "      <td>-0.944171</td>\n",
              "      <td>1.092275</td>\n",
              "      <td>0.068291</td>\n",
              "      <td>1.996533</td>\n",
              "      <td>-0.026615</td>\n",
              "      <td>2.675515</td>\n",
              "      <td>0.494094</td>\n",
              "      <td>1.305599</td>\n",
              "      <td>-0.224676</td>\n",
              "      <td>2.403414</td>\n",
              "    </tr>\n",
              "    <tr>\n",
              "      <th>max</th>\n",
              "      <td>287.109375</td>\n",
              "      <td>112.000000</td>\n",
              "      <td>0.547826</td>\n",
              "      <td>0.254015</td>\n",
              "      <td>3814.721743</td>\n",
              "      <td>3030.515295</td>\n",
              "      <td>7382.472026</td>\n",
              "      <td>0.304781</td>\n",
              "      <td>-95.726646</td>\n",
              "      <td>253.099510</td>\n",
              "      <td>108.573449</td>\n",
              "      <td>72.358915</td>\n",
              "      <td>51.655488</td>\n",
              "      <td>37.247114</td>\n",
              "      <td>28.718304</td>\n",
              "      <td>34.320793</td>\n",
              "      <td>26.480895</td>\n",
              "      <td>25.519382</td>\n",
              "      <td>20.376368</td>\n",
              "      <td>24.956443</td>\n",
              "      <td>12.262361</td>\n",
              "      <td>26.705174</td>\n",
              "      <td>12.451354</td>\n",
              "      <td>20.922932</td>\n",
              "      <td>9.381638</td>\n",
              "      <td>11.234864</td>\n",
              "      <td>11.803841</td>\n",
              "      <td>19.844187</td>\n",
              "    </tr>\n",
              "  </tbody>\n",
              "</table>\n",
              "</div>"
            ],
            "text/plain": [
              "            tempo       beats  chroma_stft  ...     mfcc18     mfcc19     mfcc20\n",
              "count   96.000000   96.000000    96.000000  ...  96.000000  96.000000  96.000000\n",
              "mean   116.886300   51.781250     0.309555  ...  -2.794121  -4.165825  -1.251375\n",
              "std     43.833526   20.796358     0.079600  ...   6.183536   6.005399   5.732390\n",
              "min      0.000000    0.000000     0.170875  ... -16.860588 -18.790631 -12.990146\n",
              "25%     99.384014   43.000000     0.254981  ...  -7.411589  -7.714559  -4.895561\n",
              "50%    112.347147   53.500000     0.297353  ...  -2.188267  -4.635757  -1.806604\n",
              "75%    129.199219   61.000000     0.349906  ...   1.305599  -0.224676   2.403414\n",
              "max    287.109375  112.000000     0.547826  ...  11.234864  11.803841  19.844187\n",
              "\n",
              "[8 rows x 28 columns]"
            ]
          },
          "metadata": {
            "tags": []
          },
          "execution_count": 8
        }
      ]
    },
    {
      "cell_type": "code",
      "metadata": {
        "id": "L0znY1nd96dv",
        "colab_type": "code",
        "colab": {
          "base_uri": "https://localhost:8080/",
          "height": 34
        },
        "outputId": "39b8615d-6975-47b6-8e5c-7f048f0ba407"
      },
      "source": [
        "conf.shape"
      ],
      "execution_count": null,
      "outputs": [
        {
          "output_type": "execute_result",
          "data": {
            "text/plain": [
              "(97, 30)"
            ]
          },
          "metadata": {
            "tags": []
          },
          "execution_count": 53
        }
      ]
    },
    {
      "cell_type": "code",
      "metadata": {
        "id": "b_b_m0rx1SXx",
        "colab_type": "code",
        "colab": {
          "base_uri": "https://localhost:8080/",
          "height": 317
        },
        "outputId": "da8ab485-d735-4f1f-f97f-a1b1d10aaeb8"
      },
      "source": [
        "conf.describe()"
      ],
      "execution_count": null,
      "outputs": [
        {
          "output_type": "execute_result",
          "data": {
            "text/html": [
              "<div>\n",
              "<style scoped>\n",
              "    .dataframe tbody tr th:only-of-type {\n",
              "        vertical-align: middle;\n",
              "    }\n",
              "\n",
              "    .dataframe tbody tr th {\n",
              "        vertical-align: top;\n",
              "    }\n",
              "\n",
              "    .dataframe thead th {\n",
              "        text-align: right;\n",
              "    }\n",
              "</style>\n",
              "<table border=\"1\" class=\"dataframe\">\n",
              "  <thead>\n",
              "    <tr style=\"text-align: right;\">\n",
              "      <th></th>\n",
              "      <th>tempo</th>\n",
              "      <th>beats</th>\n",
              "      <th>chroma_stft</th>\n",
              "      <th>rmse</th>\n",
              "      <th>spectral_centroid</th>\n",
              "      <th>spectral_bandwidth</th>\n",
              "      <th>rollof</th>\n",
              "      <th>zero_crossing_rate</th>\n",
              "      <th>mfcc1</th>\n",
              "      <th>mfcc2</th>\n",
              "      <th>mfcc3</th>\n",
              "      <th>mfcc4</th>\n",
              "      <th>mfcc5</th>\n",
              "      <th>mfcc6</th>\n",
              "      <th>mfcc7</th>\n",
              "      <th>mfcc8</th>\n",
              "      <th>mfcc9</th>\n",
              "      <th>mfcc10</th>\n",
              "      <th>mfcc11</th>\n",
              "      <th>mfcc12</th>\n",
              "      <th>mfcc13</th>\n",
              "      <th>mfcc14</th>\n",
              "      <th>mfcc15</th>\n",
              "      <th>mfcc16</th>\n",
              "      <th>mfcc17</th>\n",
              "      <th>mfcc18</th>\n",
              "      <th>mfcc19</th>\n",
              "      <th>mfcc20</th>\n",
              "    </tr>\n",
              "  </thead>\n",
              "  <tbody>\n",
              "    <tr>\n",
              "      <th>count</th>\n",
              "      <td>97.000000</td>\n",
              "      <td>97.000000</td>\n",
              "      <td>97.000000</td>\n",
              "      <td>97.000000</td>\n",
              "      <td>97.000000</td>\n",
              "      <td>97.000000</td>\n",
              "      <td>97.000000</td>\n",
              "      <td>97.000000</td>\n",
              "      <td>97.000000</td>\n",
              "      <td>97.000000</td>\n",
              "      <td>97.000000</td>\n",
              "      <td>97.000000</td>\n",
              "      <td>97.000000</td>\n",
              "      <td>97.000000</td>\n",
              "      <td>97.000000</td>\n",
              "      <td>97.000000</td>\n",
              "      <td>97.000000</td>\n",
              "      <td>97.000000</td>\n",
              "      <td>97.000000</td>\n",
              "      <td>97.000000</td>\n",
              "      <td>97.000000</td>\n",
              "      <td>97.000000</td>\n",
              "      <td>97.000000</td>\n",
              "      <td>97.000000</td>\n",
              "      <td>97.000000</td>\n",
              "      <td>97.000000</td>\n",
              "      <td>97.000000</td>\n",
              "      <td>97.000000</td>\n",
              "    </tr>\n",
              "    <tr>\n",
              "      <th>mean</th>\n",
              "      <td>120.169711</td>\n",
              "      <td>57.567010</td>\n",
              "      <td>0.464594</td>\n",
              "      <td>0.222909</td>\n",
              "      <td>1999.759788</td>\n",
              "      <td>2197.510202</td>\n",
              "      <td>4083.806921</td>\n",
              "      <td>0.078502</td>\n",
              "      <td>-167.942101</td>\n",
              "      <td>92.945512</td>\n",
              "      <td>20.250663</td>\n",
              "      <td>27.535535</td>\n",
              "      <td>8.663782</td>\n",
              "      <td>14.313836</td>\n",
              "      <td>4.396221</td>\n",
              "      <td>8.153541</td>\n",
              "      <td>-1.056700</td>\n",
              "      <td>5.952290</td>\n",
              "      <td>-0.261217</td>\n",
              "      <td>4.061186</td>\n",
              "      <td>-0.962683</td>\n",
              "      <td>3.237042</td>\n",
              "      <td>-0.983560</td>\n",
              "      <td>3.656666</td>\n",
              "      <td>-1.426112</td>\n",
              "      <td>3.155391</td>\n",
              "      <td>-0.854722</td>\n",
              "      <td>2.654047</td>\n",
              "    </tr>\n",
              "    <tr>\n",
              "      <th>std</th>\n",
              "      <td>20.211774</td>\n",
              "      <td>10.181588</td>\n",
              "      <td>0.093751</td>\n",
              "      <td>0.073539</td>\n",
              "      <td>834.287611</td>\n",
              "      <td>574.564772</td>\n",
              "      <td>1756.896994</td>\n",
              "      <td>0.049294</td>\n",
              "      <td>72.630034</td>\n",
              "      <td>37.145070</td>\n",
              "      <td>28.408269</td>\n",
              "      <td>15.042005</td>\n",
              "      <td>14.434804</td>\n",
              "      <td>12.195225</td>\n",
              "      <td>8.659499</td>\n",
              "      <td>8.398148</td>\n",
              "      <td>8.164765</td>\n",
              "      <td>6.244259</td>\n",
              "      <td>7.089039</td>\n",
              "      <td>5.849219</td>\n",
              "      <td>5.956244</td>\n",
              "      <td>5.764759</td>\n",
              "      <td>4.552511</td>\n",
              "      <td>4.595533</td>\n",
              "      <td>5.226741</td>\n",
              "      <td>4.635488</td>\n",
              "      <td>4.539554</td>\n",
              "      <td>4.249145</td>\n",
              "    </tr>\n",
              "    <tr>\n",
              "      <th>min</th>\n",
              "      <td>58.726918</td>\n",
              "      <td>27.000000</td>\n",
              "      <td>0.250949</td>\n",
              "      <td>0.034643</td>\n",
              "      <td>250.419426</td>\n",
              "      <td>440.595957</td>\n",
              "      <td>366.772782</td>\n",
              "      <td>0.007102</td>\n",
              "      <td>-362.686452</td>\n",
              "      <td>-17.784165</td>\n",
              "      <td>-32.333996</td>\n",
              "      <td>-9.815754</td>\n",
              "      <td>-46.724071</td>\n",
              "      <td>-23.892911</td>\n",
              "      <td>-20.059899</td>\n",
              "      <td>-10.853405</td>\n",
              "      <td>-22.399369</td>\n",
              "      <td>-13.372874</td>\n",
              "      <td>-24.816838</td>\n",
              "      <td>-19.199302</td>\n",
              "      <td>-19.401797</td>\n",
              "      <td>-11.173409</td>\n",
              "      <td>-11.065069</td>\n",
              "      <td>-7.367072</td>\n",
              "      <td>-15.222828</td>\n",
              "      <td>-11.623033</td>\n",
              "      <td>-12.577012</td>\n",
              "      <td>-9.821898</td>\n",
              "    </tr>\n",
              "    <tr>\n",
              "      <th>25%</th>\n",
              "      <td>117.453835</td>\n",
              "      <td>54.000000</td>\n",
              "      <td>0.399354</td>\n",
              "      <td>0.179044</td>\n",
              "      <td>1354.336357</td>\n",
              "      <td>1830.073965</td>\n",
              "      <td>2923.215657</td>\n",
              "      <td>0.039630</td>\n",
              "      <td>-220.199913</td>\n",
              "      <td>68.026926</td>\n",
              "      <td>-1.066833</td>\n",
              "      <td>17.829862</td>\n",
              "      <td>-0.347590</td>\n",
              "      <td>6.606238</td>\n",
              "      <td>-1.020426</td>\n",
              "      <td>2.455648</td>\n",
              "      <td>-6.388579</td>\n",
              "      <td>1.722100</td>\n",
              "      <td>-4.016173</td>\n",
              "      <td>0.760252</td>\n",
              "      <td>-4.997433</td>\n",
              "      <td>-0.461734</td>\n",
              "      <td>-4.040892</td>\n",
              "      <td>0.272249</td>\n",
              "      <td>-4.988253</td>\n",
              "      <td>0.396626</td>\n",
              "      <td>-3.559761</td>\n",
              "      <td>-0.005414</td>\n",
              "    </tr>\n",
              "    <tr>\n",
              "      <th>50%</th>\n",
              "      <td>123.046875</td>\n",
              "      <td>60.000000</td>\n",
              "      <td>0.469953</td>\n",
              "      <td>0.215540</td>\n",
              "      <td>1956.019937</td>\n",
              "      <td>2280.179159</td>\n",
              "      <td>4003.184127</td>\n",
              "      <td>0.072658</td>\n",
              "      <td>-172.217133</td>\n",
              "      <td>94.947230</td>\n",
              "      <td>17.608768</td>\n",
              "      <td>27.153737</td>\n",
              "      <td>9.124748</td>\n",
              "      <td>15.327875</td>\n",
              "      <td>3.775018</td>\n",
              "      <td>8.698787</td>\n",
              "      <td>-1.228932</td>\n",
              "      <td>5.950100</td>\n",
              "      <td>-0.493022</td>\n",
              "      <td>4.009574</td>\n",
              "      <td>-1.181798</td>\n",
              "      <td>2.419361</td>\n",
              "      <td>-1.412894</td>\n",
              "      <td>3.282329</td>\n",
              "      <td>-1.222592</td>\n",
              "      <td>2.874362</td>\n",
              "      <td>-0.763060</td>\n",
              "      <td>2.923734</td>\n",
              "    </tr>\n",
              "    <tr>\n",
              "      <th>75%</th>\n",
              "      <td>129.199219</td>\n",
              "      <td>62.000000</td>\n",
              "      <td>0.527980</td>\n",
              "      <td>0.271890</td>\n",
              "      <td>2546.316836</td>\n",
              "      <td>2599.158148</td>\n",
              "      <td>5380.892462</td>\n",
              "      <td>0.102930</td>\n",
              "      <td>-115.908262</td>\n",
              "      <td>116.712114</td>\n",
              "      <td>39.080642</td>\n",
              "      <td>39.615861</td>\n",
              "      <td>18.986545</td>\n",
              "      <td>22.407401</td>\n",
              "      <td>10.747188</td>\n",
              "      <td>12.763626</td>\n",
              "      <td>5.256837</td>\n",
              "      <td>9.837684</td>\n",
              "      <td>4.947984</td>\n",
              "      <td>8.018917</td>\n",
              "      <td>3.019932</td>\n",
              "      <td>6.659903</td>\n",
              "      <td>1.514496</td>\n",
              "      <td>6.799989</td>\n",
              "      <td>2.020183</td>\n",
              "      <td>5.418505</td>\n",
              "      <td>1.928150</td>\n",
              "      <td>5.563642</td>\n",
              "    </tr>\n",
              "    <tr>\n",
              "      <th>max</th>\n",
              "      <td>184.570312</td>\n",
              "      <td>87.000000</td>\n",
              "      <td>0.651149</td>\n",
              "      <td>0.414119</td>\n",
              "      <td>3959.702071</td>\n",
              "      <td>3439.872785</td>\n",
              "      <td>7546.637700</td>\n",
              "      <td>0.237615</td>\n",
              "      <td>-11.301350</td>\n",
              "      <td>180.059437</td>\n",
              "      <td>99.340681</td>\n",
              "      <td>65.507179</td>\n",
              "      <td>36.183997</td>\n",
              "      <td>48.070206</td>\n",
              "      <td>22.775053</td>\n",
              "      <td>32.291841</td>\n",
              "      <td>17.166117</td>\n",
              "      <td>19.040442</td>\n",
              "      <td>13.304457</td>\n",
              "      <td>16.899752</td>\n",
              "      <td>17.724297</td>\n",
              "      <td>18.959712</td>\n",
              "      <td>12.916759</td>\n",
              "      <td>15.429699</td>\n",
              "      <td>12.482461</td>\n",
              "      <td>17.162901</td>\n",
              "      <td>11.042853</td>\n",
              "      <td>14.037774</td>\n",
              "    </tr>\n",
              "  </tbody>\n",
              "</table>\n",
              "</div>"
            ],
            "text/plain": [
              "            tempo      beats  chroma_stft  ...     mfcc18     mfcc19     mfcc20\n",
              "count   97.000000  97.000000    97.000000  ...  97.000000  97.000000  97.000000\n",
              "mean   120.169711  57.567010     0.464594  ...   3.155391  -0.854722   2.654047\n",
              "std     20.211774  10.181588     0.093751  ...   4.635488   4.539554   4.249145\n",
              "min     58.726918  27.000000     0.250949  ... -11.623033 -12.577012  -9.821898\n",
              "25%    117.453835  54.000000     0.399354  ...   0.396626  -3.559761  -0.005414\n",
              "50%    123.046875  60.000000     0.469953  ...   2.874362  -0.763060   2.923734\n",
              "75%    129.199219  62.000000     0.527980  ...   5.418505   1.928150   5.563642\n",
              "max    184.570312  87.000000     0.651149  ...  17.162901  11.042853  14.037774\n",
              "\n",
              "[8 rows x 28 columns]"
            ]
          },
          "metadata": {
            "tags": []
          },
          "execution_count": 9
        }
      ]
    },
    {
      "cell_type": "code",
      "metadata": {
        "id": "DuZQUx8J7bbi",
        "colab_type": "code",
        "colab": {}
      },
      "source": [
        "data = conf.append(ref)"
      ],
      "execution_count": null,
      "outputs": []
    },
    {
      "cell_type": "code",
      "metadata": {
        "id": "b0P5xspNlg1F",
        "colab_type": "code",
        "colab": {}
      },
      "source": [
        "data2 = data.append(pos)"
      ],
      "execution_count": null,
      "outputs": []
    },
    {
      "cell_type": "code",
      "metadata": {
        "id": "C70j5e6VlkAr",
        "colab_type": "code",
        "colab": {}
      },
      "source": [
        "data3 = data2.append(ten)"
      ],
      "execution_count": null,
      "outputs": []
    },
    {
      "cell_type": "code",
      "metadata": {
        "id": "MGRxiPml-Q1G",
        "colab_type": "code",
        "colab": {
          "base_uri": "https://localhost:8080/",
          "height": 609
        },
        "outputId": "5825800d-5ff4-4ce5-b7a6-5afea159acdb"
      },
      "source": [
        "data3"
      ],
      "execution_count": null,
      "outputs": [
        {
          "output_type": "execute_result",
          "data": {
            "text/html": [
              "<div>\n",
              "<style scoped>\n",
              "    .dataframe tbody tr th:only-of-type {\n",
              "        vertical-align: middle;\n",
              "    }\n",
              "\n",
              "    .dataframe tbody tr th {\n",
              "        vertical-align: top;\n",
              "    }\n",
              "\n",
              "    .dataframe thead th {\n",
              "        text-align: right;\n",
              "    }\n",
              "</style>\n",
              "<table border=\"1\" class=\"dataframe\">\n",
              "  <thead>\n",
              "    <tr style=\"text-align: right;\">\n",
              "      <th></th>\n",
              "      <th>name</th>\n",
              "      <th>tempo</th>\n",
              "      <th>beats</th>\n",
              "      <th>chroma_stft</th>\n",
              "      <th>rmse</th>\n",
              "      <th>spectral_centroid</th>\n",
              "      <th>spectral_bandwidth</th>\n",
              "      <th>rollof</th>\n",
              "      <th>zero_crossing_rate</th>\n",
              "      <th>mfcc1</th>\n",
              "      <th>mfcc2</th>\n",
              "      <th>mfcc3</th>\n",
              "      <th>mfcc4</th>\n",
              "      <th>mfcc5</th>\n",
              "      <th>mfcc6</th>\n",
              "      <th>mfcc7</th>\n",
              "      <th>mfcc8</th>\n",
              "      <th>mfcc9</th>\n",
              "      <th>mfcc10</th>\n",
              "      <th>mfcc11</th>\n",
              "      <th>mfcc12</th>\n",
              "      <th>mfcc13</th>\n",
              "      <th>mfcc14</th>\n",
              "      <th>mfcc15</th>\n",
              "      <th>mfcc16</th>\n",
              "      <th>mfcc17</th>\n",
              "      <th>mfcc18</th>\n",
              "      <th>mfcc19</th>\n",
              "      <th>mfcc20</th>\n",
              "      <th>emotion</th>\n",
              "    </tr>\n",
              "  </thead>\n",
              "  <tbody>\n",
              "    <tr>\n",
              "      <th>0</th>\n",
              "      <td>Bloodied and a Mess</td>\n",
              "      <td>117.453835</td>\n",
              "      <td>58</td>\n",
              "      <td>0.545592</td>\n",
              "      <td>0.179044</td>\n",
              "      <td>2965.916513</td>\n",
              "      <td>2921.081285</td>\n",
              "      <td>6478.344160</td>\n",
              "      <td>0.104885</td>\n",
              "      <td>-126.004510</td>\n",
              "      <td>43.709920</td>\n",
              "      <td>8.054221</td>\n",
              "      <td>37.430794</td>\n",
              "      <td>12.549331</td>\n",
              "      <td>11.495526</td>\n",
              "      <td>6.130038</td>\n",
              "      <td>14.679084</td>\n",
              "      <td>1.507163</td>\n",
              "      <td>1.722100</td>\n",
              "      <td>6.422584</td>\n",
              "      <td>7.485076</td>\n",
              "      <td>8.533732</td>\n",
              "      <td>10.484525</td>\n",
              "      <td>3.553413</td>\n",
              "      <td>7.915021</td>\n",
              "      <td>-0.766778</td>\n",
              "      <td>6.751635</td>\n",
              "      <td>-1.055627</td>\n",
              "      <td>9.043216</td>\n",
              "      <td>Confident</td>\n",
              "    </tr>\n",
              "    <tr>\n",
              "      <th>1</th>\n",
              "      <td>Red Horizon Acid</td>\n",
              "      <td>123.046875</td>\n",
              "      <td>61</td>\n",
              "      <td>0.352863</td>\n",
              "      <td>0.212508</td>\n",
              "      <td>1757.992452</td>\n",
              "      <td>2134.099700</td>\n",
              "      <td>3828.393517</td>\n",
              "      <td>0.057591</td>\n",
              "      <td>-106.743345</td>\n",
              "      <td>116.775223</td>\n",
              "      <td>10.322778</td>\n",
              "      <td>31.014088</td>\n",
              "      <td>0.441086</td>\n",
              "      <td>2.591725</td>\n",
              "      <td>-7.807779</td>\n",
              "      <td>2.126403</td>\n",
              "      <td>-13.854279</td>\n",
              "      <td>-4.982813</td>\n",
              "      <td>-12.243929</td>\n",
              "      <td>-6.743147</td>\n",
              "      <td>-14.735940</td>\n",
              "      <td>-4.627341</td>\n",
              "      <td>-6.305271</td>\n",
              "      <td>-3.246843</td>\n",
              "      <td>-7.032047</td>\n",
              "      <td>-2.343762</td>\n",
              "      <td>-6.507042</td>\n",
              "      <td>0.646349</td>\n",
              "      <td>Confident</td>\n",
              "    </tr>\n",
              "    <tr>\n",
              "      <th>2</th>\n",
              "      <td>Uno y Dos (Jonathan Kusuma Remix One)</td>\n",
              "      <td>58.726918</td>\n",
              "      <td>27</td>\n",
              "      <td>0.634609</td>\n",
              "      <td>0.268892</td>\n",
              "      <td>646.162454</td>\n",
              "      <td>1240.134843</td>\n",
              "      <td>1178.309542</td>\n",
              "      <td>0.013564</td>\n",
              "      <td>-255.343221</td>\n",
              "      <td>136.092834</td>\n",
              "      <td>41.518619</td>\n",
              "      <td>38.672460</td>\n",
              "      <td>25.613954</td>\n",
              "      <td>26.524678</td>\n",
              "      <td>14.736278</td>\n",
              "      <td>21.582689</td>\n",
              "      <td>11.384456</td>\n",
              "      <td>7.577314</td>\n",
              "      <td>6.286584</td>\n",
              "      <td>11.132405</td>\n",
              "      <td>7.832752</td>\n",
              "      <td>5.353870</td>\n",
              "      <td>8.271668</td>\n",
              "      <td>11.193528</td>\n",
              "      <td>2.020183</td>\n",
              "      <td>4.501853</td>\n",
              "      <td>3.112750</td>\n",
              "      <td>3.405506</td>\n",
              "      <td>Confident</td>\n",
              "    </tr>\n",
              "    <tr>\n",
              "      <th>3</th>\n",
              "      <td>Athens Cries</td>\n",
              "      <td>143.554688</td>\n",
              "      <td>69</td>\n",
              "      <td>0.385627</td>\n",
              "      <td>0.261602</td>\n",
              "      <td>1592.712203</td>\n",
              "      <td>1998.239567</td>\n",
              "      <td>3605.469865</td>\n",
              "      <td>0.059924</td>\n",
              "      <td>-87.906665</td>\n",
              "      <td>131.252264</td>\n",
              "      <td>6.301842</td>\n",
              "      <td>32.313671</td>\n",
              "      <td>-7.072945</td>\n",
              "      <td>9.642433</td>\n",
              "      <td>-7.737952</td>\n",
              "      <td>0.161612</td>\n",
              "      <td>-8.869313</td>\n",
              "      <td>12.088554</td>\n",
              "      <td>0.840207</td>\n",
              "      <td>6.772208</td>\n",
              "      <td>-6.314233</td>\n",
              "      <td>-4.948363</td>\n",
              "      <td>-3.473945</td>\n",
              "      <td>2.060113</td>\n",
              "      <td>3.296188</td>\n",
              "      <td>-0.015180</td>\n",
              "      <td>-12.577012</td>\n",
              "      <td>-4.838617</td>\n",
              "      <td>Confident</td>\n",
              "    </tr>\n",
              "    <tr>\n",
              "      <th>4</th>\n",
              "      <td>Shapeshifter</td>\n",
              "      <td>129.199219</td>\n",
              "      <td>63</td>\n",
              "      <td>0.425525</td>\n",
              "      <td>0.176816</td>\n",
              "      <td>3092.921102</td>\n",
              "      <td>2762.405287</td>\n",
              "      <td>6036.288499</td>\n",
              "      <td>0.135487</td>\n",
              "      <td>-223.946113</td>\n",
              "      <td>33.923914</td>\n",
              "      <td>36.224001</td>\n",
              "      <td>20.640799</td>\n",
              "      <td>19.369684</td>\n",
              "      <td>30.955888</td>\n",
              "      <td>8.870429</td>\n",
              "      <td>30.674634</td>\n",
              "      <td>10.799718</td>\n",
              "      <td>14.864950</td>\n",
              "      <td>0.549010</td>\n",
              "      <td>3.086847</td>\n",
              "      <td>-6.385410</td>\n",
              "      <td>-2.679980</td>\n",
              "      <td>2.410236</td>\n",
              "      <td>-1.781093</td>\n",
              "      <td>0.795851</td>\n",
              "      <td>13.119068</td>\n",
              "      <td>10.983838</td>\n",
              "      <td>6.026884</td>\n",
              "      <td>Confident</td>\n",
              "    </tr>\n",
              "    <tr>\n",
              "      <th>...</th>\n",
              "      <td>...</td>\n",
              "      <td>...</td>\n",
              "      <td>...</td>\n",
              "      <td>...</td>\n",
              "      <td>...</td>\n",
              "      <td>...</td>\n",
              "      <td>...</td>\n",
              "      <td>...</td>\n",
              "      <td>...</td>\n",
              "      <td>...</td>\n",
              "      <td>...</td>\n",
              "      <td>...</td>\n",
              "      <td>...</td>\n",
              "      <td>...</td>\n",
              "      <td>...</td>\n",
              "      <td>...</td>\n",
              "      <td>...</td>\n",
              "      <td>...</td>\n",
              "      <td>...</td>\n",
              "      <td>...</td>\n",
              "      <td>...</td>\n",
              "      <td>...</td>\n",
              "      <td>...</td>\n",
              "      <td>...</td>\n",
              "      <td>...</td>\n",
              "      <td>...</td>\n",
              "      <td>...</td>\n",
              "      <td>...</td>\n",
              "      <td>...</td>\n",
              "      <td>...</td>\n",
              "    </tr>\n",
              "    <tr>\n",
              "      <th>94</th>\n",
              "      <td>Sarmacja - Cynaderki</td>\n",
              "      <td>80.749512</td>\n",
              "      <td>38</td>\n",
              "      <td>0.453314</td>\n",
              "      <td>0.205054</td>\n",
              "      <td>884.390094</td>\n",
              "      <td>1104.500203</td>\n",
              "      <td>1614.356905</td>\n",
              "      <td>0.035896</td>\n",
              "      <td>-223.048365</td>\n",
              "      <td>152.548663</td>\n",
              "      <td>29.672885</td>\n",
              "      <td>35.496525</td>\n",
              "      <td>19.232330</td>\n",
              "      <td>9.977057</td>\n",
              "      <td>7.091543</td>\n",
              "      <td>6.442884</td>\n",
              "      <td>2.268037</td>\n",
              "      <td>1.478603</td>\n",
              "      <td>0.637312</td>\n",
              "      <td>-0.261527</td>\n",
              "      <td>-3.625444</td>\n",
              "      <td>-3.025295</td>\n",
              "      <td>-3.074233</td>\n",
              "      <td>-3.492746</td>\n",
              "      <td>-6.851616</td>\n",
              "      <td>-4.327093</td>\n",
              "      <td>-2.277217</td>\n",
              "      <td>-2.037157</td>\n",
              "      <td>Tension</td>\n",
              "    </tr>\n",
              "    <tr>\n",
              "      <th>95</th>\n",
              "      <td>Лоу</td>\n",
              "      <td>129.199219</td>\n",
              "      <td>61</td>\n",
              "      <td>0.522806</td>\n",
              "      <td>0.177458</td>\n",
              "      <td>4075.716430</td>\n",
              "      <td>2798.747820</td>\n",
              "      <td>7076.565542</td>\n",
              "      <td>0.191531</td>\n",
              "      <td>-153.242769</td>\n",
              "      <td>37.092564</td>\n",
              "      <td>33.241103</td>\n",
              "      <td>11.618826</td>\n",
              "      <td>21.727888</td>\n",
              "      <td>23.499125</td>\n",
              "      <td>-3.755064</td>\n",
              "      <td>20.956674</td>\n",
              "      <td>-3.508249</td>\n",
              "      <td>16.251446</td>\n",
              "      <td>1.250425</td>\n",
              "      <td>8.593755</td>\n",
              "      <td>1.157226</td>\n",
              "      <td>9.575495</td>\n",
              "      <td>3.788805</td>\n",
              "      <td>4.539629</td>\n",
              "      <td>0.625412</td>\n",
              "      <td>3.455150</td>\n",
              "      <td>-0.611427</td>\n",
              "      <td>1.061213</td>\n",
              "      <td>Tension</td>\n",
              "    </tr>\n",
              "    <tr>\n",
              "      <th>96</th>\n",
              "      <td>Caged in stammheim</td>\n",
              "      <td>135.999178</td>\n",
              "      <td>67</td>\n",
              "      <td>0.388176</td>\n",
              "      <td>0.181720</td>\n",
              "      <td>603.337877</td>\n",
              "      <td>1105.043495</td>\n",
              "      <td>942.277636</td>\n",
              "      <td>0.020780</td>\n",
              "      <td>-295.150613</td>\n",
              "      <td>157.089556</td>\n",
              "      <td>40.611679</td>\n",
              "      <td>-3.695379</td>\n",
              "      <td>2.156582</td>\n",
              "      <td>10.924476</td>\n",
              "      <td>3.940250</td>\n",
              "      <td>-3.961921</td>\n",
              "      <td>-4.527246</td>\n",
              "      <td>0.341848</td>\n",
              "      <td>2.376896</td>\n",
              "      <td>1.058359</td>\n",
              "      <td>0.448048</td>\n",
              "      <td>2.513940</td>\n",
              "      <td>1.139295</td>\n",
              "      <td>-3.454747</td>\n",
              "      <td>-7.435848</td>\n",
              "      <td>-6.594796</td>\n",
              "      <td>-4.418295</td>\n",
              "      <td>-1.304541</td>\n",
              "      <td>Tension</td>\n",
              "    </tr>\n",
              "    <tr>\n",
              "      <th>97</th>\n",
              "      <td>Oscillate</td>\n",
              "      <td>129.199219</td>\n",
              "      <td>63</td>\n",
              "      <td>0.442715</td>\n",
              "      <td>0.125012</td>\n",
              "      <td>1700.870837</td>\n",
              "      <td>1865.855285</td>\n",
              "      <td>3670.986135</td>\n",
              "      <td>0.059466</td>\n",
              "      <td>-283.850897</td>\n",
              "      <td>114.584261</td>\n",
              "      <td>63.520693</td>\n",
              "      <td>20.710021</td>\n",
              "      <td>14.095406</td>\n",
              "      <td>21.019210</td>\n",
              "      <td>0.923079</td>\n",
              "      <td>14.768712</td>\n",
              "      <td>4.998399</td>\n",
              "      <td>13.626164</td>\n",
              "      <td>-0.685662</td>\n",
              "      <td>5.664677</td>\n",
              "      <td>-1.577349</td>\n",
              "      <td>6.507424</td>\n",
              "      <td>3.339893</td>\n",
              "      <td>5.096813</td>\n",
              "      <td>3.468092</td>\n",
              "      <td>3.860076</td>\n",
              "      <td>1.945931</td>\n",
              "      <td>-2.460686</td>\n",
              "      <td>Tension</td>\n",
              "    </tr>\n",
              "    <tr>\n",
              "      <th>98</th>\n",
              "      <td>Lines Describing A Circle</td>\n",
              "      <td>61.523438</td>\n",
              "      <td>29</td>\n",
              "      <td>0.555297</td>\n",
              "      <td>0.290297</td>\n",
              "      <td>367.980409</td>\n",
              "      <td>1260.766436</td>\n",
              "      <td>248.815162</td>\n",
              "      <td>0.005732</td>\n",
              "      <td>-338.331724</td>\n",
              "      <td>140.992055</td>\n",
              "      <td>74.078674</td>\n",
              "      <td>34.590441</td>\n",
              "      <td>29.296778</td>\n",
              "      <td>24.056071</td>\n",
              "      <td>22.479719</td>\n",
              "      <td>16.380739</td>\n",
              "      <td>16.593547</td>\n",
              "      <td>10.821955</td>\n",
              "      <td>7.898995</td>\n",
              "      <td>9.656111</td>\n",
              "      <td>6.841354</td>\n",
              "      <td>8.369257</td>\n",
              "      <td>4.528475</td>\n",
              "      <td>5.799744</td>\n",
              "      <td>2.844007</td>\n",
              "      <td>4.778844</td>\n",
              "      <td>2.865556</td>\n",
              "      <td>6.541792</td>\n",
              "      <td>Tension</td>\n",
              "    </tr>\n",
              "  </tbody>\n",
              "</table>\n",
              "<p>391 rows × 30 columns</p>\n",
              "</div>"
            ],
            "text/plain": [
              "                                     name       tempo  ...    mfcc20    emotion\n",
              "0                    Bloodied and a Mess   117.453835  ...  9.043216  Confident\n",
              "1                        Red Horizon Acid  123.046875  ...  0.646349  Confident\n",
              "2   Uno y Dos (Jonathan Kusuma Remix One)   58.726918  ...  3.405506  Confident\n",
              "3                            Athens Cries  143.554688  ... -4.838617  Confident\n",
              "4                            Shapeshifter  129.199219  ...  6.026884  Confident\n",
              "..                                    ...         ...  ...       ...        ...\n",
              "94                   Sarmacja - Cynaderki   80.749512  ... -2.037157    Tension\n",
              "95                                    Лоу  129.199219  ...  1.061213    Tension\n",
              "96                     Caged in stammheim  135.999178  ... -1.304541    Tension\n",
              "97                              Oscillate  129.199219  ... -2.460686    Tension\n",
              "98              Lines Describing A Circle   61.523438  ...  6.541792    Tension\n",
              "\n",
              "[391 rows x 30 columns]"
            ]
          },
          "metadata": {
            "tags": []
          },
          "execution_count": 10
        }
      ]
    },
    {
      "cell_type": "markdown",
      "metadata": {
        "id": "TFzKzpcjDpWZ",
        "colab_type": "text"
      },
      "source": [
        "Let's shuffle the dataset so the various rows from the various emotions are mixed."
      ]
    },
    {
      "cell_type": "code",
      "metadata": {
        "id": "d-oGn4dU70CK",
        "colab_type": "code",
        "colab": {}
      },
      "source": [
        "data_new = data3.sample(frac=1).reset_index(drop=True)\n"
      ],
      "execution_count": null,
      "outputs": []
    },
    {
      "cell_type": "code",
      "metadata": {
        "id": "xF3P-8jrC5uL",
        "colab_type": "code",
        "colab": {
          "base_uri": "https://localhost:8080/",
          "height": 34
        },
        "outputId": "36eee161-e6ec-4f80-af54-91687d83dae8"
      },
      "source": [
        "data_new.shape"
      ],
      "execution_count": null,
      "outputs": [
        {
          "output_type": "execute_result",
          "data": {
            "text/plain": [
              "(391, 30)"
            ]
          },
          "metadata": {
            "tags": []
          },
          "execution_count": 12
        }
      ]
    },
    {
      "cell_type": "code",
      "metadata": {
        "id": "2bYQ44TxDdDI",
        "colab_type": "code",
        "colab": {
          "base_uri": "https://localhost:8080/",
          "height": 512
        },
        "outputId": "47c532a2-7b99-4633-d1c9-28044a19e358"
      },
      "source": [
        "data_new.describe(include='all')"
      ],
      "execution_count": null,
      "outputs": [
        {
          "output_type": "execute_result",
          "data": {
            "text/html": [
              "<div>\n",
              "<style scoped>\n",
              "    .dataframe tbody tr th:only-of-type {\n",
              "        vertical-align: middle;\n",
              "    }\n",
              "\n",
              "    .dataframe tbody tr th {\n",
              "        vertical-align: top;\n",
              "    }\n",
              "\n",
              "    .dataframe thead th {\n",
              "        text-align: right;\n",
              "    }\n",
              "</style>\n",
              "<table border=\"1\" class=\"dataframe\">\n",
              "  <thead>\n",
              "    <tr style=\"text-align: right;\">\n",
              "      <th></th>\n",
              "      <th>name</th>\n",
              "      <th>tempo</th>\n",
              "      <th>beats</th>\n",
              "      <th>chroma_stft</th>\n",
              "      <th>rmse</th>\n",
              "      <th>spectral_centroid</th>\n",
              "      <th>spectral_bandwidth</th>\n",
              "      <th>rollof</th>\n",
              "      <th>zero_crossing_rate</th>\n",
              "      <th>mfcc1</th>\n",
              "      <th>mfcc2</th>\n",
              "      <th>mfcc3</th>\n",
              "      <th>mfcc4</th>\n",
              "      <th>mfcc5</th>\n",
              "      <th>mfcc6</th>\n",
              "      <th>mfcc7</th>\n",
              "      <th>mfcc8</th>\n",
              "      <th>mfcc9</th>\n",
              "      <th>mfcc10</th>\n",
              "      <th>mfcc11</th>\n",
              "      <th>mfcc12</th>\n",
              "      <th>mfcc13</th>\n",
              "      <th>mfcc14</th>\n",
              "      <th>mfcc15</th>\n",
              "      <th>mfcc16</th>\n",
              "      <th>mfcc17</th>\n",
              "      <th>mfcc18</th>\n",
              "      <th>mfcc19</th>\n",
              "      <th>mfcc20</th>\n",
              "      <th>emotion</th>\n",
              "    </tr>\n",
              "  </thead>\n",
              "  <tbody>\n",
              "    <tr>\n",
              "      <th>count</th>\n",
              "      <td>388</td>\n",
              "      <td>391.000000</td>\n",
              "      <td>391.000000</td>\n",
              "      <td>391.000000</td>\n",
              "      <td>391.000000</td>\n",
              "      <td>391.000000</td>\n",
              "      <td>391.000000</td>\n",
              "      <td>391.000000</td>\n",
              "      <td>391.000000</td>\n",
              "      <td>391.000000</td>\n",
              "      <td>391.000000</td>\n",
              "      <td>391.000000</td>\n",
              "      <td>391.000000</td>\n",
              "      <td>391.000000</td>\n",
              "      <td>391.000000</td>\n",
              "      <td>391.000000</td>\n",
              "      <td>391.000000</td>\n",
              "      <td>391.000000</td>\n",
              "      <td>391.000000</td>\n",
              "      <td>391.000000</td>\n",
              "      <td>391.000000</td>\n",
              "      <td>391.000000</td>\n",
              "      <td>391.000000</td>\n",
              "      <td>391.000000</td>\n",
              "      <td>391.000000</td>\n",
              "      <td>391.000000</td>\n",
              "      <td>391.000000</td>\n",
              "      <td>391.000000</td>\n",
              "      <td>391.000000</td>\n",
              "      <td>391</td>\n",
              "    </tr>\n",
              "    <tr>\n",
              "      <th>unique</th>\n",
              "      <td>386</td>\n",
              "      <td>NaN</td>\n",
              "      <td>NaN</td>\n",
              "      <td>NaN</td>\n",
              "      <td>NaN</td>\n",
              "      <td>NaN</td>\n",
              "      <td>NaN</td>\n",
              "      <td>NaN</td>\n",
              "      <td>NaN</td>\n",
              "      <td>NaN</td>\n",
              "      <td>NaN</td>\n",
              "      <td>NaN</td>\n",
              "      <td>NaN</td>\n",
              "      <td>NaN</td>\n",
              "      <td>NaN</td>\n",
              "      <td>NaN</td>\n",
              "      <td>NaN</td>\n",
              "      <td>NaN</td>\n",
              "      <td>NaN</td>\n",
              "      <td>NaN</td>\n",
              "      <td>NaN</td>\n",
              "      <td>NaN</td>\n",
              "      <td>NaN</td>\n",
              "      <td>NaN</td>\n",
              "      <td>NaN</td>\n",
              "      <td>NaN</td>\n",
              "      <td>NaN</td>\n",
              "      <td>NaN</td>\n",
              "      <td>NaN</td>\n",
              "      <td>4</td>\n",
              "    </tr>\n",
              "    <tr>\n",
              "      <th>top</th>\n",
              "      <td>Of The Earth And Of The Sea</td>\n",
              "      <td>NaN</td>\n",
              "      <td>NaN</td>\n",
              "      <td>NaN</td>\n",
              "      <td>NaN</td>\n",
              "      <td>NaN</td>\n",
              "      <td>NaN</td>\n",
              "      <td>NaN</td>\n",
              "      <td>NaN</td>\n",
              "      <td>NaN</td>\n",
              "      <td>NaN</td>\n",
              "      <td>NaN</td>\n",
              "      <td>NaN</td>\n",
              "      <td>NaN</td>\n",
              "      <td>NaN</td>\n",
              "      <td>NaN</td>\n",
              "      <td>NaN</td>\n",
              "      <td>NaN</td>\n",
              "      <td>NaN</td>\n",
              "      <td>NaN</td>\n",
              "      <td>NaN</td>\n",
              "      <td>NaN</td>\n",
              "      <td>NaN</td>\n",
              "      <td>NaN</td>\n",
              "      <td>NaN</td>\n",
              "      <td>NaN</td>\n",
              "      <td>NaN</td>\n",
              "      <td>NaN</td>\n",
              "      <td>NaN</td>\n",
              "      <td>Positive</td>\n",
              "    </tr>\n",
              "    <tr>\n",
              "      <th>freq</th>\n",
              "      <td>2</td>\n",
              "      <td>NaN</td>\n",
              "      <td>NaN</td>\n",
              "      <td>NaN</td>\n",
              "      <td>NaN</td>\n",
              "      <td>NaN</td>\n",
              "      <td>NaN</td>\n",
              "      <td>NaN</td>\n",
              "      <td>NaN</td>\n",
              "      <td>NaN</td>\n",
              "      <td>NaN</td>\n",
              "      <td>NaN</td>\n",
              "      <td>NaN</td>\n",
              "      <td>NaN</td>\n",
              "      <td>NaN</td>\n",
              "      <td>NaN</td>\n",
              "      <td>NaN</td>\n",
              "      <td>NaN</td>\n",
              "      <td>NaN</td>\n",
              "      <td>NaN</td>\n",
              "      <td>NaN</td>\n",
              "      <td>NaN</td>\n",
              "      <td>NaN</td>\n",
              "      <td>NaN</td>\n",
              "      <td>NaN</td>\n",
              "      <td>NaN</td>\n",
              "      <td>NaN</td>\n",
              "      <td>NaN</td>\n",
              "      <td>NaN</td>\n",
              "      <td>99</td>\n",
              "    </tr>\n",
              "    <tr>\n",
              "      <th>mean</th>\n",
              "      <td>NaN</td>\n",
              "      <td>117.688932</td>\n",
              "      <td>54.813299</td>\n",
              "      <td>0.413493</td>\n",
              "      <td>0.173629</td>\n",
              "      <td>1649.300583</td>\n",
              "      <td>1914.810709</td>\n",
              "      <td>3329.987887</td>\n",
              "      <td>0.066535</td>\n",
              "      <td>-211.714459</td>\n",
              "      <td>116.351309</td>\n",
              "      <td>18.719225</td>\n",
              "      <td>26.655673</td>\n",
              "      <td>7.508739</td>\n",
              "      <td>10.660806</td>\n",
              "      <td>1.164143</td>\n",
              "      <td>4.789296</td>\n",
              "      <td>-1.790618</td>\n",
              "      <td>2.520138</td>\n",
              "      <td>-2.540401</td>\n",
              "      <td>1.121123</td>\n",
              "      <td>-2.761409</td>\n",
              "      <td>0.723129</td>\n",
              "      <td>-3.005004</td>\n",
              "      <td>0.774060</td>\n",
              "      <td>-2.828013</td>\n",
              "      <td>0.699418</td>\n",
              "      <td>-2.490130</td>\n",
              "      <td>0.914167</td>\n",
              "      <td>NaN</td>\n",
              "    </tr>\n",
              "    <tr>\n",
              "      <th>std</th>\n",
              "      <td>NaN</td>\n",
              "      <td>31.182868</td>\n",
              "      <td>15.662086</td>\n",
              "      <td>0.113144</td>\n",
              "      <td>0.087646</td>\n",
              "      <td>858.469994</td>\n",
              "      <td>671.319046</td>\n",
              "      <td>1864.982685</td>\n",
              "      <td>0.046992</td>\n",
              "      <td>99.094614</td>\n",
              "      <td>48.228210</td>\n",
              "      <td>31.448972</td>\n",
              "      <td>17.162291</td>\n",
              "      <td>15.126805</td>\n",
              "      <td>13.291961</td>\n",
              "      <td>11.106598</td>\n",
              "      <td>10.895118</td>\n",
              "      <td>9.151503</td>\n",
              "      <td>9.012504</td>\n",
              "      <td>8.394335</td>\n",
              "      <td>7.915988</td>\n",
              "      <td>6.734472</td>\n",
              "      <td>6.714893</td>\n",
              "      <td>6.002492</td>\n",
              "      <td>6.445804</td>\n",
              "      <td>5.635288</td>\n",
              "      <td>5.590752</td>\n",
              "      <td>5.244159</td>\n",
              "      <td>4.986380</td>\n",
              "      <td>NaN</td>\n",
              "    </tr>\n",
              "    <tr>\n",
              "      <th>min</th>\n",
              "      <td>NaN</td>\n",
              "      <td>0.000000</td>\n",
              "      <td>0.000000</td>\n",
              "      <td>0.167572</td>\n",
              "      <td>0.003379</td>\n",
              "      <td>160.151882</td>\n",
              "      <td>309.781087</td>\n",
              "      <td>150.232425</td>\n",
              "      <td>0.001166</td>\n",
              "      <td>-536.566568</td>\n",
              "      <td>-17.784165</td>\n",
              "      <td>-77.955672</td>\n",
              "      <td>-51.191254</td>\n",
              "      <td>-49.604772</td>\n",
              "      <td>-45.550347</td>\n",
              "      <td>-45.205065</td>\n",
              "      <td>-34.904867</td>\n",
              "      <td>-32.142347</td>\n",
              "      <td>-33.563884</td>\n",
              "      <td>-36.941242</td>\n",
              "      <td>-32.270239</td>\n",
              "      <td>-27.796677</td>\n",
              "      <td>-21.424221</td>\n",
              "      <td>-26.403043</td>\n",
              "      <td>-21.605639</td>\n",
              "      <td>-20.098717</td>\n",
              "      <td>-17.687216</td>\n",
              "      <td>-18.790631</td>\n",
              "      <td>-15.570778</td>\n",
              "      <td>NaN</td>\n",
              "    </tr>\n",
              "    <tr>\n",
              "      <th>25%</th>\n",
              "      <td>NaN</td>\n",
              "      <td>99.384014</td>\n",
              "      <td>47.000000</td>\n",
              "      <td>0.327581</td>\n",
              "      <td>0.108447</td>\n",
              "      <td>976.644893</td>\n",
              "      <td>1411.700942</td>\n",
              "      <td>1801.222442</td>\n",
              "      <td>0.032943</td>\n",
              "      <td>-274.110989</td>\n",
              "      <td>83.186083</td>\n",
              "      <td>-2.468340</td>\n",
              "      <td>16.473103</td>\n",
              "      <td>-0.962427</td>\n",
              "      <td>2.033889</td>\n",
              "      <td>-5.055393</td>\n",
              "      <td>-1.816152</td>\n",
              "      <td>-7.419437</td>\n",
              "      <td>-2.554223</td>\n",
              "      <td>-7.502378</td>\n",
              "      <td>-3.398208</td>\n",
              "      <td>-6.654591</td>\n",
              "      <td>-2.998483</td>\n",
              "      <td>-6.288839</td>\n",
              "      <td>-3.199297</td>\n",
              "      <td>-5.991079</td>\n",
              "      <td>-2.336254</td>\n",
              "      <td>-5.868067</td>\n",
              "      <td>-2.119212</td>\n",
              "      <td>NaN</td>\n",
              "    </tr>\n",
              "    <tr>\n",
              "      <th>50%</th>\n",
              "      <td>NaN</td>\n",
              "      <td>117.453835</td>\n",
              "      <td>58.000000</td>\n",
              "      <td>0.416240</td>\n",
              "      <td>0.174270</td>\n",
              "      <td>1548.219102</td>\n",
              "      <td>2003.556430</td>\n",
              "      <td>3221.697186</td>\n",
              "      <td>0.052452</td>\n",
              "      <td>-197.467323</td>\n",
              "      <td>115.781487</td>\n",
              "      <td>17.608768</td>\n",
              "      <td>28.051457</td>\n",
              "      <td>8.629889</td>\n",
              "      <td>11.458666</td>\n",
              "      <td>2.364839</td>\n",
              "      <td>5.964901</td>\n",
              "      <td>-1.015151</td>\n",
              "      <td>3.222341</td>\n",
              "      <td>-1.805980</td>\n",
              "      <td>1.984570</td>\n",
              "      <td>-2.664840</td>\n",
              "      <td>0.927080</td>\n",
              "      <td>-3.033717</td>\n",
              "      <td>1.703578</td>\n",
              "      <td>-2.986727</td>\n",
              "      <td>1.169717</td>\n",
              "      <td>-2.180686</td>\n",
              "      <td>1.127655</td>\n",
              "      <td>NaN</td>\n",
              "    </tr>\n",
              "    <tr>\n",
              "      <th>75%</th>\n",
              "      <td>NaN</td>\n",
              "      <td>129.199219</td>\n",
              "      <td>62.000000</td>\n",
              "      <td>0.495503</td>\n",
              "      <td>0.229909</td>\n",
              "      <td>2207.529121</td>\n",
              "      <td>2414.130980</td>\n",
              "      <td>4830.766622</td>\n",
              "      <td>0.083045</td>\n",
              "      <td>-138.661452</td>\n",
              "      <td>146.995192</td>\n",
              "      <td>37.177983</td>\n",
              "      <td>38.555770</td>\n",
              "      <td>17.616998</td>\n",
              "      <td>20.089369</td>\n",
              "      <td>8.826007</td>\n",
              "      <td>12.080094</td>\n",
              "      <td>4.555461</td>\n",
              "      <td>8.736582</td>\n",
              "      <td>2.947535</td>\n",
              "      <td>6.739133</td>\n",
              "      <td>1.852208</td>\n",
              "      <td>4.872331</td>\n",
              "      <td>1.156434</td>\n",
              "      <td>4.901017</td>\n",
              "      <td>1.051457</td>\n",
              "      <td>4.329713</td>\n",
              "      <td>0.434568</td>\n",
              "      <td>4.386380</td>\n",
              "      <td>NaN</td>\n",
              "    </tr>\n",
              "    <tr>\n",
              "      <th>max</th>\n",
              "      <td>NaN</td>\n",
              "      <td>287.109375</td>\n",
              "      <td>113.000000</td>\n",
              "      <td>0.680068</td>\n",
              "      <td>0.449532</td>\n",
              "      <td>4075.716430</td>\n",
              "      <td>3439.872785</td>\n",
              "      <td>7546.637700</td>\n",
              "      <td>0.304781</td>\n",
              "      <td>-11.301350</td>\n",
              "      <td>259.730908</td>\n",
              "      <td>108.573449</td>\n",
              "      <td>72.358915</td>\n",
              "      <td>51.655488</td>\n",
              "      <td>48.070206</td>\n",
              "      <td>28.718304</td>\n",
              "      <td>35.395347</td>\n",
              "      <td>26.480895</td>\n",
              "      <td>25.519382</td>\n",
              "      <td>22.543847</td>\n",
              "      <td>24.956443</td>\n",
              "      <td>17.724297</td>\n",
              "      <td>26.705174</td>\n",
              "      <td>12.916759</td>\n",
              "      <td>20.922932</td>\n",
              "      <td>13.419151</td>\n",
              "      <td>19.961629</td>\n",
              "      <td>18.850060</td>\n",
              "      <td>19.844187</td>\n",
              "      <td>NaN</td>\n",
              "    </tr>\n",
              "  </tbody>\n",
              "</table>\n",
              "</div>"
            ],
            "text/plain": [
              "                               name       tempo  ...      mfcc20   emotion\n",
              "count                           388  391.000000  ...  391.000000       391\n",
              "unique                          386         NaN  ...         NaN         4\n",
              "top     Of The Earth And Of The Sea         NaN  ...         NaN  Positive\n",
              "freq                              2         NaN  ...         NaN        99\n",
              "mean                            NaN  117.688932  ...    0.914167       NaN\n",
              "std                             NaN   31.182868  ...    4.986380       NaN\n",
              "min                             NaN    0.000000  ...  -15.570778       NaN\n",
              "25%                             NaN   99.384014  ...   -2.119212       NaN\n",
              "50%                             NaN  117.453835  ...    1.127655       NaN\n",
              "75%                             NaN  129.199219  ...    4.386380       NaN\n",
              "max                             NaN  287.109375  ...   19.844187       NaN\n",
              "\n",
              "[11 rows x 30 columns]"
            ]
          },
          "metadata": {
            "tags": []
          },
          "execution_count": 13
        }
      ]
    },
    {
      "cell_type": "markdown",
      "metadata": {
        "id": "YF7JN8RIEAgf",
        "colab_type": "text"
      },
      "source": [
        "### Preprocessing before testing"
      ]
    },
    {
      "cell_type": "code",
      "metadata": {
        "id": "AAqlodVdDLIq",
        "colab_type": "code",
        "colab": {}
      },
      "source": [
        "data_new = data_new.drop('name', axis=1)"
      ],
      "execution_count": null,
      "outputs": []
    },
    {
      "cell_type": "code",
      "metadata": {
        "id": "MTjn1yMND5wk",
        "colab_type": "code",
        "colab": {}
      },
      "source": [
        "y = data_new['emotion']\n",
        "X = data_new.drop('emotion', axis=1)"
      ],
      "execution_count": null,
      "outputs": []
    },
    {
      "cell_type": "code",
      "metadata": {
        "id": "JY45os54GN2q",
        "colab_type": "code",
        "colab": {
          "base_uri": "https://localhost:8080/",
          "height": 221
        },
        "outputId": "1c13f2ec-d0e9-45db-bb1c-eba048685da9"
      },
      "source": [
        "y"
      ],
      "execution_count": null,
      "outputs": [
        {
          "output_type": "execute_result",
          "data": {
            "text/plain": [
              "0      Reflective\n",
              "1       Confident\n",
              "2       Confident\n",
              "3      Reflective\n",
              "4       Confident\n",
              "          ...    \n",
              "386     Confident\n",
              "387    Reflective\n",
              "388      Positive\n",
              "389     Confident\n",
              "390       Tension\n",
              "Name: emotion, Length: 391, dtype: object"
            ]
          },
          "metadata": {
            "tags": []
          },
          "execution_count": 17
        }
      ]
    },
    {
      "cell_type": "code",
      "metadata": {
        "id": "1dxTLdLYGsnd",
        "colab_type": "code",
        "colab": {
          "base_uri": "https://localhost:8080/",
          "height": 439
        },
        "outputId": "d497caa1-ea26-4f40-bf4d-408af11b6fd4"
      },
      "source": [
        "X"
      ],
      "execution_count": null,
      "outputs": [
        {
          "output_type": "execute_result",
          "data": {
            "text/html": [
              "<div>\n",
              "<style scoped>\n",
              "    .dataframe tbody tr th:only-of-type {\n",
              "        vertical-align: middle;\n",
              "    }\n",
              "\n",
              "    .dataframe tbody tr th {\n",
              "        vertical-align: top;\n",
              "    }\n",
              "\n",
              "    .dataframe thead th {\n",
              "        text-align: right;\n",
              "    }\n",
              "</style>\n",
              "<table border=\"1\" class=\"dataframe\">\n",
              "  <thead>\n",
              "    <tr style=\"text-align: right;\">\n",
              "      <th></th>\n",
              "      <th>tempo</th>\n",
              "      <th>beats</th>\n",
              "      <th>chroma_stft</th>\n",
              "      <th>rmse</th>\n",
              "      <th>spectral_centroid</th>\n",
              "      <th>spectral_bandwidth</th>\n",
              "      <th>rollof</th>\n",
              "      <th>zero_crossing_rate</th>\n",
              "      <th>mfcc1</th>\n",
              "      <th>mfcc2</th>\n",
              "      <th>mfcc3</th>\n",
              "      <th>mfcc4</th>\n",
              "      <th>mfcc5</th>\n",
              "      <th>mfcc6</th>\n",
              "      <th>mfcc7</th>\n",
              "      <th>mfcc8</th>\n",
              "      <th>mfcc9</th>\n",
              "      <th>mfcc10</th>\n",
              "      <th>mfcc11</th>\n",
              "      <th>mfcc12</th>\n",
              "      <th>mfcc13</th>\n",
              "      <th>mfcc14</th>\n",
              "      <th>mfcc15</th>\n",
              "      <th>mfcc16</th>\n",
              "      <th>mfcc17</th>\n",
              "      <th>mfcc18</th>\n",
              "      <th>mfcc19</th>\n",
              "      <th>mfcc20</th>\n",
              "    </tr>\n",
              "  </thead>\n",
              "  <tbody>\n",
              "    <tr>\n",
              "      <th>0</th>\n",
              "      <td>117.453835</td>\n",
              "      <td>57</td>\n",
              "      <td>0.264294</td>\n",
              "      <td>0.078524</td>\n",
              "      <td>2228.094794</td>\n",
              "      <td>2263.528903</td>\n",
              "      <td>4632.130323</td>\n",
              "      <td>0.099939</td>\n",
              "      <td>-201.047504</td>\n",
              "      <td>87.480646</td>\n",
              "      <td>-8.169413</td>\n",
              "      <td>7.370563</td>\n",
              "      <td>-38.558796</td>\n",
              "      <td>-3.580004</td>\n",
              "      <td>-24.926351</td>\n",
              "      <td>-6.443654</td>\n",
              "      <td>-28.138811</td>\n",
              "      <td>-9.813254</td>\n",
              "      <td>-22.124963</td>\n",
              "      <td>-13.527396</td>\n",
              "      <td>-17.402434</td>\n",
              "      <td>-16.041350</td>\n",
              "      <td>-21.392398</td>\n",
              "      <td>-3.537473</td>\n",
              "      <td>-11.760275</td>\n",
              "      <td>-8.659555</td>\n",
              "      <td>-14.918732</td>\n",
              "      <td>3.342372</td>\n",
              "    </tr>\n",
              "    <tr>\n",
              "      <th>1</th>\n",
              "      <td>129.199219</td>\n",
              "      <td>63</td>\n",
              "      <td>0.459087</td>\n",
              "      <td>0.169012</td>\n",
              "      <td>3149.322664</td>\n",
              "      <td>3012.086017</td>\n",
              "      <td>6825.767059</td>\n",
              "      <td>0.134709</td>\n",
              "      <td>-88.764029</td>\n",
              "      <td>68.026926</td>\n",
              "      <td>23.921905</td>\n",
              "      <td>6.915152</td>\n",
              "      <td>-2.528234</td>\n",
              "      <td>6.387261</td>\n",
              "      <td>-13.086545</td>\n",
              "      <td>8.698787</td>\n",
              "      <td>-12.512765</td>\n",
              "      <td>4.676875</td>\n",
              "      <td>-6.482101</td>\n",
              "      <td>0.079006</td>\n",
              "      <td>-3.567685</td>\n",
              "      <td>-1.697177</td>\n",
              "      <td>-2.899144</td>\n",
              "      <td>1.389383</td>\n",
              "      <td>-0.452169</td>\n",
              "      <td>4.845464</td>\n",
              "      <td>-3.426572</td>\n",
              "      <td>0.261569</td>\n",
              "    </tr>\n",
              "    <tr>\n",
              "      <th>2</th>\n",
              "      <td>129.199219</td>\n",
              "      <td>62</td>\n",
              "      <td>0.441619</td>\n",
              "      <td>0.139223</td>\n",
              "      <td>1229.178372</td>\n",
              "      <td>1656.305156</td>\n",
              "      <td>2672.117175</td>\n",
              "      <td>0.045463</td>\n",
              "      <td>-162.469005</td>\n",
              "      <td>137.634643</td>\n",
              "      <td>-15.086683</td>\n",
              "      <td>59.723727</td>\n",
              "      <td>8.297144</td>\n",
              "      <td>3.597297</td>\n",
              "      <td>-7.703957</td>\n",
              "      <td>4.932853</td>\n",
              "      <td>-1.114100</td>\n",
              "      <td>-5.363147</td>\n",
              "      <td>-3.994691</td>\n",
              "      <td>-14.513641</td>\n",
              "      <td>-6.494643</td>\n",
              "      <td>-1.852210</td>\n",
              "      <td>-9.629753</td>\n",
              "      <td>-8.285088</td>\n",
              "      <td>-17.292330</td>\n",
              "      <td>-0.161415</td>\n",
              "      <td>-5.711220</td>\n",
              "      <td>-1.645795</td>\n",
              "    </tr>\n",
              "    <tr>\n",
              "      <th>3</th>\n",
              "      <td>129.199219</td>\n",
              "      <td>63</td>\n",
              "      <td>0.569743</td>\n",
              "      <td>0.285835</td>\n",
              "      <td>401.192489</td>\n",
              "      <td>1213.084878</td>\n",
              "      <td>366.772782</td>\n",
              "      <td>0.007102</td>\n",
              "      <td>-320.779487</td>\n",
              "      <td>126.421099</td>\n",
              "      <td>71.046447</td>\n",
              "      <td>53.999872</td>\n",
              "      <td>30.988914</td>\n",
              "      <td>22.407401</td>\n",
              "      <td>15.206023</td>\n",
              "      <td>11.604204</td>\n",
              "      <td>7.711415</td>\n",
              "      <td>4.641398</td>\n",
              "      <td>6.395415</td>\n",
              "      <td>10.562811</td>\n",
              "      <td>12.719151</td>\n",
              "      <td>13.664149</td>\n",
              "      <td>12.916759</td>\n",
              "      <td>10.434644</td>\n",
              "      <td>6.112429</td>\n",
              "      <td>4.276793</td>\n",
              "      <td>2.883070</td>\n",
              "      <td>0.672069</td>\n",
              "    </tr>\n",
              "    <tr>\n",
              "      <th>4</th>\n",
              "      <td>112.347147</td>\n",
              "      <td>56</td>\n",
              "      <td>0.279495</td>\n",
              "      <td>0.074425</td>\n",
              "      <td>585.023084</td>\n",
              "      <td>890.642075</td>\n",
              "      <td>676.187578</td>\n",
              "      <td>0.037248</td>\n",
              "      <td>-354.729737</td>\n",
              "      <td>204.659565</td>\n",
              "      <td>40.948955</td>\n",
              "      <td>7.127050</td>\n",
              "      <td>-8.670918</td>\n",
              "      <td>-13.667743</td>\n",
              "      <td>-39.382183</td>\n",
              "      <td>-24.786214</td>\n",
              "      <td>-17.992429</td>\n",
              "      <td>-8.909013</td>\n",
              "      <td>-17.368900</td>\n",
              "      <td>-16.167228</td>\n",
              "      <td>-15.071956</td>\n",
              "      <td>-9.390359</td>\n",
              "      <td>-9.484803</td>\n",
              "      <td>-7.463604</td>\n",
              "      <td>-6.549698</td>\n",
              "      <td>-4.095979</td>\n",
              "      <td>-3.644674</td>\n",
              "      <td>2.864398</td>\n",
              "    </tr>\n",
              "    <tr>\n",
              "      <th>...</th>\n",
              "      <td>...</td>\n",
              "      <td>...</td>\n",
              "      <td>...</td>\n",
              "      <td>...</td>\n",
              "      <td>...</td>\n",
              "      <td>...</td>\n",
              "      <td>...</td>\n",
              "      <td>...</td>\n",
              "      <td>...</td>\n",
              "      <td>...</td>\n",
              "      <td>...</td>\n",
              "      <td>...</td>\n",
              "      <td>...</td>\n",
              "      <td>...</td>\n",
              "      <td>...</td>\n",
              "      <td>...</td>\n",
              "      <td>...</td>\n",
              "      <td>...</td>\n",
              "      <td>...</td>\n",
              "      <td>...</td>\n",
              "      <td>...</td>\n",
              "      <td>...</td>\n",
              "      <td>...</td>\n",
              "      <td>...</td>\n",
              "      <td>...</td>\n",
              "      <td>...</td>\n",
              "      <td>...</td>\n",
              "      <td>...</td>\n",
              "    </tr>\n",
              "    <tr>\n",
              "      <th>188</th>\n",
              "      <td>123.046875</td>\n",
              "      <td>60</td>\n",
              "      <td>0.484381</td>\n",
              "      <td>0.088806</td>\n",
              "      <td>1627.414856</td>\n",
              "      <td>2071.566657</td>\n",
              "      <td>3356.029707</td>\n",
              "      <td>0.060313</td>\n",
              "      <td>-232.299800</td>\n",
              "      <td>123.288038</td>\n",
              "      <td>25.492084</td>\n",
              "      <td>39.674595</td>\n",
              "      <td>12.191278</td>\n",
              "      <td>15.742756</td>\n",
              "      <td>2.632334</td>\n",
              "      <td>5.894728</td>\n",
              "      <td>0.258212</td>\n",
              "      <td>5.125697</td>\n",
              "      <td>-2.886072</td>\n",
              "      <td>3.816754</td>\n",
              "      <td>1.470708</td>\n",
              "      <td>1.838566</td>\n",
              "      <td>-7.214194</td>\n",
              "      <td>3.886487</td>\n",
              "      <td>1.908902</td>\n",
              "      <td>4.960177</td>\n",
              "      <td>-0.705958</td>\n",
              "      <td>7.572167</td>\n",
              "    </tr>\n",
              "    <tr>\n",
              "      <th>189</th>\n",
              "      <td>103.359375</td>\n",
              "      <td>50</td>\n",
              "      <td>0.263616</td>\n",
              "      <td>0.031397</td>\n",
              "      <td>2408.236355</td>\n",
              "      <td>2671.516849</td>\n",
              "      <td>5195.751915</td>\n",
              "      <td>0.120941</td>\n",
              "      <td>-290.808401</td>\n",
              "      <td>103.774366</td>\n",
              "      <td>-1.269054</td>\n",
              "      <td>-1.037846</td>\n",
              "      <td>6.277075</td>\n",
              "      <td>8.325744</td>\n",
              "      <td>-4.699624</td>\n",
              "      <td>-12.189534</td>\n",
              "      <td>9.808455</td>\n",
              "      <td>-9.862361</td>\n",
              "      <td>3.010407</td>\n",
              "      <td>-6.124691</td>\n",
              "      <td>-3.532657</td>\n",
              "      <td>3.317651</td>\n",
              "      <td>-13.116406</td>\n",
              "      <td>7.699447</td>\n",
              "      <td>1.255098</td>\n",
              "      <td>-3.483090</td>\n",
              "      <td>8.350928</td>\n",
              "      <td>-1.538419</td>\n",
              "    </tr>\n",
              "    <tr>\n",
              "      <th>190</th>\n",
              "      <td>123.046875</td>\n",
              "      <td>60</td>\n",
              "      <td>0.435130</td>\n",
              "      <td>0.317375</td>\n",
              "      <td>1301.919833</td>\n",
              "      <td>2069.137027</td>\n",
              "      <td>2534.318009</td>\n",
              "      <td>0.031869</td>\n",
              "      <td>-186.081058</td>\n",
              "      <td>115.363819</td>\n",
              "      <td>69.581852</td>\n",
              "      <td>55.900432</td>\n",
              "      <td>-9.129655</td>\n",
              "      <td>7.931757</td>\n",
              "      <td>13.669158</td>\n",
              "      <td>9.982495</td>\n",
              "      <td>-6.327723</td>\n",
              "      <td>8.118750</td>\n",
              "      <td>11.812961</td>\n",
              "      <td>0.352220</td>\n",
              "      <td>-4.054354</td>\n",
              "      <td>4.278795</td>\n",
              "      <td>-10.041938</td>\n",
              "      <td>-2.480417</td>\n",
              "      <td>4.835897</td>\n",
              "      <td>-0.753463</td>\n",
              "      <td>-8.630863</td>\n",
              "      <td>-3.689159</td>\n",
              "    </tr>\n",
              "    <tr>\n",
              "      <th>191</th>\n",
              "      <td>99.384014</td>\n",
              "      <td>50</td>\n",
              "      <td>0.506650</td>\n",
              "      <td>0.234436</td>\n",
              "      <td>2078.998547</td>\n",
              "      <td>2687.149366</td>\n",
              "      <td>5008.803046</td>\n",
              "      <td>0.044348</td>\n",
              "      <td>-150.458003</td>\n",
              "      <td>110.445360</td>\n",
              "      <td>60.532543</td>\n",
              "      <td>6.334782</td>\n",
              "      <td>9.605530</td>\n",
              "      <td>33.000974</td>\n",
              "      <td>12.011865</td>\n",
              "      <td>12.592313</td>\n",
              "      <td>4.070430</td>\n",
              "      <td>8.602604</td>\n",
              "      <td>-0.626786</td>\n",
              "      <td>2.657216</td>\n",
              "      <td>-2.088505</td>\n",
              "      <td>1.777963</td>\n",
              "      <td>-2.160455</td>\n",
              "      <td>2.578194</td>\n",
              "      <td>-3.754567</td>\n",
              "      <td>1.532880</td>\n",
              "      <td>-2.414516</td>\n",
              "      <td>0.280983</td>\n",
              "    </tr>\n",
              "    <tr>\n",
              "      <th>192</th>\n",
              "      <td>107.666016</td>\n",
              "      <td>52</td>\n",
              "      <td>0.285666</td>\n",
              "      <td>0.165807</td>\n",
              "      <td>809.636217</td>\n",
              "      <td>832.344623</td>\n",
              "      <td>1239.584171</td>\n",
              "      <td>0.058100</td>\n",
              "      <td>-201.494511</td>\n",
              "      <td>229.503271</td>\n",
              "      <td>-28.176701</td>\n",
              "      <td>2.965122</td>\n",
              "      <td>-10.661290</td>\n",
              "      <td>-15.036033</td>\n",
              "      <td>-10.577313</td>\n",
              "      <td>-12.258130</td>\n",
              "      <td>-12.511912</td>\n",
              "      <td>-3.087939</td>\n",
              "      <td>-4.074385</td>\n",
              "      <td>-8.783052</td>\n",
              "      <td>-5.293292</td>\n",
              "      <td>-0.951837</td>\n",
              "      <td>-10.421741</td>\n",
              "      <td>-11.178844</td>\n",
              "      <td>-5.531610</td>\n",
              "      <td>-7.864514</td>\n",
              "      <td>-7.258458</td>\n",
              "      <td>-5.053123</td>\n",
              "    </tr>\n",
              "  </tbody>\n",
              "</table>\n",
              "<p>193 rows × 28 columns</p>\n",
              "</div>"
            ],
            "text/plain": [
              "          tempo  beats  chroma_stft  ...    mfcc18     mfcc19    mfcc20\n",
              "0    117.453835     57     0.264294  ... -8.659555 -14.918732  3.342372\n",
              "1    129.199219     63     0.459087  ...  4.845464  -3.426572  0.261569\n",
              "2    129.199219     62     0.441619  ... -0.161415  -5.711220 -1.645795\n",
              "3    129.199219     63     0.569743  ...  4.276793   2.883070  0.672069\n",
              "4    112.347147     56     0.279495  ... -4.095979  -3.644674  2.864398\n",
              "..          ...    ...          ...  ...       ...        ...       ...\n",
              "188  123.046875     60     0.484381  ...  4.960177  -0.705958  7.572167\n",
              "189  103.359375     50     0.263616  ... -3.483090   8.350928 -1.538419\n",
              "190  123.046875     60     0.435130  ... -0.753463  -8.630863 -3.689159\n",
              "191   99.384014     50     0.506650  ...  1.532880  -2.414516  0.280983\n",
              "192  107.666016     52     0.285666  ... -7.864514  -7.258458 -5.053123\n",
              "\n",
              "[193 rows x 28 columns]"
            ]
          },
          "metadata": {
            "tags": []
          },
          "execution_count": 82
        }
      ]
    },
    {
      "cell_type": "code",
      "metadata": {
        "id": "VsDWEXTLEVBN",
        "colab_type": "code",
        "colab": {}
      },
      "source": [
        "from sklearn.model_selection import train_test_split\n",
        "X_train, X_test, y_train, y_test = train_test_split(X, y, test_size=0.2, random_state=42)"
      ],
      "execution_count": null,
      "outputs": []
    },
    {
      "cell_type": "code",
      "metadata": {
        "id": "VQ-AqDmeEMJ-",
        "colab_type": "code",
        "colab": {}
      },
      "source": [
        "from sklearn.preprocessing import StandardScaler\n",
        "std = StandardScaler()\n",
        "X_train = std.fit_transform(X_train)\n",
        "X_test = std.transform(X_test)"
      ],
      "execution_count": null,
      "outputs": []
    },
    {
      "cell_type": "code",
      "metadata": {
        "id": "ZgqBs3cjGzvk",
        "colab_type": "code",
        "colab": {
          "base_uri": "https://localhost:8080/",
          "height": 238
        },
        "outputId": "ed51b601-b44d-416b-df12-ba65feabd00a"
      },
      "source": [
        "X_train"
      ],
      "execution_count": null,
      "outputs": [
        {
          "output_type": "execute_result",
          "data": {
            "text/plain": [
              "array([[ 0.09467454,  0.01303069,  1.92735031, ...,  1.15797547,\n",
              "         0.83037238,  0.51253779],\n",
              "       [ 1.17883798,  1.22922812, -1.11773724, ...,  1.4402169 ,\n",
              "         0.45124357,  1.44944226],\n",
              "       [-0.86238008, -0.6558779 , -0.83964887, ..., -1.22742464,\n",
              "        -0.68310485, -1.09321589],\n",
              "       ...,\n",
              "       [ 2.6966668 ,  2.87109465, -0.14621941, ...,  0.16586364,\n",
              "        -0.43583791, -0.67688206],\n",
              "       [-0.46041714, -0.47344829, -0.09040645, ..., -0.22341732,\n",
              "         0.7134526 ,  0.80282721],\n",
              "       [ 0.09467454,  0.25627017,  0.84931739, ...,  1.55810325,\n",
              "         1.60707798,  0.6985856 ]])"
            ]
          },
          "metadata": {
            "tags": []
          },
          "execution_count": 83
        }
      ]
    },
    {
      "cell_type": "markdown",
      "metadata": {
        "id": "GTlDmcZkvU4i",
        "colab_type": "text"
      },
      "source": [
        "### Machine Learning"
      ]
    },
    {
      "cell_type": "markdown",
      "metadata": {
        "id": "gjr-b3rAFKSa",
        "colab_type": "text"
      },
      "source": [
        "#### Random Forest Test"
      ]
    },
    {
      "cell_type": "code",
      "metadata": {
        "id": "Xz2wnKMEFNMk",
        "colab_type": "code",
        "colab": {}
      },
      "source": [
        "from sklearn.ensemble import RandomForestClassifier"
      ],
      "execution_count": null,
      "outputs": []
    },
    {
      "cell_type": "code",
      "metadata": {
        "id": "bXdia3LHFZFh",
        "colab_type": "code",
        "colab": {
          "base_uri": "https://localhost:8080/",
          "height": 153
        },
        "outputId": "9a9319f1-1424-4583-db16-6d9f2024d89f"
      },
      "source": [
        "forest_cl= RandomForestClassifier()\n",
        "forest_cl.fit(X_train, y_train)"
      ],
      "execution_count": null,
      "outputs": [
        {
          "output_type": "execute_result",
          "data": {
            "text/plain": [
              "RandomForestClassifier(bootstrap=True, ccp_alpha=0.0, class_weight=None,\n",
              "                       criterion='gini', max_depth=None, max_features='auto',\n",
              "                       max_leaf_nodes=None, max_samples=None,\n",
              "                       min_impurity_decrease=0.0, min_impurity_split=None,\n",
              "                       min_samples_leaf=1, min_samples_split=2,\n",
              "                       min_weight_fraction_leaf=0.0, n_estimators=100,\n",
              "                       n_jobs=None, oob_score=False, random_state=None,\n",
              "                       verbose=0, warm_start=False)"
            ]
          },
          "metadata": {
            "tags": []
          },
          "execution_count": 21
        }
      ]
    },
    {
      "cell_type": "code",
      "metadata": {
        "id": "pwD320KKHs8S",
        "colab_type": "code",
        "colab": {
          "base_uri": "https://localhost:8080/",
          "height": 34
        },
        "outputId": "7873a04b-8fe3-4045-e10c-cf4a02d7abf1"
      },
      "source": [
        "forest_cl.score(X_train, y_train) "
      ],
      "execution_count": null,
      "outputs": [
        {
          "output_type": "execute_result",
          "data": {
            "text/plain": [
              "0.9935897435897436"
            ]
          },
          "metadata": {
            "tags": []
          },
          "execution_count": 22
        }
      ]
    },
    {
      "cell_type": "code",
      "metadata": {
        "id": "g1_7HIUhHtns",
        "colab_type": "code",
        "colab": {
          "base_uri": "https://localhost:8080/",
          "height": 34
        },
        "outputId": "705fe90e-fdfa-4f0a-8703-eee4445ef8e0"
      },
      "source": [
        "forest_cl.score(X_test, y_test) "
      ],
      "execution_count": null,
      "outputs": [
        {
          "output_type": "execute_result",
          "data": {
            "text/plain": [
              "0.5949367088607594"
            ]
          },
          "metadata": {
            "tags": []
          },
          "execution_count": 23
        }
      ]
    },
    {
      "cell_type": "code",
      "metadata": {
        "id": "M_ByE1rSFhye",
        "colab_type": "code",
        "colab": {}
      },
      "source": [
        "y_pred_forest=forest_cl.predict(X_test)"
      ],
      "execution_count": null,
      "outputs": []
    },
    {
      "cell_type": "code",
      "metadata": {
        "id": "P75e02-pFn5g",
        "colab_type": "code",
        "colab": {
          "base_uri": "https://localhost:8080/",
          "height": 404
        },
        "outputId": "5b14f7e4-db92-438f-c9b9-6827a203922c"
      },
      "source": [
        "plt.figure(figsize=(10,6))\n",
        "cm2 = confusion_matrix(y_test, y_pred_forest)\n",
        "sns.heatmap(cm2, annot=True, fmt=\"d\")\n",
        "plt.title('Confusion Matrix Random Forest Model')\n",
        "plt.xlabel('Predicted values')\n",
        "plt.ylabel(\"Actual values\")\n",
        "plt.show()"
      ],
      "execution_count": null,
      "outputs": [
        {
          "output_type": "display_data",
          "data": {
            "image/png": "[encoded data removed]",
            "text/plain": [
              "<Figure size 720x432 with 2 Axes>"
            ]
          },
          "metadata": {
            "tags": [],
            "needs_background": "light"
          }
        }
      ]
    },
    {
      "cell_type": "code",
      "metadata": {
        "id": "xUFEIlZFGTee",
        "colab_type": "code",
        "colab": {
          "base_uri": "https://localhost:8080/",
          "height": 204
        },
        "outputId": "2d35faf4-ef1e-45fc-f47d-b0b36c86efad"
      },
      "source": [
        "print(classification_report(y_true=y_test, y_pred=forest_cl.predict(X_test)))"
      ],
      "execution_count": null,
      "outputs": [
        {
          "output_type": "stream",
          "text": [
            "              precision    recall  f1-score   support\n",
            "\n",
            "   Confident       0.45      0.56      0.50        16\n",
            "    Positive       0.44      0.44      0.44        18\n",
            "  Reflective       0.74      0.95      0.83        21\n",
            "     Tension       0.71      0.42      0.53        24\n",
            "\n",
            "    accuracy                           0.59        79\n",
            "   macro avg       0.59      0.59      0.58        79\n",
            "weighted avg       0.61      0.59      0.58        79\n",
            "\n"
          ],
          "name": "stdout"
        }
      ]
    },
    {
      "cell_type": "code",
      "metadata": {
        "id": "IjTAO9b9I3Ks",
        "colab_type": "code",
        "colab": {
          "base_uri": "https://localhost:8080/",
          "height": 119
        },
        "outputId": "fcebe2d9-8ad3-4e84-850f-8365c003b8e6"
      },
      "source": [
        "feature_forest= forest_cl.feature_importances_\n",
        "feature_forest"
      ],
      "execution_count": null,
      "outputs": [
        {
          "output_type": "execute_result",
          "data": {
            "text/plain": [
              "array([0.02598233, 0.02930332, 0.06233065, 0.06826044, 0.03177274,\n",
              "       0.03057622, 0.03149282, 0.02253686, 0.06397825, 0.04009822,\n",
              "       0.02845343, 0.03558308, 0.02899617, 0.02870196, 0.02997323,\n",
              "       0.0384412 , 0.03385606, 0.03868067, 0.03692416, 0.03888342,\n",
              "       0.02912491, 0.03776925, 0.02871432, 0.0270426 , 0.03266158,\n",
              "       0.03390996, 0.03952721, 0.02642496])"
            ]
          },
          "metadata": {
            "tags": []
          },
          "execution_count": 27
        }
      ]
    },
    {
      "cell_type": "code",
      "metadata": {
        "id": "_cfOtfHeI4a-",
        "colab_type": "code",
        "colab": {
          "base_uri": "https://localhost:8080/",
          "height": 917
        },
        "outputId": "a33265ac-f562-4ba2-92e7-bd4d0c1f42d6"
      },
      "source": [
        "feature_importance_forest = pd.DataFrame({'features': X.columns, 'values': forest_cl.feature_importances_})\n",
        "feature_importance_forest.sort_values(['values'], ascending=False)"
      ],
      "execution_count": null,
      "outputs": [
        {
          "output_type": "execute_result",
          "data": {
            "text/html": [
              "<div>\n",
              "<style scoped>\n",
              "    .dataframe tbody tr th:only-of-type {\n",
              "        vertical-align: middle;\n",
              "    }\n",
              "\n",
              "    .dataframe tbody tr th {\n",
              "        vertical-align: top;\n",
              "    }\n",
              "\n",
              "    .dataframe thead th {\n",
              "        text-align: right;\n",
              "    }\n",
              "</style>\n",
              "<table border=\"1\" class=\"dataframe\">\n",
              "  <thead>\n",
              "    <tr style=\"text-align: right;\">\n",
              "      <th></th>\n",
              "      <th>features</th>\n",
              "      <th>values</th>\n",
              "    </tr>\n",
              "  </thead>\n",
              "  <tbody>\n",
              "    <tr>\n",
              "      <th>3</th>\n",
              "      <td>rmse</td>\n",
              "      <td>0.068260</td>\n",
              "    </tr>\n",
              "    <tr>\n",
              "      <th>8</th>\n",
              "      <td>mfcc1</td>\n",
              "      <td>0.063978</td>\n",
              "    </tr>\n",
              "    <tr>\n",
              "      <th>2</th>\n",
              "      <td>chroma_stft</td>\n",
              "      <td>0.062331</td>\n",
              "    </tr>\n",
              "    <tr>\n",
              "      <th>9</th>\n",
              "      <td>mfcc2</td>\n",
              "      <td>0.040098</td>\n",
              "    </tr>\n",
              "    <tr>\n",
              "      <th>26</th>\n",
              "      <td>mfcc19</td>\n",
              "      <td>0.039527</td>\n",
              "    </tr>\n",
              "    <tr>\n",
              "      <th>19</th>\n",
              "      <td>mfcc12</td>\n",
              "      <td>0.038883</td>\n",
              "    </tr>\n",
              "    <tr>\n",
              "      <th>17</th>\n",
              "      <td>mfcc10</td>\n",
              "      <td>0.038681</td>\n",
              "    </tr>\n",
              "    <tr>\n",
              "      <th>15</th>\n",
              "      <td>mfcc8</td>\n",
              "      <td>0.038441</td>\n",
              "    </tr>\n",
              "    <tr>\n",
              "      <th>21</th>\n",
              "      <td>mfcc14</td>\n",
              "      <td>0.037769</td>\n",
              "    </tr>\n",
              "    <tr>\n",
              "      <th>18</th>\n",
              "      <td>mfcc11</td>\n",
              "      <td>0.036924</td>\n",
              "    </tr>\n",
              "    <tr>\n",
              "      <th>11</th>\n",
              "      <td>mfcc4</td>\n",
              "      <td>0.035583</td>\n",
              "    </tr>\n",
              "    <tr>\n",
              "      <th>25</th>\n",
              "      <td>mfcc18</td>\n",
              "      <td>0.033910</td>\n",
              "    </tr>\n",
              "    <tr>\n",
              "      <th>16</th>\n",
              "      <td>mfcc9</td>\n",
              "      <td>0.033856</td>\n",
              "    </tr>\n",
              "    <tr>\n",
              "      <th>24</th>\n",
              "      <td>mfcc17</td>\n",
              "      <td>0.032662</td>\n",
              "    </tr>\n",
              "    <tr>\n",
              "      <th>4</th>\n",
              "      <td>spectral_centroid</td>\n",
              "      <td>0.031773</td>\n",
              "    </tr>\n",
              "    <tr>\n",
              "      <th>6</th>\n",
              "      <td>rollof</td>\n",
              "      <td>0.031493</td>\n",
              "    </tr>\n",
              "    <tr>\n",
              "      <th>5</th>\n",
              "      <td>spectral_bandwidth</td>\n",
              "      <td>0.030576</td>\n",
              "    </tr>\n",
              "    <tr>\n",
              "      <th>14</th>\n",
              "      <td>mfcc7</td>\n",
              "      <td>0.029973</td>\n",
              "    </tr>\n",
              "    <tr>\n",
              "      <th>1</th>\n",
              "      <td>beats</td>\n",
              "      <td>0.029303</td>\n",
              "    </tr>\n",
              "    <tr>\n",
              "      <th>20</th>\n",
              "      <td>mfcc13</td>\n",
              "      <td>0.029125</td>\n",
              "    </tr>\n",
              "    <tr>\n",
              "      <th>12</th>\n",
              "      <td>mfcc5</td>\n",
              "      <td>0.028996</td>\n",
              "    </tr>\n",
              "    <tr>\n",
              "      <th>22</th>\n",
              "      <td>mfcc15</td>\n",
              "      <td>0.028714</td>\n",
              "    </tr>\n",
              "    <tr>\n",
              "      <th>13</th>\n",
              "      <td>mfcc6</td>\n",
              "      <td>0.028702</td>\n",
              "    </tr>\n",
              "    <tr>\n",
              "      <th>10</th>\n",
              "      <td>mfcc3</td>\n",
              "      <td>0.028453</td>\n",
              "    </tr>\n",
              "    <tr>\n",
              "      <th>23</th>\n",
              "      <td>mfcc16</td>\n",
              "      <td>0.027043</td>\n",
              "    </tr>\n",
              "    <tr>\n",
              "      <th>27</th>\n",
              "      <td>mfcc20</td>\n",
              "      <td>0.026425</td>\n",
              "    </tr>\n",
              "    <tr>\n",
              "      <th>0</th>\n",
              "      <td>tempo</td>\n",
              "      <td>0.025982</td>\n",
              "    </tr>\n",
              "    <tr>\n",
              "      <th>7</th>\n",
              "      <td>zero_crossing_rate</td>\n",
              "      <td>0.022537</td>\n",
              "    </tr>\n",
              "  </tbody>\n",
              "</table>\n",
              "</div>"
            ],
            "text/plain": [
              "              features    values\n",
              "3                 rmse  0.068260\n",
              "8                mfcc1  0.063978\n",
              "2          chroma_stft  0.062331\n",
              "9                mfcc2  0.040098\n",
              "26              mfcc19  0.039527\n",
              "19              mfcc12  0.038883\n",
              "17              mfcc10  0.038681\n",
              "15               mfcc8  0.038441\n",
              "21              mfcc14  0.037769\n",
              "18              mfcc11  0.036924\n",
              "11               mfcc4  0.035583\n",
              "25              mfcc18  0.033910\n",
              "16               mfcc9  0.033856\n",
              "24              mfcc17  0.032662\n",
              "4    spectral_centroid  0.031773\n",
              "6               rollof  0.031493\n",
              "5   spectral_bandwidth  0.030576\n",
              "14               mfcc7  0.029973\n",
              "1                beats  0.029303\n",
              "20              mfcc13  0.029125\n",
              "12               mfcc5  0.028996\n",
              "22              mfcc15  0.028714\n",
              "13               mfcc6  0.028702\n",
              "10               mfcc3  0.028453\n",
              "23              mfcc16  0.027043\n",
              "27              mfcc20  0.026425\n",
              "0                tempo  0.025982\n",
              "7   zero_crossing_rate  0.022537"
            ]
          },
          "metadata": {
            "tags": []
          },
          "execution_count": 28
        }
      ]
    },
    {
      "cell_type": "markdown",
      "metadata": {
        "id": "qyLzfJaGIUID",
        "colab_type": "text"
      },
      "source": [
        "#### Logistic Regression"
      ]
    },
    {
      "cell_type": "code",
      "metadata": {
        "id": "4m56uFMdGkV0",
        "colab_type": "code",
        "colab": {
          "base_uri": "https://localhost:8080/",
          "height": 102
        },
        "outputId": "a5bc2ae8-1302-48c6-efe1-2ca1b8896fc8"
      },
      "source": [
        "classifier = LogisticRegression()\n",
        "classifier.fit(X_train, y_train)"
      ],
      "execution_count": null,
      "outputs": [
        {
          "output_type": "execute_result",
          "data": {
            "text/plain": [
              "LogisticRegression(C=1.0, class_weight=None, dual=False, fit_intercept=True,\n",
              "                   intercept_scaling=1, l1_ratio=None, max_iter=100,\n",
              "                   multi_class='auto', n_jobs=None, penalty='l2',\n",
              "                   random_state=None, solver='lbfgs', tol=0.0001, verbose=0,\n",
              "                   warm_start=False)"
            ]
          },
          "metadata": {
            "tags": []
          },
          "execution_count": 29
        }
      ]
    },
    {
      "cell_type": "code",
      "metadata": {
        "id": "6H_0X_kDIXAy",
        "colab_type": "code",
        "colab": {
          "base_uri": "https://localhost:8080/",
          "height": 51
        },
        "outputId": "93dbd311-d5c8-4636-ad82-9ceb771af300"
      },
      "source": [
        "print(\"Train set score : \", classifier.score(X_train, y_train))\n",
        "print(\"Test set score : \", classifier.score(X_test, y_test))"
      ],
      "execution_count": null,
      "outputs": [
        {
          "output_type": "stream",
          "text": [
            "Train set score :  0.5993589743589743\n",
            "Test set score :  0.5063291139240507\n"
          ],
          "name": "stdout"
        }
      ]
    },
    {
      "cell_type": "code",
      "metadata": {
        "id": "3iIXY5_fIZkQ",
        "colab_type": "code",
        "colab": {
          "base_uri": "https://localhost:8080/",
          "height": 34
        },
        "outputId": "e02ece17-6641-442e-9db8-57785de212f9"
      },
      "source": [
        "moy_score= cross_val_score(classifier,X_train,y_train, cv=10).mean()\n",
        "print(\"Le score moyen après cross validation: \", moy_score)"
      ],
      "execution_count": null,
      "outputs": [
        {
          "output_type": "stream",
          "text": [
            "Le score moyen après cross validation:  0.4675403225806451\n"
          ],
          "name": "stdout"
        }
      ]
    },
    {
      "cell_type": "code",
      "metadata": {
        "id": "Nq8mg2WrIsmg",
        "colab_type": "code",
        "colab": {}
      },
      "source": [
        ""
      ],
      "execution_count": null,
      "outputs": []
    },
    {
      "cell_type": "markdown",
      "metadata": {
        "id": "P5ai0r0era4n",
        "colab_type": "text"
      },
      "source": [
        "#### 2nd Test with different features\n"
      ]
    },
    {
      "cell_type": "code",
      "metadata": {
        "id": "OamlGMusrf0x",
        "colab_type": "code",
        "colab": {}
      },
      "source": [
        "data_mfcc = data_new.drop(['rollof','spectral_bandwidth','tempo'], axis=1)"
      ],
      "execution_count": null,
      "outputs": []
    },
    {
      "cell_type": "code",
      "metadata": {
        "id": "AR45BvBJr_8Q",
        "colab_type": "code",
        "colab": {
          "base_uri": "https://localhost:8080/",
          "height": 224
        },
        "outputId": "bfd97fa3-2c2b-4678-89d4-dcb40c7bb1e4"
      },
      "source": [
        "data_mfcc.head()"
      ],
      "execution_count": null,
      "outputs": [
        {
          "output_type": "execute_result",
          "data": {
            "text/html": [
              "<div>\n",
              "<style scoped>\n",
              "    .dataframe tbody tr th:only-of-type {\n",
              "        vertical-align: middle;\n",
              "    }\n",
              "\n",
              "    .dataframe tbody tr th {\n",
              "        vertical-align: top;\n",
              "    }\n",
              "\n",
              "    .dataframe thead th {\n",
              "        text-align: right;\n",
              "    }\n",
              "</style>\n",
              "<table border=\"1\" class=\"dataframe\">\n",
              "  <thead>\n",
              "    <tr style=\"text-align: right;\">\n",
              "      <th></th>\n",
              "      <th>mfcc1</th>\n",
              "      <th>mfcc2</th>\n",
              "      <th>mfcc3</th>\n",
              "      <th>mfcc4</th>\n",
              "      <th>mfcc5</th>\n",
              "      <th>mfcc6</th>\n",
              "      <th>mfcc7</th>\n",
              "      <th>mfcc8</th>\n",
              "      <th>mfcc9</th>\n",
              "      <th>mfcc10</th>\n",
              "      <th>mfcc11</th>\n",
              "      <th>mfcc12</th>\n",
              "      <th>mfcc13</th>\n",
              "      <th>mfcc14</th>\n",
              "      <th>mfcc15</th>\n",
              "      <th>mfcc16</th>\n",
              "      <th>mfcc17</th>\n",
              "      <th>mfcc18</th>\n",
              "      <th>mfcc19</th>\n",
              "      <th>mfcc20</th>\n",
              "      <th>emotion</th>\n",
              "    </tr>\n",
              "  </thead>\n",
              "  <tbody>\n",
              "    <tr>\n",
              "      <th>0</th>\n",
              "      <td>-477.403545</td>\n",
              "      <td>208.821840</td>\n",
              "      <td>53.219121</td>\n",
              "      <td>24.723424</td>\n",
              "      <td>14.367876</td>\n",
              "      <td>-5.110286</td>\n",
              "      <td>-6.353171</td>\n",
              "      <td>-9.187370</td>\n",
              "      <td>-9.356993</td>\n",
              "      <td>-12.663376</td>\n",
              "      <td>-12.602267</td>\n",
              "      <td>-9.313873</td>\n",
              "      <td>-7.831231</td>\n",
              "      <td>-9.456415</td>\n",
              "      <td>-13.223743</td>\n",
              "      <td>-10.588378</td>\n",
              "      <td>-10.082317</td>\n",
              "      <td>-7.461805</td>\n",
              "      <td>-7.630651</td>\n",
              "      <td>-7.905182</td>\n",
              "      <td>Reflective</td>\n",
              "    </tr>\n",
              "    <tr>\n",
              "      <th>1</th>\n",
              "      <td>-139.965088</td>\n",
              "      <td>76.243093</td>\n",
              "      <td>27.372612</td>\n",
              "      <td>51.394221</td>\n",
              "      <td>13.650808</td>\n",
              "      <td>17.814696</td>\n",
              "      <td>11.279373</td>\n",
              "      <td>17.925914</td>\n",
              "      <td>7.956369</td>\n",
              "      <td>8.437056</td>\n",
              "      <td>1.980788</td>\n",
              "      <td>15.252957</td>\n",
              "      <td>-1.057819</td>\n",
              "      <td>0.581064</td>\n",
              "      <td>-9.616723</td>\n",
              "      <td>-0.042193</td>\n",
              "      <td>-4.677395</td>\n",
              "      <td>3.617937</td>\n",
              "      <td>1.225401</td>\n",
              "      <td>0.042073</td>\n",
              "      <td>Confident</td>\n",
              "    </tr>\n",
              "    <tr>\n",
              "      <th>2</th>\n",
              "      <td>-75.583760</td>\n",
              "      <td>78.032088</td>\n",
              "      <td>15.082731</td>\n",
              "      <td>43.348206</td>\n",
              "      <td>15.011043</td>\n",
              "      <td>28.404307</td>\n",
              "      <td>4.508613</td>\n",
              "      <td>11.982719</td>\n",
              "      <td>-1.297526</td>\n",
              "      <td>11.569887</td>\n",
              "      <td>-9.393426</td>\n",
              "      <td>2.965207</td>\n",
              "      <td>0.600793</td>\n",
              "      <td>-0.284353</td>\n",
              "      <td>-4.880321</td>\n",
              "      <td>3.063496</td>\n",
              "      <td>-5.170363</td>\n",
              "      <td>1.931085</td>\n",
              "      <td>-8.336721</td>\n",
              "      <td>-2.113196</td>\n",
              "      <td>Confident</td>\n",
              "    </tr>\n",
              "    <tr>\n",
              "      <th>3</th>\n",
              "      <td>-442.773802</td>\n",
              "      <td>187.344121</td>\n",
              "      <td>108.573449</td>\n",
              "      <td>44.989389</td>\n",
              "      <td>17.877664</td>\n",
              "      <td>11.240613</td>\n",
              "      <td>9.177898</td>\n",
              "      <td>9.127807</td>\n",
              "      <td>10.643879</td>\n",
              "      <td>10.833942</td>\n",
              "      <td>9.429106</td>\n",
              "      <td>7.562426</td>\n",
              "      <td>4.229921</td>\n",
              "      <td>-1.432589</td>\n",
              "      <td>-6.640527</td>\n",
              "      <td>-7.711695</td>\n",
              "      <td>-4.290384</td>\n",
              "      <td>0.279921</td>\n",
              "      <td>2.373840</td>\n",
              "      <td>1.568860</td>\n",
              "      <td>Reflective</td>\n",
              "    </tr>\n",
              "    <tr>\n",
              "      <th>4</th>\n",
              "      <td>-233.070087</td>\n",
              "      <td>43.817584</td>\n",
              "      <td>51.189356</td>\n",
              "      <td>46.896953</td>\n",
              "      <td>29.670171</td>\n",
              "      <td>42.594199</td>\n",
              "      <td>11.525458</td>\n",
              "      <td>5.964901</td>\n",
              "      <td>-9.576013</td>\n",
              "      <td>6.678967</td>\n",
              "      <td>13.304457</td>\n",
              "      <td>8.633898</td>\n",
              "      <td>4.014423</td>\n",
              "      <td>-0.513175</td>\n",
              "      <td>0.146302</td>\n",
              "      <td>9.869946</td>\n",
              "      <td>9.779934</td>\n",
              "      <td>6.187625</td>\n",
              "      <td>1.051328</td>\n",
              "      <td>-0.174738</td>\n",
              "      <td>Confident</td>\n",
              "    </tr>\n",
              "  </tbody>\n",
              "</table>\n",
              "</div>"
            ],
            "text/plain": [
              "        mfcc1       mfcc2       mfcc3  ...    mfcc19    mfcc20     emotion\n",
              "0 -477.403545  208.821840   53.219121  ... -7.630651 -7.905182  Reflective\n",
              "1 -139.965088   76.243093   27.372612  ...  1.225401  0.042073   Confident\n",
              "2  -75.583760   78.032088   15.082731  ... -8.336721 -2.113196   Confident\n",
              "3 -442.773802  187.344121  108.573449  ...  2.373840  1.568860  Reflective\n",
              "4 -233.070087   43.817584   51.189356  ...  1.051328 -0.174738   Confident\n",
              "\n",
              "[5 rows x 21 columns]"
            ]
          },
          "metadata": {
            "tags": []
          },
          "execution_count": 34
        }
      ]
    },
    {
      "cell_type": "code",
      "metadata": {
        "id": "Dy6Q5GLNsPqw",
        "colab_type": "code",
        "colab": {}
      },
      "source": [
        "y = data_mfcc['emotion']\n",
        "X = data_mfcc.drop('emotion', axis=1)"
      ],
      "execution_count": null,
      "outputs": []
    },
    {
      "cell_type": "code",
      "metadata": {
        "id": "c9s33LbTsg-x",
        "colab_type": "code",
        "colab": {}
      },
      "source": [
        "from sklearn.model_selection import train_test_split\n",
        "X_train, X_test, y_train, y_test = train_test_split(X, y, test_size=0.2, random_state=42)"
      ],
      "execution_count": null,
      "outputs": []
    },
    {
      "cell_type": "code",
      "metadata": {
        "id": "yLuDM-73ss6q",
        "colab_type": "code",
        "colab": {}
      },
      "source": [
        "from sklearn.preprocessing import StandardScaler\n",
        "std = StandardScaler()\n",
        "X_train = std.fit_transform(X_train)\n",
        "X_test = std.transform(X_test)"
      ],
      "execution_count": null,
      "outputs": []
    },
    {
      "cell_type": "code",
      "metadata": {
        "id": "cSrltQiPsxf8",
        "colab_type": "code",
        "colab": {
          "base_uri": "https://localhost:8080/",
          "height": 153
        },
        "outputId": "70eaf2f9-4248-4ca7-b3e6-be678f165ae0"
      },
      "source": [
        "forest_mfcc= RandomForestClassifier()\n",
        "forest_mfcc.fit(X_train, y_train)"
      ],
      "execution_count": null,
      "outputs": [
        {
          "output_type": "execute_result",
          "data": {
            "text/plain": [
              "RandomForestClassifier(bootstrap=True, ccp_alpha=0.0, class_weight=None,\n",
              "                       criterion='gini', max_depth=None, max_features='auto',\n",
              "                       max_leaf_nodes=None, max_samples=None,\n",
              "                       min_impurity_decrease=0.0, min_impurity_split=None,\n",
              "                       min_samples_leaf=1, min_samples_split=2,\n",
              "                       min_weight_fraction_leaf=0.0, n_estimators=100,\n",
              "                       n_jobs=None, oob_score=False, random_state=None,\n",
              "                       verbose=0, warm_start=False)"
            ]
          },
          "metadata": {
            "tags": []
          },
          "execution_count": 63
        }
      ]
    },
    {
      "cell_type": "code",
      "metadata": {
        "id": "Z8_2DYhDs7u6",
        "colab_type": "code",
        "colab": {}
      },
      "source": [
        "y_pred_forest_mfcc=forest_mfcc.predict(X_test)"
      ],
      "execution_count": null,
      "outputs": []
    },
    {
      "cell_type": "code",
      "metadata": {
        "id": "ccX9yrkEs_AL",
        "colab_type": "code",
        "colab": {
          "base_uri": "https://localhost:8080/",
          "height": 204
        },
        "outputId": "4c085a70-6ce0-4cd9-974c-ec51b90bbaaf"
      },
      "source": [
        "print(classification_report(y_true=y_test, y_pred=forest_mfcc.predict(X_test)))"
      ],
      "execution_count": null,
      "outputs": [
        {
          "output_type": "stream",
          "text": [
            "              precision    recall  f1-score   support\n",
            "\n",
            "   Confident       0.50      0.62      0.56        16\n",
            "    Positive       0.47      0.50      0.49        18\n",
            "  Reflective       0.74      0.95      0.83        21\n",
            "     Tension       0.69      0.38      0.49        24\n",
            "\n",
            "    accuracy                           0.61        79\n",
            "   macro avg       0.60      0.61      0.59        79\n",
            "weighted avg       0.62      0.61      0.59        79\n",
            "\n"
          ],
          "name": "stdout"
        }
      ]
    },
    {
      "cell_type": "markdown",
      "metadata": {
        "id": "wgxMYW6Cy906",
        "colab_type": "text"
      },
      "source": [
        "It seems we have better results erasing some correlated features. Let's do a grid search"
      ]
    },
    {
      "cell_type": "code",
      "metadata": {
        "id": "XKwEanCXkaxE",
        "colab_type": "code",
        "colab": {
          "base_uri": "https://localhost:8080/",
          "height": 1000
        },
        "outputId": "90531523-4235-4a3b-bb6c-cca93f85e74a"
      },
      "source": [
        "from sklearn.model_selection import GridSearchCV\n",
        "params = {\"min_samples_leaf\" : [5, 10],\n",
        "          'max_features' : [1, 2, 5],\n",
        "          'n_estimators' : [50, 100],\n",
        "          }\n",
        "\n",
        "grid_search = GridSearchCV(cv=4, estimator = RandomForestClassifier(), param_grid = params, verbose=3).fit(X_train, y_train)"
      ],
      "execution_count": null,
      "outputs": [
        {
          "output_type": "stream",
          "text": [
            "Fitting 4 folds for each of 12 candidates, totalling 48 fits\n",
            "[CV] max_features=1, min_samples_leaf=5, n_estimators=50 .............\n",
            "[CV]  max_features=1, min_samples_leaf=5, n_estimators=50, score=0.500, total=   0.1s\n",
            "[CV] max_features=1, min_samples_leaf=5, n_estimators=50 .............\n",
            "[CV]  max_features=1, min_samples_leaf=5, n_estimators=50, score=0.487, total=   0.1s\n",
            "[CV] max_features=1, min_samples_leaf=5, n_estimators=50 .............\n"
          ],
          "name": "stdout"
        },
        {
          "output_type": "stream",
          "text": [
            "[Parallel(n_jobs=1)]: Using backend SequentialBackend with 1 concurrent workers.\n",
            "[Parallel(n_jobs=1)]: Done   1 out of   1 | elapsed:    0.1s remaining:    0.0s\n",
            "[Parallel(n_jobs=1)]: Done   2 out of   2 | elapsed:    0.1s remaining:    0.0s\n"
          ],
          "name": "stderr"
        },
        {
          "output_type": "stream",
          "text": [
            "[CV]  max_features=1, min_samples_leaf=5, n_estimators=50, score=0.474, total=   0.1s\n",
            "[CV] max_features=1, min_samples_leaf=5, n_estimators=50 .............\n",
            "[CV]  max_features=1, min_samples_leaf=5, n_estimators=50, score=0.590, total=   0.1s\n",
            "[CV] max_features=1, min_samples_leaf=5, n_estimators=100 ............\n",
            "[CV]  max_features=1, min_samples_leaf=5, n_estimators=100, score=0.526, total=   0.1s\n",
            "[CV] max_features=1, min_samples_leaf=5, n_estimators=100 ............\n",
            "[CV]  max_features=1, min_samples_leaf=5, n_estimators=100, score=0.500, total=   0.1s\n",
            "[CV] max_features=1, min_samples_leaf=5, n_estimators=100 ............\n",
            "[CV]  max_features=1, min_samples_leaf=5, n_estimators=100, score=0.513, total=   0.1s\n",
            "[CV] max_features=1, min_samples_leaf=5, n_estimators=100 ............\n",
            "[CV]  max_features=1, min_samples_leaf=5, n_estimators=100, score=0.564, total=   0.1s\n",
            "[CV] max_features=1, min_samples_leaf=10, n_estimators=50 ............\n",
            "[CV]  max_features=1, min_samples_leaf=10, n_estimators=50, score=0.487, total=   0.1s\n",
            "[CV] max_features=1, min_samples_leaf=10, n_estimators=50 ............\n",
            "[CV]  max_features=1, min_samples_leaf=10, n_estimators=50, score=0.500, total=   0.1s\n",
            "[CV] max_features=1, min_samples_leaf=10, n_estimators=50 ............\n",
            "[CV]  max_features=1, min_samples_leaf=10, n_estimators=50, score=0.487, total=   0.1s\n",
            "[CV] max_features=1, min_samples_leaf=10, n_estimators=50 ............\n",
            "[CV]  max_features=1, min_samples_leaf=10, n_estimators=50, score=0.564, total=   0.1s\n",
            "[CV] max_features=1, min_samples_leaf=10, n_estimators=100 ...........\n",
            "[CV]  max_features=1, min_samples_leaf=10, n_estimators=100, score=0.526, total=   0.1s\n",
            "[CV] max_features=1, min_samples_leaf=10, n_estimators=100 ...........\n",
            "[CV]  max_features=1, min_samples_leaf=10, n_estimators=100, score=0.526, total=   0.1s\n",
            "[CV] max_features=1, min_samples_leaf=10, n_estimators=100 ...........\n",
            "[CV]  max_features=1, min_samples_leaf=10, n_estimators=100, score=0.538, total=   0.1s\n",
            "[CV] max_features=1, min_samples_leaf=10, n_estimators=100 ...........\n",
            "[CV]  max_features=1, min_samples_leaf=10, n_estimators=100, score=0.615, total=   0.1s\n",
            "[CV] max_features=2, min_samples_leaf=5, n_estimators=50 .............\n",
            "[CV]  max_features=2, min_samples_leaf=5, n_estimators=50, score=0.462, total=   0.1s\n",
            "[CV] max_features=2, min_samples_leaf=5, n_estimators=50 .............\n",
            "[CV]  max_features=2, min_samples_leaf=5, n_estimators=50, score=0.513, total=   0.1s\n",
            "[CV] max_features=2, min_samples_leaf=5, n_estimators=50 .............\n",
            "[CV]  max_features=2, min_samples_leaf=5, n_estimators=50, score=0.449, total=   0.1s\n",
            "[CV] max_features=2, min_samples_leaf=5, n_estimators=50 .............\n",
            "[CV]  max_features=2, min_samples_leaf=5, n_estimators=50, score=0.590, total=   0.1s\n",
            "[CV] max_features=2, min_samples_leaf=5, n_estimators=100 ............\n",
            "[CV]  max_features=2, min_samples_leaf=5, n_estimators=100, score=0.513, total=   0.1s\n",
            "[CV] max_features=2, min_samples_leaf=5, n_estimators=100 ............\n",
            "[CV]  max_features=2, min_samples_leaf=5, n_estimators=100, score=0.526, total=   0.1s\n",
            "[CV] max_features=2, min_samples_leaf=5, n_estimators=100 ............\n",
            "[CV]  max_features=2, min_samples_leaf=5, n_estimators=100, score=0.538, total=   0.2s\n",
            "[CV] max_features=2, min_samples_leaf=5, n_estimators=100 ............\n",
            "[CV]  max_features=2, min_samples_leaf=5, n_estimators=100, score=0.641, total=   0.1s\n",
            "[CV] max_features=2, min_samples_leaf=10, n_estimators=50 ............\n",
            "[CV]  max_features=2, min_samples_leaf=10, n_estimators=50, score=0.449, total=   0.1s\n",
            "[CV] max_features=2, min_samples_leaf=10, n_estimators=50 ............\n",
            "[CV]  max_features=2, min_samples_leaf=10, n_estimators=50, score=0.513, total=   0.1s\n",
            "[CV] max_features=2, min_samples_leaf=10, n_estimators=50 ............\n",
            "[CV]  max_features=2, min_samples_leaf=10, n_estimators=50, score=0.449, total=   0.1s\n",
            "[CV] max_features=2, min_samples_leaf=10, n_estimators=50 ............\n",
            "[CV]  max_features=2, min_samples_leaf=10, n_estimators=50, score=0.577, total=   0.1s\n",
            "[CV] max_features=2, min_samples_leaf=10, n_estimators=100 ...........\n",
            "[CV]  max_features=2, min_samples_leaf=10, n_estimators=100, score=0.487, total=   0.1s\n",
            "[CV] max_features=2, min_samples_leaf=10, n_estimators=100 ...........\n",
            "[CV]  max_features=2, min_samples_leaf=10, n_estimators=100, score=0.474, total=   0.2s\n",
            "[CV] max_features=2, min_samples_leaf=10, n_estimators=100 ...........\n",
            "[CV]  max_features=2, min_samples_leaf=10, n_estimators=100, score=0.538, total=   0.1s\n",
            "[CV] max_features=2, min_samples_leaf=10, n_estimators=100 ...........\n",
            "[CV]  max_features=2, min_samples_leaf=10, n_estimators=100, score=0.551, total=   0.1s\n",
            "[CV] max_features=5, min_samples_leaf=5, n_estimators=50 .............\n",
            "[CV]  max_features=5, min_samples_leaf=5, n_estimators=50, score=0.526, total=   0.1s\n",
            "[CV] max_features=5, min_samples_leaf=5, n_estimators=50 .............\n",
            "[CV]  max_features=5, min_samples_leaf=5, n_estimators=50, score=0.538, total=   0.1s\n",
            "[CV] max_features=5, min_samples_leaf=5, n_estimators=50 .............\n",
            "[CV]  max_features=5, min_samples_leaf=5, n_estimators=50, score=0.564, total=   0.1s\n",
            "[CV] max_features=5, min_samples_leaf=5, n_estimators=50 .............\n",
            "[CV]  max_features=5, min_samples_leaf=5, n_estimators=50, score=0.705, total=   0.1s\n",
            "[CV] max_features=5, min_samples_leaf=5, n_estimators=100 ............\n",
            "[CV]  max_features=5, min_samples_leaf=5, n_estimators=100, score=0.474, total=   0.2s\n",
            "[CV] max_features=5, min_samples_leaf=5, n_estimators=100 ............\n",
            "[CV]  max_features=5, min_samples_leaf=5, n_estimators=100, score=0.500, total=   0.2s\n",
            "[CV] max_features=5, min_samples_leaf=5, n_estimators=100 ............\n",
            "[CV]  max_features=5, min_samples_leaf=5, n_estimators=100, score=0.513, total=   0.2s\n",
            "[CV] max_features=5, min_samples_leaf=5, n_estimators=100 ............\n",
            "[CV]  max_features=5, min_samples_leaf=5, n_estimators=100, score=0.603, total=   0.2s\n",
            "[CV] max_features=5, min_samples_leaf=10, n_estimators=50 ............\n",
            "[CV]  max_features=5, min_samples_leaf=10, n_estimators=50, score=0.513, total=   0.1s\n",
            "[CV] max_features=5, min_samples_leaf=10, n_estimators=50 ............\n",
            "[CV]  max_features=5, min_samples_leaf=10, n_estimators=50, score=0.526, total=   0.1s\n",
            "[CV] max_features=5, min_samples_leaf=10, n_estimators=50 ............\n",
            "[CV]  max_features=5, min_samples_leaf=10, n_estimators=50, score=0.538, total=   0.1s\n",
            "[CV] max_features=5, min_samples_leaf=10, n_estimators=50 ............\n",
            "[CV]  max_features=5, min_samples_leaf=10, n_estimators=50, score=0.641, total=   0.1s\n",
            "[CV] max_features=5, min_samples_leaf=10, n_estimators=100 ...........\n",
            "[CV]  max_features=5, min_samples_leaf=10, n_estimators=100, score=0.577, total=   0.2s\n",
            "[CV] max_features=5, min_samples_leaf=10, n_estimators=100 ...........\n",
            "[CV]  max_features=5, min_samples_leaf=10, n_estimators=100, score=0.500, total=   0.2s\n",
            "[CV] max_features=5, min_samples_leaf=10, n_estimators=100 ...........\n",
            "[CV]  max_features=5, min_samples_leaf=10, n_estimators=100, score=0.538, total=   0.2s\n",
            "[CV] max_features=5, min_samples_leaf=10, n_estimators=100 ...........\n",
            "[CV]  max_features=5, min_samples_leaf=10, n_estimators=100, score=0.615, total=   0.2s\n"
          ],
          "name": "stdout"
        },
        {
          "output_type": "stream",
          "text": [
            "[Parallel(n_jobs=1)]: Done  48 out of  48 | elapsed:    5.5s finished\n"
          ],
          "name": "stderr"
        }
      ]
    },
    {
      "cell_type": "code",
      "metadata": {
        "id": "v2OunyJ9tI9h",
        "colab_type": "code",
        "colab": {
          "base_uri": "https://localhost:8080/",
          "height": 34
        },
        "outputId": "efd9b309-8609-4e05-d3b1-3e00698e6339"
      },
      "source": [
        "grid_search.best_estimator_.score(X_test, y_test)\n"
      ],
      "execution_count": null,
      "outputs": [
        {
          "output_type": "execute_result",
          "data": {
            "text/plain": [
              "0.5443037974683544"
            ]
          },
          "metadata": {
            "tags": []
          },
          "execution_count": 38
        }
      ]
    },
    {
      "cell_type": "markdown",
      "metadata": {
        "id": "DLf-1tRMx7CG",
        "colab_type": "text"
      },
      "source": [
        "#### 3rd test on 3 moods"
      ]
    },
    {
      "cell_type": "code",
      "metadata": {
        "id": "mLbo9d3HyNbF",
        "colab_type": "code",
        "colab": {}
      },
      "source": [
        "data2 = data2.drop(['name'], axis=1)"
      ],
      "execution_count": null,
      "outputs": []
    },
    {
      "cell_type": "code",
      "metadata": {
        "id": "ULBaJ6gh0dB1",
        "colab_type": "code",
        "colab": {}
      },
      "source": [
        "y = data2['emotion']\n",
        "X = data2.drop('emotion', axis=1)"
      ],
      "execution_count": null,
      "outputs": []
    },
    {
      "cell_type": "code",
      "metadata": {
        "id": "mapMUwYM0gnu",
        "colab_type": "code",
        "colab": {}
      },
      "source": [
        "from sklearn.model_selection import train_test_split\n",
        "X_train, X_test, y_train, y_test = train_test_split(X, y, test_size=0.2, random_state=42)"
      ],
      "execution_count": null,
      "outputs": []
    },
    {
      "cell_type": "code",
      "metadata": {
        "id": "zIibtVvV0k-E",
        "colab_type": "code",
        "colab": {}
      },
      "source": [
        "from sklearn.preprocessing import StandardScaler\n",
        "std = StandardScaler()\n",
        "X_train = std.fit_transform(X_train)\n",
        "X_test = std.transform(X_test)"
      ],
      "execution_count": null,
      "outputs": []
    },
    {
      "cell_type": "code",
      "metadata": {
        "id": "L1773BF90lhO",
        "colab_type": "code",
        "colab": {
          "base_uri": "https://localhost:8080/",
          "height": 153
        },
        "outputId": "c17551fe-0ff5-4097-e47d-0fc9b6416ad8"
      },
      "source": [
        "forest2= RandomForestClassifier()\n",
        "forest2.fit(X_train, y_train)"
      ],
      "execution_count": null,
      "outputs": [
        {
          "output_type": "execute_result",
          "data": {
            "text/plain": [
              "RandomForestClassifier(bootstrap=True, ccp_alpha=0.0, class_weight=None,\n",
              "                       criterion='gini', max_depth=None, max_features='auto',\n",
              "                       max_leaf_nodes=None, max_samples=None,\n",
              "                       min_impurity_decrease=0.0, min_impurity_split=None,\n",
              "                       min_samples_leaf=1, min_samples_split=2,\n",
              "                       min_weight_fraction_leaf=0.0, n_estimators=100,\n",
              "                       n_jobs=None, oob_score=False, random_state=None,\n",
              "                       verbose=0, warm_start=False)"
            ]
          },
          "metadata": {
            "tags": []
          },
          "execution_count": 79
        }
      ]
    },
    {
      "cell_type": "code",
      "metadata": {
        "id": "YhSVcQOV0qgv",
        "colab_type": "code",
        "colab": {
          "base_uri": "https://localhost:8080/",
          "height": 187
        },
        "outputId": "d78bc69a-2ec3-4060-8998-0e0f79d5e0f0"
      },
      "source": [
        "print(classification_report(y_true=y_test, y_pred=forest2.predict(X_test)))"
      ],
      "execution_count": null,
      "outputs": [
        {
          "output_type": "stream",
          "text": [
            "              precision    recall  f1-score   support\n",
            "\n",
            "   Confident       0.74      0.67      0.70        21\n",
            "    Positive       0.48      0.56      0.51        18\n",
            "  Reflective       0.84      0.80      0.82        20\n",
            "\n",
            "    accuracy                           0.68        59\n",
            "   macro avg       0.69      0.67      0.68        59\n",
            "weighted avg       0.69      0.68      0.68        59\n",
            "\n"
          ],
          "name": "stdout"
        }
      ]
    },
    {
      "cell_type": "markdown",
      "metadata": {
        "id": "Y3eHC9w3e4ga",
        "colab_type": "text"
      },
      "source": [
        "#### PCA trial on the overall dataset\n",
        "\n"
      ]
    },
    {
      "cell_type": "code",
      "metadata": {
        "id": "5jjADmo6e66E",
        "colab_type": "code",
        "colab": {}
      },
      "source": [
        "from sklearn.decomposition import PCA \n",
        "pca = PCA(n_components=2)"
      ],
      "execution_count": null,
      "outputs": []
    },
    {
      "cell_type": "code",
      "metadata": {
        "id": "N6nUz7uPfoyI",
        "colab_type": "code",
        "colab": {
          "base_uri": "https://localhost:8080/",
          "height": 204
        },
        "outputId": "7b1e799c-8703-43d6-9720-f28f48c35c91"
      },
      "source": [
        "principalComponents = pca.fit_transform(X)\n",
        "principalDF = pd.DataFrame(data = principalComponents, columns = ['principal component 1', 'principal component 2'])\n",
        "principalDF.head()"
      ],
      "execution_count": null,
      "outputs": [
        {
          "output_type": "execute_result",
          "data": {
            "text/html": [
              "<div>\n",
              "<style scoped>\n",
              "    .dataframe tbody tr th:only-of-type {\n",
              "        vertical-align: middle;\n",
              "    }\n",
              "\n",
              "    .dataframe tbody tr th {\n",
              "        vertical-align: top;\n",
              "    }\n",
              "\n",
              "    .dataframe thead th {\n",
              "        text-align: right;\n",
              "    }\n",
              "</style>\n",
              "<table border=\"1\" class=\"dataframe\">\n",
              "  <thead>\n",
              "    <tr style=\"text-align: right;\">\n",
              "      <th></th>\n",
              "      <th>principal component 1</th>\n",
              "      <th>principal component 2</th>\n",
              "      <th>principal component 3</th>\n",
              "    </tr>\n",
              "  </thead>\n",
              "  <tbody>\n",
              "    <tr>\n",
              "      <th>0</th>\n",
              "      <td>4404.516203</td>\n",
              "      <td>384.408541</td>\n",
              "      <td>88.392664</td>\n",
              "    </tr>\n",
              "    <tr>\n",
              "      <th>1</th>\n",
              "      <td>491.519248</td>\n",
              "      <td>-79.530971</td>\n",
              "      <td>-42.732316</td>\n",
              "    </tr>\n",
              "    <tr>\n",
              "      <th>2</th>\n",
              "      <td>-3250.963223</td>\n",
              "      <td>202.551731</td>\n",
              "      <td>-33.876490</td>\n",
              "    </tr>\n",
              "    <tr>\n",
              "      <th>3</th>\n",
              "      <td>-79.555275</td>\n",
              "      <td>-285.187823</td>\n",
              "      <td>27.591148</td>\n",
              "    </tr>\n",
              "    <tr>\n",
              "      <th>4</th>\n",
              "      <td>-1260.459622</td>\n",
              "      <td>-136.005519</td>\n",
              "      <td>-51.290096</td>\n",
              "    </tr>\n",
              "  </tbody>\n",
              "</table>\n",
              "</div>"
            ],
            "text/plain": [
              "   principal component 1  principal component 2  principal component 3\n",
              "0            4404.516203             384.408541              88.392664\n",
              "1             491.519248             -79.530971             -42.732316\n",
              "2           -3250.963223             202.551731             -33.876490\n",
              "3             -79.555275            -285.187823              27.591148\n",
              "4           -1260.459622            -136.005519             -51.290096"
            ]
          },
          "metadata": {
            "tags": []
          },
          "execution_count": 20
        }
      ]
    },
    {
      "cell_type": "code",
      "metadata": {
        "id": "98YqDBGhf7xJ",
        "colab_type": "code",
        "colab": {
          "base_uri": "https://localhost:8080/",
          "height": 296
        },
        "outputId": "8afc0d54-d4f1-47f9-8e28-a6c4a83473ee"
      },
      "source": [
        "sns.scatterplot(x=principalDF.columns[0], \n",
        "                y=principalDF.columns[1], \n",
        "                hue=data_new.columns[-1],\n",
        "                data = pd.concat([principalDF, data_new.emotion], axis=1))"
      ],
      "execution_count": null,
      "outputs": [
        {
          "output_type": "execute_result",
          "data": {
            "text/plain": [
              "<matplotlib.axes._subplots.AxesSubplot at 0x7fc5f98d7f60>"
            ]
          },
          "metadata": {
            "tags": []
          },
          "execution_count": 22
        },
        {
          "output_type": "display_data",
          "data": {
            "image/png": "[encoded data removed]",
            "text/plain": [
              "<Figure size 432x288 with 1 Axes>"
            ]
          },
          "metadata": {
            "tags": [],
            "needs_background": "light"
          }
        }
      ]
    },
    {
      "cell_type": "code",
      "metadata": {
        "id": "JzRXydzzf8XF",
        "colab_type": "code",
        "colab": {
          "base_uri": "https://localhost:8080/",
          "height": 34
        },
        "outputId": "cba390ab-0c97-4159-c9d6-890fafbf6659"
      },
      "source": [
        "pca.explained_variance_ratio_"
      ],
      "execution_count": null,
      "outputs": [
        {
          "output_type": "execute_result",
          "data": {
            "text/plain": [
              "array([0.98017382, 0.01349178])"
            ]
          },
          "metadata": {
            "tags": []
          },
          "execution_count": 17
        }
      ]
    },
    {
      "cell_type": "markdown",
      "metadata": {
        "id": "P9UHIlGZh5rA",
        "colab_type": "text"
      },
      "source": [
        "#### SVM test"
      ]
    },
    {
      "cell_type": "code",
      "metadata": {
        "id": "lvh2lttOh7i6",
        "colab_type": "code",
        "colab": {
          "base_uri": "https://localhost:8080/",
          "height": 85
        },
        "outputId": "74f76847-bd7d-41ad-ac83-b47fcd4bc462"
      },
      "source": [
        "from sklearn.svm import SVC\n",
        "clf = SVC(kernel='linear')\n",
        "clf.fit(X_train, y_train)"
      ],
      "execution_count": null,
      "outputs": [
        {
          "output_type": "execute_result",
          "data": {
            "text/plain": [
              "SVC(C=1.0, break_ties=False, cache_size=200, class_weight=None, coef0=0.0,\n",
              "    decision_function_shape='ovr', degree=3, gamma='scale', kernel='linear',\n",
              "    max_iter=-1, probability=False, random_state=None, shrinking=True,\n",
              "    tol=0.001, verbose=False)"
            ]
          },
          "metadata": {
            "tags": []
          },
          "execution_count": 30
        }
      ]
    },
    {
      "cell_type": "code",
      "metadata": {
        "id": "EW0Xvrlli62n",
        "colab_type": "code",
        "colab": {
          "base_uri": "https://localhost:8080/",
          "height": 34
        },
        "outputId": "fdf9b1e3-53b4-41b4-883f-2f1965440b25"
      },
      "source": [
        "clf.score(X_test,y_test)"
      ],
      "execution_count": null,
      "outputs": [
        {
          "output_type": "execute_result",
          "data": {
            "text/plain": [
              "0.5316455696202531"
            ]
          },
          "metadata": {
            "tags": []
          },
          "execution_count": 31
        }
      ]
    },
    {
      "cell_type": "markdown",
      "metadata": {
        "id": "vauggcMhvzeS",
        "colab_type": "text"
      },
      "source": [
        "**After trying different models, we can see that it is not so easy to determine the emotions. The \"reflective\" one seems easier to find out. This characteric is maybe due by the style of the 'reflective music' which is generally more downtempo and can be distinguished easily.\n",
        "In order to improve these models we could maybe consider working on a larger dataset so the models will have more datas to train on.**"
      ]
    },
    {
      "cell_type": "code",
      "metadata": {
        "id": "x-IGjKf2kC98",
        "colab_type": "code",
        "colab": {}
      },
      "source": [
        ""
      ],
      "execution_count": null,
      "outputs": []
    }
  ]
}