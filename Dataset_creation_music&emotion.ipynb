{
  "nbformat": 4,
  "nbformat_minor": 0,
  "metadata": {
    "colab": {
      "name": "Dataset creation_music&emotion.ipynb",
      "provenance": []
    },
    "kernelspec": {
      "name": "python3",
      "display_name": "Python 3"
    }
  },
  "cells": [
    {
      "cell_type": "markdown",
      "metadata": {
        "id": "s-QRhMRyToXv",
        "colab_type": "text"
      },
      "source": [
        "## Audio & Emotions\n",
        "\n",
        "This notebook shows how I extracted audio features from music coming from my own Itunes Library.\n",
        "I created 4 datasets of audio features extracted from around 100 tracks each. Each dataset corresponds to an emotion: Positive/Tension/Reflective and Confident.\n",
        "The idea was to predict the main emotion express of a track studying only audio features.\n",
        "I used the library Librosa and get inspired from GTZAN Dataset creation to extract audio features.\n",
        "\n"
      ]
    },
    {
      "cell_type": "code",
      "metadata": {
        "id": "z-qSVfDoaOD_",
        "colab_type": "code",
        "colab": {
          "base_uri": "https://localhost:8080/",
          "height": 241
        },
        "outputId": "6279a276-cdec-46cf-893c-2c594b56eb35"
      },
      "source": [
        "pip install librosa"
      ],
      "execution_count": null,
      "outputs": [
        {
          "output_type": "stream",
          "text": [
            "Requirement already satisfied: librosa in /usr/local/lib/python3.6/dist-packages (0.6.3)\n",
            "Requirement already satisfied: numba>=0.38.0 in /usr/local/lib/python3.6/dist-packages (from librosa) (0.48.0)\n",
            "Requirement already satisfied: six>=1.3 in /usr/local/lib/python3.6/dist-packages (from librosa) (1.12.0)\n",
            "Requirement already satisfied: scipy>=1.0.0 in /usr/local/lib/python3.6/dist-packages (from librosa) (1.4.1)\n",
            "Requirement already satisfied: scikit-learn!=0.19.0,>=0.14.0 in /usr/local/lib/python3.6/dist-packages (from librosa) (0.22.2.post1)\n",
            "Requirement already satisfied: numpy>=1.8.0 in /usr/local/lib/python3.6/dist-packages (from librosa) (1.18.5)\n",
            "Requirement already satisfied: resampy>=0.2.0 in /usr/local/lib/python3.6/dist-packages (from librosa) (0.2.2)\n",
            "Requirement already satisfied: joblib>=0.12 in /usr/local/lib/python3.6/dist-packages (from librosa) (0.16.0)\n",
            "Requirement already satisfied: decorator>=3.0.0 in /usr/local/lib/python3.6/dist-packages (from librosa) (4.4.2)\n",
            "Requirement already satisfied: audioread>=2.0.0 in /usr/local/lib/python3.6/dist-packages (from librosa) (2.1.8)\n",
            "Requirement already satisfied: setuptools in /usr/local/lib/python3.6/dist-packages (from numba>=0.38.0->librosa) (49.1.0)\n",
            "Requirement already satisfied: llvmlite<0.32.0,>=0.31.0dev0 in /usr/local/lib/python3.6/dist-packages (from numba>=0.38.0->librosa) (0.31.0)\n"
          ],
          "name": "stdout"
        }
      ]
    },
    {
      "cell_type": "code",
      "metadata": {
        "id": "5g8lBYwqYP2D",
        "colab_type": "code",
        "colab": {
          "base_uri": "https://localhost:8080/",
          "height": 122
        },
        "outputId": "8ec59e29-fd90-4092-e4fb-f314045312c4"
      },
      "source": [
        "pip install ffmpeg-python"
      ],
      "execution_count": null,
      "outputs": [
        {
          "output_type": "stream",
          "text": [
            "Collecting ffmpeg-python\n",
            "  Downloading https://files.pythonhosted.org/packages/d7/0c/56be52741f75bad4dc6555991fabd2e07b432d333da82c11ad701123888a/ffmpeg_python-0.2.0-py3-none-any.whl\n",
            "Requirement already satisfied: future in /usr/local/lib/python3.6/dist-packages (from ffmpeg-python) (0.16.0)\n",
            "Installing collected packages: ffmpeg-python\n",
            "Successfully installed ffmpeg-python-0.2.0\n"
          ],
          "name": "stdout"
        }
      ]
    },
    {
      "cell_type": "code",
      "metadata": {
        "id": "xmJ2MC8mr6Zf",
        "colab_type": "code",
        "colab": {
          "base_uri": "https://localhost:8080/",
          "height": 258
        },
        "outputId": "a5fe6a1b-05f2-4ee3-8128-3ab842c04d7f"
      },
      "source": [
        "pip install eyeD3"
      ],
      "execution_count": null,
      "outputs": [
        {
          "output_type": "stream",
          "text": [
            "Collecting eyeD3\n",
            "\u001b[?25l  Downloading https://files.pythonhosted.org/packages/bd/67/202bcc28b01684f8fe18921f4b1dbe44b471b2c407f5d784849d513e417f/eyeD3-0.9.5-py2.py3-none-any.whl (145kB)\n",
            "\r\u001b[K     |██▎                             | 10kB 20.5MB/s eta 0:00:01\r\u001b[K     |████▌                           | 20kB 6.1MB/s eta 0:00:01\r\u001b[K     |██████▊                         | 30kB 7.3MB/s eta 0:00:01\r\u001b[K     |█████████                       | 40kB 7.9MB/s eta 0:00:01\r\u001b[K     |███████████▎                    | 51kB 7.1MB/s eta 0:00:01\r\u001b[K     |█████████████▌                  | 61kB 8.0MB/s eta 0:00:01\r\u001b[K     |███████████████▉                | 71kB 8.3MB/s eta 0:00:01\r\u001b[K     |██████████████████              | 81kB 8.7MB/s eta 0:00:01\r\u001b[K     |████████████████████▎           | 92kB 9.2MB/s eta 0:00:01\r\u001b[K     |██████████████████████▋         | 102kB 9.2MB/s eta 0:00:01\r\u001b[K     |████████████████████████▉       | 112kB 9.2MB/s eta 0:00:01\r\u001b[K     |███████████████████████████     | 122kB 9.2MB/s eta 0:00:01\r\u001b[K     |█████████████████████████████▎  | 133kB 9.2MB/s eta 0:00:01\r\u001b[K     |███████████████████████████████▋| 143kB 9.2MB/s eta 0:00:01\r\u001b[K     |████████████████████████████████| 153kB 9.2MB/s \n",
            "\u001b[?25hCollecting deprecation\n",
            "  Downloading https://files.pythonhosted.org/packages/02/c3/253a89ee03fc9b9682f1541728eb66db7db22148cd94f89ab22528cd1e1b/deprecation-2.1.0-py2.py3-none-any.whl\n",
            "Requirement already satisfied: dataclasses; python_version < \"3.7\" in /usr/local/lib/python3.6/dist-packages (from eyeD3) (0.7)\n",
            "Collecting filetype\n",
            "  Downloading https://files.pythonhosted.org/packages/b4/6b/7bc015da1a576ac037582ae0c5acb675371de9e017e860931e97a428ee31/filetype-1.0.7-py2.py3-none-any.whl\n",
            "Requirement already satisfied: packaging in /usr/local/lib/python3.6/dist-packages (from deprecation->eyeD3) (20.4)\n",
            "Requirement already satisfied: pyparsing>=2.0.2 in /usr/local/lib/python3.6/dist-packages (from packaging->deprecation->eyeD3) (2.4.7)\n",
            "Requirement already satisfied: six in /usr/local/lib/python3.6/dist-packages (from packaging->deprecation->eyeD3) (1.12.0)\n",
            "Installing collected packages: deprecation, filetype, eyeD3\n",
            "Successfully installed deprecation-2.1.0 eyeD3-0.9.5 filetype-1.0.7\n"
          ],
          "name": "stdout"
        }
      ]
    },
    {
      "cell_type": "code",
      "metadata": {
        "id": "ynKQp-2uaY8l",
        "colab_type": "code",
        "colab": {
          "base_uri": "https://localhost:8080/",
          "height": 71
        },
        "outputId": "a05a80d8-8c8d-4a27-d761-8fa0f80d7afb"
      },
      "source": [
        "import eyed3\n",
        "import ffmpeg\n",
        "import librosa\n",
        "import os\n",
        "import zipfile\n",
        "import pathlib\n",
        "import pandas as pd\n",
        "import numpy as np\n",
        "import seaborn as sns\n",
        "import matplotlib.pyplot as plt\n"
      ],
      "execution_count": null,
      "outputs": [
        {
          "output_type": "stream",
          "text": [
            "/usr/local/lib/python3.6/dist-packages/statsmodels/tools/_testing.py:19: FutureWarning: pandas.util.testing is deprecated. Use the functions in the public API at pandas.testing instead.\n",
            "  import pandas.util.testing as tm\n"
          ],
          "name": "stderr"
        }
      ]
    },
    {
      "cell_type": "markdown",
      "metadata": {
        "id": "HJzpRtoQUuP4",
        "colab_type": "text"
      },
      "source": [
        "#### Function to transform music files into numeric audio samples"
      ]
    },
    {
      "cell_type": "code",
      "metadata": {
        "id": "8FUefBMiExa2",
        "colab_type": "code",
        "colab": {}
      },
      "source": [
        "def preprocess(music_file):\n",
        "     to_predict = []\n",
        "     audiofile = eyed3.load(music_file)\n",
        "     y, sr = librosa.load(music_file, mono=True, duration=30, offset=15)\n",
        "     tempo, beats = librosa.beat.beat_track(y=y, sr=sr)\n",
        "     # Append name\n",
        "     to_predict.append(audiofile.tag.title)\n",
        "     # Append tempo\n",
        "     to_predict.append(tempo)\n",
        "     # Append beats\n",
        "     to_predict.append(beats.shape[0])\n",
        "     # Append chroma_stft\n",
        "     to_predict.append(np.mean(librosa.feature.chroma_stft(y=y, sr=sr)))\n",
        "     # Append rmse\n",
        "     to_predict.append(np.mean(librosa.feature.rmse(y=y)))\n",
        "     # Append spectral centroid\n",
        "     to_predict.append(np.mean(librosa.feature.spectral_centroid(y=y, sr=sr)))\n",
        "     # Append spectral bandwidth\n",
        "     to_predict.append(np.mean(librosa.feature.spectral_bandwidth(y=y, sr=sr)))\n",
        "     # Append roll-off\n",
        "     to_predict.append(np.mean(librosa.feature.spectral_rolloff(y=y, sr=sr)))\n",
        "     # Append zero crossing rate\n",
        "     to_predict.append(np.mean(librosa.feature.zero_crossing_rate(y)))\n",
        "     # Append mfccs\n",
        "     mfcc = librosa.feature.mfcc(y=y, sr=sr)\n",
        "     for e in mfcc:\n",
        "         to_predict.append(np.mean(e))\n",
        "     # Append target(emotion)\n",
        "     to_predict.append('Positive')\n",
        "     return to_predict"
      ],
      "execution_count": null,
      "outputs": []
    },
    {
      "cell_type": "code",
      "metadata": {
        "id": "WBRHHAjcEz2d",
        "colab_type": "code",
        "colab": {
          "base_uri": "https://localhost:8080/",
          "height": 190
        },
        "outputId": "49d3e477-d872-45cb-b16c-c801725ffe22"
      },
      "source": [
        "data = []\n",
        "for s in filesname:\n",
        "  data.append(preprocess(s))\n",
        " "
      ],
      "execution_count": null,
      "outputs": [
        {
          "output_type": "stream",
          "text": [
            "Invalid date: 0000\n",
            "/usr/local/lib/python3.6/dist-packages/librosa/beat.py:306: DeprecationWarning: np.asscalar(a) is deprecated since NumPy v1.16, use a.item() instead\n",
            "  hop_length=hop_length))\n",
            "Invalid date: 0000\n",
            "/usr/local/lib/python3.6/dist-packages/librosa/beat.py:306: DeprecationWarning: np.asscalar(a) is deprecated since NumPy v1.16, use a.item() instead\n",
            "  hop_length=hop_length))\n",
            "Invalid date: 0000\n",
            "/usr/local/lib/python3.6/dist-packages/librosa/beat.py:306: DeprecationWarning: np.asscalar(a) is deprecated since NumPy v1.16, use a.item() instead\n",
            "  hop_length=hop_length))\n"
          ],
          "name": "stderr"
        }
      ]
    },
    {
      "cell_type": "markdown",
      "metadata": {
        "id": "fpeYCrCF346F",
        "colab_type": "text"
      },
      "source": [
        "#### Preprocessing on each files of music. I processed the transformation one file after another.\n",
        "\n"
      ]
    },
    {
      "cell_type": "markdown",
      "metadata": {
        "id": "hOhKipBqlvLl",
        "colab_type": "text"
      },
      "source": [
        "PATH : opening of the zip files and extraction of the datas\n"
      ]
    },
    {
      "cell_type": "code",
      "metadata": {
        "id": "HcwfcseQrSWc",
        "colab_type": "code",
        "colab": {}
      },
      "source": [
        "zip_file = r'/content/drive/My Drive/Colab Notebooks/PROJET FINAL/data/Positive_Cool.zip'\n",
        "target_folder = r'/content/drive/My Drive/Colab Notebooks/PROJET FINAL/data'\n",
        "\n",
        "with zipfile.ZipFile(zip_file, 'r') as my_zip:\n",
        "    mp3_files = [name for name in my_zip.namelist() if os.path.splitext(name)[1].lower() == '.mp3']\n",
        "    my_zip.extractall(target_folder, mp3_files)"
      ],
      "execution_count": null,
      "outputs": []
    },
    {
      "cell_type": "code",
      "metadata": {
        "id": "7B-Ap94hmDf2",
        "colab_type": "code",
        "colab": {}
      },
      "source": [
        "emotion = pathlib.Path('/content/drive/My Drive/Colab Notebooks/PROJET FINAL/data/Positive_Cool')"
      ],
      "execution_count": null,
      "outputs": []
    },
    {
      "cell_type": "code",
      "metadata": {
        "id": "7oIe-VQ1wf8x",
        "colab_type": "code",
        "colab": {
          "base_uri": "https://localhost:8080/",
          "height": 1000
        },
        "outputId": "1d7e4b0a-3083-4de5-cb90-0d16131c12af"
      },
      "source": [
        "music = []\n",
        "for e in emotion.iterdir():\n",
        "  music.append(preprocess(e))\n",
        "  print()"
      ],
      "execution_count": null,
      "outputs": [
        {
          "output_type": "stream",
          "text": [
            "Invalid date: 0000\n",
            "/usr/local/lib/python3.6/dist-packages/librosa/beat.py:306: DeprecationWarning: np.asscalar(a) is deprecated since NumPy v1.16, use a.item() instead\n",
            "  hop_length=hop_length))\n"
          ],
          "name": "stderr"
        },
        {
          "output_type": "stream",
          "text": [
            "\n"
          ],
          "name": "stdout"
        },
        {
          "output_type": "stream",
          "text": [
            "/usr/local/lib/python3.6/dist-packages/librosa/beat.py:306: DeprecationWarning: np.asscalar(a) is deprecated since NumPy v1.16, use a.item() instead\n",
            "  hop_length=hop_length))\n"
          ],
          "name": "stderr"
        },
        {
          "output_type": "stream",
          "text": [
            "\n"
          ],
          "name": "stdout"
        },
        {
          "output_type": "stream",
          "text": [
            "/usr/local/lib/python3.6/dist-packages/librosa/beat.py:306: DeprecationWarning: np.asscalar(a) is deprecated since NumPy v1.16, use a.item() instead\n",
            "  hop_length=hop_length))\n"
          ],
          "name": "stderr"
        },
        {
          "output_type": "stream",
          "text": [
            "\n"
          ],
          "name": "stdout"
        },
        {
          "output_type": "stream",
          "text": [
            "/usr/local/lib/python3.6/dist-packages/librosa/beat.py:306: DeprecationWarning: np.asscalar(a) is deprecated since NumPy v1.16, use a.item() instead\n",
            "  hop_length=hop_length))\n"
          ],
          "name": "stderr"
        },
        {
          "output_type": "stream",
          "text": [
            "\n"
          ],
          "name": "stdout"
        },
        {
          "output_type": "stream",
          "text": [
            "/usr/local/lib/python3.6/dist-packages/librosa/beat.py:306: DeprecationWarning: np.asscalar(a) is deprecated since NumPy v1.16, use a.item() instead\n",
            "  hop_length=hop_length))\n"
          ],
          "name": "stderr"
        },
        {
          "output_type": "stream",
          "text": [
            "\n"
          ],
          "name": "stdout"
        },
        {
          "output_type": "stream",
          "text": [
            "/usr/local/lib/python3.6/dist-packages/librosa/beat.py:306: DeprecationWarning: np.asscalar(a) is deprecated since NumPy v1.16, use a.item() instead\n",
            "  hop_length=hop_length))\n"
          ],
          "name": "stderr"
        },
        {
          "output_type": "stream",
          "text": [
            "\n"
          ],
          "name": "stdout"
        },
        {
          "output_type": "stream",
          "text": [
            "/usr/local/lib/python3.6/dist-packages/librosa/beat.py:306: DeprecationWarning: np.asscalar(a) is deprecated since NumPy v1.16, use a.item() instead\n",
            "  hop_length=hop_length))\n"
          ],
          "name": "stderr"
        },
        {
          "output_type": "stream",
          "text": [
            "\n"
          ],
          "name": "stdout"
        },
        {
          "output_type": "stream",
          "text": [
            "/usr/local/lib/python3.6/dist-packages/librosa/beat.py:306: DeprecationWarning: np.asscalar(a) is deprecated since NumPy v1.16, use a.item() instead\n",
            "  hop_length=hop_length))\n"
          ],
          "name": "stderr"
        },
        {
          "output_type": "stream",
          "text": [
            "\n"
          ],
          "name": "stdout"
        },
        {
          "output_type": "stream",
          "text": [
            "/usr/local/lib/python3.6/dist-packages/librosa/beat.py:306: DeprecationWarning: np.asscalar(a) is deprecated since NumPy v1.16, use a.item() instead\n",
            "  hop_length=hop_length))\n"
          ],
          "name": "stderr"
        },
        {
          "output_type": "stream",
          "text": [
            "\n"
          ],
          "name": "stdout"
        },
        {
          "output_type": "stream",
          "text": [
            "/usr/local/lib/python3.6/dist-packages/librosa/beat.py:306: DeprecationWarning: np.asscalar(a) is deprecated since NumPy v1.16, use a.item() instead\n",
            "  hop_length=hop_length))\n",
            "Invalid UFID, owner_id is empty. Setting to 'http://www.id3.org/dummy/ufid.html'\n"
          ],
          "name": "stderr"
        },
        {
          "output_type": "stream",
          "text": [
            "\n"
          ],
          "name": "stdout"
        },
        {
          "output_type": "stream",
          "text": [
            "/usr/local/lib/python3.6/dist-packages/librosa/beat.py:306: DeprecationWarning: np.asscalar(a) is deprecated since NumPy v1.16, use a.item() instead\n",
            "  hop_length=hop_length))\n"
          ],
          "name": "stderr"
        },
        {
          "output_type": "stream",
          "text": [
            "\n"
          ],
          "name": "stdout"
        },
        {
          "output_type": "stream",
          "text": [
            "/usr/local/lib/python3.6/dist-packages/librosa/beat.py:306: DeprecationWarning: np.asscalar(a) is deprecated since NumPy v1.16, use a.item() instead\n",
            "  hop_length=hop_length))\n"
          ],
          "name": "stderr"
        },
        {
          "output_type": "stream",
          "text": [
            "\n"
          ],
          "name": "stdout"
        },
        {
          "output_type": "stream",
          "text": [
            "/usr/local/lib/python3.6/dist-packages/librosa/beat.py:306: DeprecationWarning: np.asscalar(a) is deprecated since NumPy v1.16, use a.item() instead\n",
            "  hop_length=hop_length))\n"
          ],
          "name": "stderr"
        },
        {
          "output_type": "stream",
          "text": [
            "\n"
          ],
          "name": "stdout"
        },
        {
          "output_type": "stream",
          "text": [
            "/usr/local/lib/python3.6/dist-packages/librosa/beat.py:306: DeprecationWarning: np.asscalar(a) is deprecated since NumPy v1.16, use a.item() instead\n",
            "  hop_length=hop_length))\n"
          ],
          "name": "stderr"
        },
        {
          "output_type": "stream",
          "text": [
            "\n"
          ],
          "name": "stdout"
        },
        {
          "output_type": "stream",
          "text": [
            "/usr/local/lib/python3.6/dist-packages/librosa/beat.py:306: DeprecationWarning: np.asscalar(a) is deprecated since NumPy v1.16, use a.item() instead\n",
            "  hop_length=hop_length))\n"
          ],
          "name": "stderr"
        },
        {
          "output_type": "stream",
          "text": [
            "\n"
          ],
          "name": "stdout"
        },
        {
          "output_type": "stream",
          "text": [
            "/usr/local/lib/python3.6/dist-packages/librosa/beat.py:306: DeprecationWarning: np.asscalar(a) is deprecated since NumPy v1.16, use a.item() instead\n",
            "  hop_length=hop_length))\n"
          ],
          "name": "stderr"
        },
        {
          "output_type": "stream",
          "text": [
            "\n"
          ],
          "name": "stdout"
        },
        {
          "output_type": "stream",
          "text": [
            "/usr/local/lib/python3.6/dist-packages/librosa/beat.py:306: DeprecationWarning: np.asscalar(a) is deprecated since NumPy v1.16, use a.item() instead\n",
            "  hop_length=hop_length))\n",
            "Lame tag CRC check failed\n"
          ],
          "name": "stderr"
        },
        {
          "output_type": "stream",
          "text": [
            "\n"
          ],
          "name": "stdout"
        },
        {
          "output_type": "stream",
          "text": [
            "/usr/local/lib/python3.6/dist-packages/librosa/beat.py:306: DeprecationWarning: np.asscalar(a) is deprecated since NumPy v1.16, use a.item() instead\n",
            "  hop_length=hop_length))\n"
          ],
          "name": "stderr"
        },
        {
          "output_type": "stream",
          "text": [
            "\n"
          ],
          "name": "stdout"
        },
        {
          "output_type": "stream",
          "text": [
            "/usr/local/lib/python3.6/dist-packages/librosa/beat.py:306: DeprecationWarning: np.asscalar(a) is deprecated since NumPy v1.16, use a.item() instead\n",
            "  hop_length=hop_length))\n"
          ],
          "name": "stderr"
        },
        {
          "output_type": "stream",
          "text": [
            "\n"
          ],
          "name": "stdout"
        },
        {
          "output_type": "stream",
          "text": [
            "/usr/local/lib/python3.6/dist-packages/librosa/beat.py:306: DeprecationWarning: np.asscalar(a) is deprecated since NumPy v1.16, use a.item() instead\n",
            "  hop_length=hop_length))\n"
          ],
          "name": "stderr"
        },
        {
          "output_type": "stream",
          "text": [
            "\n"
          ],
          "name": "stdout"
        },
        {
          "output_type": "stream",
          "text": [
            "/usr/local/lib/python3.6/dist-packages/librosa/beat.py:306: DeprecationWarning: np.asscalar(a) is deprecated since NumPy v1.16, use a.item() instead\n",
            "  hop_length=hop_length))\n"
          ],
          "name": "stderr"
        },
        {
          "output_type": "stream",
          "text": [
            "\n"
          ],
          "name": "stdout"
        },
        {
          "output_type": "stream",
          "text": [
            "/usr/local/lib/python3.6/dist-packages/librosa/beat.py:306: DeprecationWarning: np.asscalar(a) is deprecated since NumPy v1.16, use a.item() instead\n",
            "  hop_length=hop_length))\n"
          ],
          "name": "stderr"
        },
        {
          "output_type": "stream",
          "text": [
            "\n"
          ],
          "name": "stdout"
        },
        {
          "output_type": "stream",
          "text": [
            "/usr/local/lib/python3.6/dist-packages/librosa/beat.py:306: DeprecationWarning: np.asscalar(a) is deprecated since NumPy v1.16, use a.item() instead\n",
            "  hop_length=hop_length))\n"
          ],
          "name": "stderr"
        },
        {
          "output_type": "stream",
          "text": [
            "\n"
          ],
          "name": "stdout"
        },
        {
          "output_type": "stream",
          "text": [
            "/usr/local/lib/python3.6/dist-packages/librosa/beat.py:306: DeprecationWarning: np.asscalar(a) is deprecated since NumPy v1.16, use a.item() instead\n",
            "  hop_length=hop_length))\n"
          ],
          "name": "stderr"
        },
        {
          "output_type": "stream",
          "text": [
            "\n"
          ],
          "name": "stdout"
        },
        {
          "output_type": "stream",
          "text": [
            "/usr/local/lib/python3.6/dist-packages/librosa/beat.py:306: DeprecationWarning: np.asscalar(a) is deprecated since NumPy v1.16, use a.item() instead\n",
            "  hop_length=hop_length))\n"
          ],
          "name": "stderr"
        },
        {
          "output_type": "stream",
          "text": [
            "\n"
          ],
          "name": "stdout"
        },
        {
          "output_type": "stream",
          "text": [
            "/usr/local/lib/python3.6/dist-packages/librosa/beat.py:306: DeprecationWarning: np.asscalar(a) is deprecated since NumPy v1.16, use a.item() instead\n",
            "  hop_length=hop_length))\n"
          ],
          "name": "stderr"
        },
        {
          "output_type": "stream",
          "text": [
            "\n"
          ],
          "name": "stdout"
        },
        {
          "output_type": "stream",
          "text": [
            "/usr/local/lib/python3.6/dist-packages/librosa/beat.py:306: DeprecationWarning: np.asscalar(a) is deprecated since NumPy v1.16, use a.item() instead\n",
            "  hop_length=hop_length))\n"
          ],
          "name": "stderr"
        },
        {
          "output_type": "stream",
          "text": [
            "\n"
          ],
          "name": "stdout"
        },
        {
          "output_type": "stream",
          "text": [
            "/usr/local/lib/python3.6/dist-packages/librosa/beat.py:306: DeprecationWarning: np.asscalar(a) is deprecated since NumPy v1.16, use a.item() instead\n",
            "  hop_length=hop_length))\n"
          ],
          "name": "stderr"
        },
        {
          "output_type": "stream",
          "text": [
            "\n"
          ],
          "name": "stdout"
        },
        {
          "output_type": "stream",
          "text": [
            "/usr/local/lib/python3.6/dist-packages/librosa/beat.py:306: DeprecationWarning: np.asscalar(a) is deprecated since NumPy v1.16, use a.item() instead\n",
            "  hop_length=hop_length))\n"
          ],
          "name": "stderr"
        },
        {
          "output_type": "stream",
          "text": [
            "\n"
          ],
          "name": "stdout"
        },
        {
          "output_type": "stream",
          "text": [
            "/usr/local/lib/python3.6/dist-packages/librosa/beat.py:306: DeprecationWarning: np.asscalar(a) is deprecated since NumPy v1.16, use a.item() instead\n",
            "  hop_length=hop_length))\n"
          ],
          "name": "stderr"
        },
        {
          "output_type": "stream",
          "text": [
            "\n"
          ],
          "name": "stdout"
        },
        {
          "output_type": "stream",
          "text": [
            "/usr/local/lib/python3.6/dist-packages/librosa/beat.py:306: DeprecationWarning: np.asscalar(a) is deprecated since NumPy v1.16, use a.item() instead\n",
            "  hop_length=hop_length))\n"
          ],
          "name": "stderr"
        },
        {
          "output_type": "stream",
          "text": [
            "\n"
          ],
          "name": "stdout"
        },
        {
          "output_type": "stream",
          "text": [
            "/usr/local/lib/python3.6/dist-packages/librosa/beat.py:306: DeprecationWarning: np.asscalar(a) is deprecated since NumPy v1.16, use a.item() instead\n",
            "  hop_length=hop_length))\n"
          ],
          "name": "stderr"
        },
        {
          "output_type": "stream",
          "text": [
            "\n"
          ],
          "name": "stdout"
        },
        {
          "output_type": "stream",
          "text": [
            "/usr/local/lib/python3.6/dist-packages/librosa/beat.py:306: DeprecationWarning: np.asscalar(a) is deprecated since NumPy v1.16, use a.item() instead\n",
            "  hop_length=hop_length))\n"
          ],
          "name": "stderr"
        },
        {
          "output_type": "stream",
          "text": [
            "\n"
          ],
          "name": "stdout"
        },
        {
          "output_type": "stream",
          "text": [
            "/usr/local/lib/python3.6/dist-packages/librosa/beat.py:306: DeprecationWarning: np.asscalar(a) is deprecated since NumPy v1.16, use a.item() instead\n",
            "  hop_length=hop_length))\n"
          ],
          "name": "stderr"
        },
        {
          "output_type": "stream",
          "text": [
            "\n"
          ],
          "name": "stdout"
        },
        {
          "output_type": "stream",
          "text": [
            "/usr/local/lib/python3.6/dist-packages/librosa/beat.py:306: DeprecationWarning: np.asscalar(a) is deprecated since NumPy v1.16, use a.item() instead\n",
            "  hop_length=hop_length))\n"
          ],
          "name": "stderr"
        },
        {
          "output_type": "stream",
          "text": [
            "\n"
          ],
          "name": "stdout"
        },
        {
          "output_type": "stream",
          "text": [
            "/usr/local/lib/python3.6/dist-packages/librosa/beat.py:306: DeprecationWarning: np.asscalar(a) is deprecated since NumPy v1.16, use a.item() instead\n",
            "  hop_length=hop_length))\n"
          ],
          "name": "stderr"
        },
        {
          "output_type": "stream",
          "text": [
            "\n"
          ],
          "name": "stdout"
        },
        {
          "output_type": "stream",
          "text": [
            "/usr/local/lib/python3.6/dist-packages/librosa/beat.py:306: DeprecationWarning: np.asscalar(a) is deprecated since NumPy v1.16, use a.item() instead\n",
            "  hop_length=hop_length))\n",
            "Invalid date: 0000\n"
          ],
          "name": "stderr"
        },
        {
          "output_type": "stream",
          "text": [
            "\n"
          ],
          "name": "stdout"
        },
        {
          "output_type": "stream",
          "text": [
            "/usr/local/lib/python3.6/dist-packages/librosa/beat.py:306: DeprecationWarning: np.asscalar(a) is deprecated since NumPy v1.16, use a.item() instead\n",
            "  hop_length=hop_length))\n"
          ],
          "name": "stderr"
        },
        {
          "output_type": "stream",
          "text": [
            "\n"
          ],
          "name": "stdout"
        },
        {
          "output_type": "stream",
          "text": [
            "/usr/local/lib/python3.6/dist-packages/librosa/beat.py:306: DeprecationWarning: np.asscalar(a) is deprecated since NumPy v1.16, use a.item() instead\n",
            "  hop_length=hop_length))\n"
          ],
          "name": "stderr"
        },
        {
          "output_type": "stream",
          "text": [
            "\n"
          ],
          "name": "stdout"
        },
        {
          "output_type": "stream",
          "text": [
            "/usr/local/lib/python3.6/dist-packages/librosa/beat.py:306: DeprecationWarning: np.asscalar(a) is deprecated since NumPy v1.16, use a.item() instead\n",
            "  hop_length=hop_length))\n"
          ],
          "name": "stderr"
        },
        {
          "output_type": "stream",
          "text": [
            "\n"
          ],
          "name": "stdout"
        },
        {
          "output_type": "stream",
          "text": [
            "/usr/local/lib/python3.6/dist-packages/librosa/beat.py:306: DeprecationWarning: np.asscalar(a) is deprecated since NumPy v1.16, use a.item() instead\n",
            "  hop_length=hop_length))\n"
          ],
          "name": "stderr"
        },
        {
          "output_type": "stream",
          "text": [
            "\n"
          ],
          "name": "stdout"
        },
        {
          "output_type": "stream",
          "text": [
            "/usr/local/lib/python3.6/dist-packages/librosa/beat.py:306: DeprecationWarning: np.asscalar(a) is deprecated since NumPy v1.16, use a.item() instead\n",
            "  hop_length=hop_length))\n"
          ],
          "name": "stderr"
        },
        {
          "output_type": "stream",
          "text": [
            "\n"
          ],
          "name": "stdout"
        },
        {
          "output_type": "stream",
          "text": [
            "/usr/local/lib/python3.6/dist-packages/librosa/beat.py:306: DeprecationWarning: np.asscalar(a) is deprecated since NumPy v1.16, use a.item() instead\n",
            "  hop_length=hop_length))\n"
          ],
          "name": "stderr"
        },
        {
          "output_type": "stream",
          "text": [
            "\n"
          ],
          "name": "stdout"
        },
        {
          "output_type": "stream",
          "text": [
            "/usr/local/lib/python3.6/dist-packages/librosa/beat.py:306: DeprecationWarning: np.asscalar(a) is deprecated since NumPy v1.16, use a.item() instead\n",
            "  hop_length=hop_length))\n"
          ],
          "name": "stderr"
        },
        {
          "output_type": "stream",
          "text": [
            "\n"
          ],
          "name": "stdout"
        },
        {
          "output_type": "stream",
          "text": [
            "/usr/local/lib/python3.6/dist-packages/librosa/beat.py:306: DeprecationWarning: np.asscalar(a) is deprecated since NumPy v1.16, use a.item() instead\n",
            "  hop_length=hop_length))\n"
          ],
          "name": "stderr"
        },
        {
          "output_type": "stream",
          "text": [
            "\n"
          ],
          "name": "stdout"
        },
        {
          "output_type": "stream",
          "text": [
            "/usr/local/lib/python3.6/dist-packages/librosa/beat.py:306: DeprecationWarning: np.asscalar(a) is deprecated since NumPy v1.16, use a.item() instead\n",
            "  hop_length=hop_length))\n"
          ],
          "name": "stderr"
        },
        {
          "output_type": "stream",
          "text": [
            "\n"
          ],
          "name": "stdout"
        },
        {
          "output_type": "stream",
          "text": [
            "/usr/local/lib/python3.6/dist-packages/librosa/beat.py:306: DeprecationWarning: np.asscalar(a) is deprecated since NumPy v1.16, use a.item() instead\n",
            "  hop_length=hop_length))\n"
          ],
          "name": "stderr"
        },
        {
          "output_type": "stream",
          "text": [
            "\n"
          ],
          "name": "stdout"
        },
        {
          "output_type": "stream",
          "text": [
            "/usr/local/lib/python3.6/dist-packages/librosa/beat.py:306: DeprecationWarning: np.asscalar(a) is deprecated since NumPy v1.16, use a.item() instead\n",
            "  hop_length=hop_length))\n"
          ],
          "name": "stderr"
        },
        {
          "output_type": "stream",
          "text": [
            "\n"
          ],
          "name": "stdout"
        },
        {
          "output_type": "stream",
          "text": [
            "/usr/local/lib/python3.6/dist-packages/librosa/beat.py:306: DeprecationWarning: np.asscalar(a) is deprecated since NumPy v1.16, use a.item() instead\n",
            "  hop_length=hop_length))\n"
          ],
          "name": "stderr"
        },
        {
          "output_type": "stream",
          "text": [
            "\n"
          ],
          "name": "stdout"
        },
        {
          "output_type": "stream",
          "text": [
            "/usr/local/lib/python3.6/dist-packages/librosa/beat.py:306: DeprecationWarning: np.asscalar(a) is deprecated since NumPy v1.16, use a.item() instead\n",
            "  hop_length=hop_length))\n"
          ],
          "name": "stderr"
        },
        {
          "output_type": "stream",
          "text": [
            "\n"
          ],
          "name": "stdout"
        },
        {
          "output_type": "stream",
          "text": [
            "/usr/local/lib/python3.6/dist-packages/librosa/beat.py:306: DeprecationWarning: np.asscalar(a) is deprecated since NumPy v1.16, use a.item() instead\n",
            "  hop_length=hop_length))\n"
          ],
          "name": "stderr"
        },
        {
          "output_type": "stream",
          "text": [
            "\n"
          ],
          "name": "stdout"
        },
        {
          "output_type": "stream",
          "text": [
            "/usr/local/lib/python3.6/dist-packages/librosa/beat.py:306: DeprecationWarning: np.asscalar(a) is deprecated since NumPy v1.16, use a.item() instead\n",
            "  hop_length=hop_length))\n"
          ],
          "name": "stderr"
        },
        {
          "output_type": "stream",
          "text": [
            "\n"
          ],
          "name": "stdout"
        },
        {
          "output_type": "stream",
          "text": [
            "/usr/local/lib/python3.6/dist-packages/librosa/beat.py:306: DeprecationWarning: np.asscalar(a) is deprecated since NumPy v1.16, use a.item() instead\n",
            "  hop_length=hop_length))\n"
          ],
          "name": "stderr"
        },
        {
          "output_type": "stream",
          "text": [
            "\n"
          ],
          "name": "stdout"
        },
        {
          "output_type": "stream",
          "text": [
            "/usr/local/lib/python3.6/dist-packages/librosa/beat.py:306: DeprecationWarning: np.asscalar(a) is deprecated since NumPy v1.16, use a.item() instead\n",
            "  hop_length=hop_length))\n"
          ],
          "name": "stderr"
        },
        {
          "output_type": "stream",
          "text": [
            "\n"
          ],
          "name": "stdout"
        },
        {
          "output_type": "stream",
          "text": [
            "/usr/local/lib/python3.6/dist-packages/librosa/beat.py:306: DeprecationWarning: np.asscalar(a) is deprecated since NumPy v1.16, use a.item() instead\n",
            "  hop_length=hop_length))\n"
          ],
          "name": "stderr"
        },
        {
          "output_type": "stream",
          "text": [
            "\n"
          ],
          "name": "stdout"
        },
        {
          "output_type": "stream",
          "text": [
            "/usr/local/lib/python3.6/dist-packages/librosa/beat.py:306: DeprecationWarning: np.asscalar(a) is deprecated since NumPy v1.16, use a.item() instead\n",
            "  hop_length=hop_length))\n"
          ],
          "name": "stderr"
        },
        {
          "output_type": "stream",
          "text": [
            "\n"
          ],
          "name": "stdout"
        },
        {
          "output_type": "stream",
          "text": [
            "/usr/local/lib/python3.6/dist-packages/librosa/beat.py:306: DeprecationWarning: np.asscalar(a) is deprecated since NumPy v1.16, use a.item() instead\n",
            "  hop_length=hop_length))\n"
          ],
          "name": "stderr"
        },
        {
          "output_type": "stream",
          "text": [
            "\n"
          ],
          "name": "stdout"
        },
        {
          "output_type": "stream",
          "text": [
            "/usr/local/lib/python3.6/dist-packages/librosa/beat.py:306: DeprecationWarning: np.asscalar(a) is deprecated since NumPy v1.16, use a.item() instead\n",
            "  hop_length=hop_length))\n"
          ],
          "name": "stderr"
        },
        {
          "output_type": "stream",
          "text": [
            "\n"
          ],
          "name": "stdout"
        },
        {
          "output_type": "stream",
          "text": [
            "/usr/local/lib/python3.6/dist-packages/librosa/beat.py:306: DeprecationWarning: np.asscalar(a) is deprecated since NumPy v1.16, use a.item() instead\n",
            "  hop_length=hop_length))\n"
          ],
          "name": "stderr"
        },
        {
          "output_type": "stream",
          "text": [
            "\n"
          ],
          "name": "stdout"
        },
        {
          "output_type": "stream",
          "text": [
            "/usr/local/lib/python3.6/dist-packages/librosa/beat.py:306: DeprecationWarning: np.asscalar(a) is deprecated since NumPy v1.16, use a.item() instead\n",
            "  hop_length=hop_length))\n",
            "Lame tag CRC check failed\n"
          ],
          "name": "stderr"
        },
        {
          "output_type": "stream",
          "text": [
            "\n"
          ],
          "name": "stdout"
        },
        {
          "output_type": "stream",
          "text": [
            "/usr/local/lib/python3.6/dist-packages/librosa/beat.py:306: DeprecationWarning: np.asscalar(a) is deprecated since NumPy v1.16, use a.item() instead\n",
            "  hop_length=hop_length))\n"
          ],
          "name": "stderr"
        },
        {
          "output_type": "stream",
          "text": [
            "\n"
          ],
          "name": "stdout"
        },
        {
          "output_type": "stream",
          "text": [
            "/usr/local/lib/python3.6/dist-packages/librosa/beat.py:306: DeprecationWarning: np.asscalar(a) is deprecated since NumPy v1.16, use a.item() instead\n",
            "  hop_length=hop_length))\n"
          ],
          "name": "stderr"
        },
        {
          "output_type": "stream",
          "text": [
            "\n"
          ],
          "name": "stdout"
        },
        {
          "output_type": "stream",
          "text": [
            "/usr/local/lib/python3.6/dist-packages/librosa/beat.py:306: DeprecationWarning: np.asscalar(a) is deprecated since NumPy v1.16, use a.item() instead\n",
            "  hop_length=hop_length))\n"
          ],
          "name": "stderr"
        },
        {
          "output_type": "stream",
          "text": [
            "\n"
          ],
          "name": "stdout"
        },
        {
          "output_type": "stream",
          "text": [
            "/usr/local/lib/python3.6/dist-packages/librosa/beat.py:306: DeprecationWarning: np.asscalar(a) is deprecated since NumPy v1.16, use a.item() instead\n",
            "  hop_length=hop_length))\n"
          ],
          "name": "stderr"
        },
        {
          "output_type": "stream",
          "text": [
            "\n"
          ],
          "name": "stdout"
        },
        {
          "output_type": "stream",
          "text": [
            "/usr/local/lib/python3.6/dist-packages/librosa/beat.py:306: DeprecationWarning: np.asscalar(a) is deprecated since NumPy v1.16, use a.item() instead\n",
            "  hop_length=hop_length))\n",
            "APIC frame does not contain a mime type\n",
            "Lame tag CRC check failed\n"
          ],
          "name": "stderr"
        },
        {
          "output_type": "stream",
          "text": [
            "\n"
          ],
          "name": "stdout"
        },
        {
          "output_type": "stream",
          "text": [
            "/usr/local/lib/python3.6/dist-packages/librosa/beat.py:306: DeprecationWarning: np.asscalar(a) is deprecated since NumPy v1.16, use a.item() instead\n",
            "  hop_length=hop_length))\n"
          ],
          "name": "stderr"
        },
        {
          "output_type": "stream",
          "text": [
            "\n"
          ],
          "name": "stdout"
        },
        {
          "output_type": "stream",
          "text": [
            "/usr/local/lib/python3.6/dist-packages/librosa/beat.py:306: DeprecationWarning: np.asscalar(a) is deprecated since NumPy v1.16, use a.item() instead\n",
            "  hop_length=hop_length))\n"
          ],
          "name": "stderr"
        },
        {
          "output_type": "stream",
          "text": [
            "\n"
          ],
          "name": "stdout"
        },
        {
          "output_type": "stream",
          "text": [
            "/usr/local/lib/python3.6/dist-packages/librosa/beat.py:306: DeprecationWarning: np.asscalar(a) is deprecated since NumPy v1.16, use a.item() instead\n",
            "  hop_length=hop_length))\n"
          ],
          "name": "stderr"
        },
        {
          "output_type": "stream",
          "text": [
            "\n"
          ],
          "name": "stdout"
        },
        {
          "output_type": "stream",
          "text": [
            "/usr/local/lib/python3.6/dist-packages/librosa/beat.py:306: DeprecationWarning: np.asscalar(a) is deprecated since NumPy v1.16, use a.item() instead\n",
            "  hop_length=hop_length))\n"
          ],
          "name": "stderr"
        },
        {
          "output_type": "stream",
          "text": [
            "\n"
          ],
          "name": "stdout"
        },
        {
          "output_type": "stream",
          "text": [
            "/usr/local/lib/python3.6/dist-packages/librosa/beat.py:306: DeprecationWarning: np.asscalar(a) is deprecated since NumPy v1.16, use a.item() instead\n",
            "  hop_length=hop_length))\n"
          ],
          "name": "stderr"
        },
        {
          "output_type": "stream",
          "text": [
            "\n"
          ],
          "name": "stdout"
        },
        {
          "output_type": "stream",
          "text": [
            "/usr/local/lib/python3.6/dist-packages/librosa/beat.py:306: DeprecationWarning: np.asscalar(a) is deprecated since NumPy v1.16, use a.item() instead\n",
            "  hop_length=hop_length))\n"
          ],
          "name": "stderr"
        },
        {
          "output_type": "stream",
          "text": [
            "\n"
          ],
          "name": "stdout"
        },
        {
          "output_type": "stream",
          "text": [
            "/usr/local/lib/python3.6/dist-packages/librosa/beat.py:306: DeprecationWarning: np.asscalar(a) is deprecated since NumPy v1.16, use a.item() instead\n",
            "  hop_length=hop_length))\n"
          ],
          "name": "stderr"
        },
        {
          "output_type": "stream",
          "text": [
            "\n"
          ],
          "name": "stdout"
        },
        {
          "output_type": "stream",
          "text": [
            "/usr/local/lib/python3.6/dist-packages/librosa/beat.py:306: DeprecationWarning: np.asscalar(a) is deprecated since NumPy v1.16, use a.item() instead\n",
            "  hop_length=hop_length))\n"
          ],
          "name": "stderr"
        },
        {
          "output_type": "stream",
          "text": [
            "\n"
          ],
          "name": "stdout"
        },
        {
          "output_type": "stream",
          "text": [
            "/usr/local/lib/python3.6/dist-packages/librosa/beat.py:306: DeprecationWarning: np.asscalar(a) is deprecated since NumPy v1.16, use a.item() instead\n",
            "  hop_length=hop_length))\n"
          ],
          "name": "stderr"
        },
        {
          "output_type": "stream",
          "text": [
            "\n"
          ],
          "name": "stdout"
        },
        {
          "output_type": "stream",
          "text": [
            "/usr/local/lib/python3.6/dist-packages/librosa/beat.py:306: DeprecationWarning: np.asscalar(a) is deprecated since NumPy v1.16, use a.item() instead\n",
            "  hop_length=hop_length))\n",
            "Invalid date: 0801\n",
            "Invalid date: 0827\n"
          ],
          "name": "stderr"
        },
        {
          "output_type": "stream",
          "text": [
            "\n"
          ],
          "name": "stdout"
        },
        {
          "output_type": "stream",
          "text": [
            "/usr/local/lib/python3.6/dist-packages/librosa/beat.py:306: DeprecationWarning: np.asscalar(a) is deprecated since NumPy v1.16, use a.item() instead\n",
            "  hop_length=hop_length))\n"
          ],
          "name": "stderr"
        },
        {
          "output_type": "stream",
          "text": [
            "\n"
          ],
          "name": "stdout"
        },
        {
          "output_type": "stream",
          "text": [
            "/usr/local/lib/python3.6/dist-packages/librosa/beat.py:306: DeprecationWarning: np.asscalar(a) is deprecated since NumPy v1.16, use a.item() instead\n",
            "  hop_length=hop_length))\n",
            "Invalid date: 0000\n"
          ],
          "name": "stderr"
        },
        {
          "output_type": "stream",
          "text": [
            "\n"
          ],
          "name": "stdout"
        },
        {
          "output_type": "stream",
          "text": [
            "/usr/local/lib/python3.6/dist-packages/librosa/beat.py:306: DeprecationWarning: np.asscalar(a) is deprecated since NumPy v1.16, use a.item() instead\n",
            "  hop_length=hop_length))\n"
          ],
          "name": "stderr"
        },
        {
          "output_type": "stream",
          "text": [
            "\n"
          ],
          "name": "stdout"
        },
        {
          "output_type": "stream",
          "text": [
            "/usr/local/lib/python3.6/dist-packages/librosa/beat.py:306: DeprecationWarning: np.asscalar(a) is deprecated since NumPy v1.16, use a.item() instead\n",
            "  hop_length=hop_length))\n"
          ],
          "name": "stderr"
        },
        {
          "output_type": "stream",
          "text": [
            "\n"
          ],
          "name": "stdout"
        },
        {
          "output_type": "stream",
          "text": [
            "/usr/local/lib/python3.6/dist-packages/librosa/beat.py:306: DeprecationWarning: np.asscalar(a) is deprecated since NumPy v1.16, use a.item() instead\n",
            "  hop_length=hop_length))\n"
          ],
          "name": "stderr"
        },
        {
          "output_type": "stream",
          "text": [
            "\n"
          ],
          "name": "stdout"
        },
        {
          "output_type": "stream",
          "text": [
            "/usr/local/lib/python3.6/dist-packages/librosa/beat.py:306: DeprecationWarning: np.asscalar(a) is deprecated since NumPy v1.16, use a.item() instead\n",
            "  hop_length=hop_length))\n",
            "Invalid date: 0000\n"
          ],
          "name": "stderr"
        },
        {
          "output_type": "stream",
          "text": [
            "\n"
          ],
          "name": "stdout"
        },
        {
          "output_type": "stream",
          "text": [
            "/usr/local/lib/python3.6/dist-packages/librosa/beat.py:306: DeprecationWarning: np.asscalar(a) is deprecated since NumPy v1.16, use a.item() instead\n",
            "  hop_length=hop_length))\n"
          ],
          "name": "stderr"
        },
        {
          "output_type": "stream",
          "text": [
            "\n"
          ],
          "name": "stdout"
        },
        {
          "output_type": "stream",
          "text": [
            "/usr/local/lib/python3.6/dist-packages/librosa/beat.py:306: DeprecationWarning: np.asscalar(a) is deprecated since NumPy v1.16, use a.item() instead\n",
            "  hop_length=hop_length))\n"
          ],
          "name": "stderr"
        },
        {
          "output_type": "stream",
          "text": [
            "\n"
          ],
          "name": "stdout"
        },
        {
          "output_type": "stream",
          "text": [
            "/usr/local/lib/python3.6/dist-packages/librosa/beat.py:306: DeprecationWarning: np.asscalar(a) is deprecated since NumPy v1.16, use a.item() instead\n",
            "  hop_length=hop_length))\n"
          ],
          "name": "stderr"
        },
        {
          "output_type": "stream",
          "text": [
            "\n"
          ],
          "name": "stdout"
        },
        {
          "output_type": "stream",
          "text": [
            "/usr/local/lib/python3.6/dist-packages/librosa/beat.py:306: DeprecationWarning: np.asscalar(a) is deprecated since NumPy v1.16, use a.item() instead\n",
            "  hop_length=hop_length))\n"
          ],
          "name": "stderr"
        },
        {
          "output_type": "stream",
          "text": [
            "\n"
          ],
          "name": "stdout"
        },
        {
          "output_type": "stream",
          "text": [
            "/usr/local/lib/python3.6/dist-packages/librosa/beat.py:306: DeprecationWarning: np.asscalar(a) is deprecated since NumPy v1.16, use a.item() instead\n",
            "  hop_length=hop_length))\n"
          ],
          "name": "stderr"
        },
        {
          "output_type": "stream",
          "text": [
            "\n"
          ],
          "name": "stdout"
        },
        {
          "output_type": "stream",
          "text": [
            "/usr/local/lib/python3.6/dist-packages/librosa/beat.py:306: DeprecationWarning: np.asscalar(a) is deprecated since NumPy v1.16, use a.item() instead\n",
            "  hop_length=hop_length))\n"
          ],
          "name": "stderr"
        },
        {
          "output_type": "stream",
          "text": [
            "\n"
          ],
          "name": "stdout"
        },
        {
          "output_type": "stream",
          "text": [
            "/usr/local/lib/python3.6/dist-packages/librosa/beat.py:306: DeprecationWarning: np.asscalar(a) is deprecated since NumPy v1.16, use a.item() instead\n",
            "  hop_length=hop_length))\n"
          ],
          "name": "stderr"
        },
        {
          "output_type": "stream",
          "text": [
            "\n"
          ],
          "name": "stdout"
        },
        {
          "output_type": "stream",
          "text": [
            "/usr/local/lib/python3.6/dist-packages/librosa/beat.py:306: DeprecationWarning: np.asscalar(a) is deprecated since NumPy v1.16, use a.item() instead\n",
            "  hop_length=hop_length))\n"
          ],
          "name": "stderr"
        },
        {
          "output_type": "stream",
          "text": [
            "\n"
          ],
          "name": "stdout"
        },
        {
          "output_type": "stream",
          "text": [
            "/usr/local/lib/python3.6/dist-packages/librosa/beat.py:306: DeprecationWarning: np.asscalar(a) is deprecated since NumPy v1.16, use a.item() instead\n",
            "  hop_length=hop_length))\n"
          ],
          "name": "stderr"
        },
        {
          "output_type": "stream",
          "text": [
            "\n"
          ],
          "name": "stdout"
        },
        {
          "output_type": "stream",
          "text": [
            "/usr/local/lib/python3.6/dist-packages/librosa/beat.py:306: DeprecationWarning: np.asscalar(a) is deprecated since NumPy v1.16, use a.item() instead\n",
            "  hop_length=hop_length))\n"
          ],
          "name": "stderr"
        },
        {
          "output_type": "stream",
          "text": [
            "\n"
          ],
          "name": "stdout"
        },
        {
          "output_type": "stream",
          "text": [
            "/usr/local/lib/python3.6/dist-packages/librosa/beat.py:306: DeprecationWarning: np.asscalar(a) is deprecated since NumPy v1.16, use a.item() instead\n",
            "  hop_length=hop_length))\n"
          ],
          "name": "stderr"
        },
        {
          "output_type": "stream",
          "text": [
            "\n"
          ],
          "name": "stdout"
        },
        {
          "output_type": "stream",
          "text": [
            "/usr/local/lib/python3.6/dist-packages/librosa/beat.py:306: DeprecationWarning: np.asscalar(a) is deprecated since NumPy v1.16, use a.item() instead\n",
            "  hop_length=hop_length))\n"
          ],
          "name": "stderr"
        },
        {
          "output_type": "stream",
          "text": [
            "\n"
          ],
          "name": "stdout"
        },
        {
          "output_type": "stream",
          "text": [
            "/usr/local/lib/python3.6/dist-packages/librosa/beat.py:306: DeprecationWarning: np.asscalar(a) is deprecated since NumPy v1.16, use a.item() instead\n",
            "  hop_length=hop_length))\n"
          ],
          "name": "stderr"
        },
        {
          "output_type": "stream",
          "text": [
            "\n"
          ],
          "name": "stdout"
        },
        {
          "output_type": "stream",
          "text": [
            "/usr/local/lib/python3.6/dist-packages/librosa/beat.py:306: DeprecationWarning: np.asscalar(a) is deprecated since NumPy v1.16, use a.item() instead\n",
            "  hop_length=hop_length))\n"
          ],
          "name": "stderr"
        },
        {
          "output_type": "stream",
          "text": [
            "\n"
          ],
          "name": "stdout"
        },
        {
          "output_type": "stream",
          "text": [
            "/usr/local/lib/python3.6/dist-packages/librosa/beat.py:306: DeprecationWarning: np.asscalar(a) is deprecated since NumPy v1.16, use a.item() instead\n",
            "  hop_length=hop_length))\n"
          ],
          "name": "stderr"
        },
        {
          "output_type": "stream",
          "text": [
            "\n"
          ],
          "name": "stdout"
        },
        {
          "output_type": "stream",
          "text": [
            "/usr/local/lib/python3.6/dist-packages/librosa/beat.py:306: DeprecationWarning: np.asscalar(a) is deprecated since NumPy v1.16, use a.item() instead\n",
            "  hop_length=hop_length))\n"
          ],
          "name": "stderr"
        },
        {
          "output_type": "stream",
          "text": [
            "\n"
          ],
          "name": "stdout"
        },
        {
          "output_type": "stream",
          "text": [
            "/usr/local/lib/python3.6/dist-packages/librosa/beat.py:306: DeprecationWarning: np.asscalar(a) is deprecated since NumPy v1.16, use a.item() instead\n",
            "  hop_length=hop_length))\n"
          ],
          "name": "stderr"
        },
        {
          "output_type": "stream",
          "text": [
            "\n"
          ],
          "name": "stdout"
        },
        {
          "output_type": "stream",
          "text": [
            "/usr/local/lib/python3.6/dist-packages/librosa/beat.py:306: DeprecationWarning: np.asscalar(a) is deprecated since NumPy v1.16, use a.item() instead\n",
            "  hop_length=hop_length))\n"
          ],
          "name": "stderr"
        },
        {
          "output_type": "stream",
          "text": [
            "\n"
          ],
          "name": "stdout"
        }
      ]
    },
    {
      "cell_type": "markdown",
      "metadata": {
        "id": "6K2w50n_0d5O",
        "colab_type": "text"
      },
      "source": [
        "#### Creation of the dataset for each emotion"
      ]
    },
    {
      "cell_type": "code",
      "metadata": {
        "id": "m6GTynNMNbsi",
        "colab_type": "code",
        "colab": {
          "base_uri": "https://localhost:8080/",
          "height": 575
        },
        "outputId": "07019d68-26b6-4bcd-871f-65eee0247c57"
      },
      "source": [
        "music_data = pd.DataFrame(music)\n",
        "music_data"
      ],
      "execution_count": null,
      "outputs": [
        {
          "output_type": "execute_result",
          "data": {
            "text/html": [
              "<div>\n",
              "<style scoped>\n",
              "    .dataframe tbody tr th:only-of-type {\n",
              "        vertical-align: middle;\n",
              "    }\n",
              "\n",
              "    .dataframe tbody tr th {\n",
              "        vertical-align: top;\n",
              "    }\n",
              "\n",
              "    .dataframe thead th {\n",
              "        text-align: right;\n",
              "    }\n",
              "</style>\n",
              "<table border=\"1\" class=\"dataframe\">\n",
              "  <thead>\n",
              "    <tr style=\"text-align: right;\">\n",
              "      <th></th>\n",
              "      <th>0</th>\n",
              "      <th>1</th>\n",
              "      <th>2</th>\n",
              "      <th>3</th>\n",
              "      <th>4</th>\n",
              "      <th>5</th>\n",
              "      <th>6</th>\n",
              "      <th>7</th>\n",
              "      <th>8</th>\n",
              "      <th>9</th>\n",
              "      <th>10</th>\n",
              "      <th>11</th>\n",
              "      <th>12</th>\n",
              "      <th>13</th>\n",
              "      <th>14</th>\n",
              "      <th>15</th>\n",
              "      <th>16</th>\n",
              "      <th>17</th>\n",
              "      <th>18</th>\n",
              "      <th>19</th>\n",
              "      <th>20</th>\n",
              "      <th>21</th>\n",
              "      <th>22</th>\n",
              "      <th>23</th>\n",
              "      <th>24</th>\n",
              "      <th>25</th>\n",
              "      <th>26</th>\n",
              "      <th>27</th>\n",
              "      <th>28</th>\n",
              "      <th>29</th>\n",
              "    </tr>\n",
              "  </thead>\n",
              "  <tbody>\n",
              "    <tr>\n",
              "      <th>0</th>\n",
              "      <td>Atmosphere</td>\n",
              "      <td>117.453835</td>\n",
              "      <td>57</td>\n",
              "      <td>0.420317</td>\n",
              "      <td>0.172838</td>\n",
              "      <td>1681.995953</td>\n",
              "      <td>2131.978614</td>\n",
              "      <td>3656.944554</td>\n",
              "      <td>0.050860</td>\n",
              "      <td>-182.072595</td>\n",
              "      <td>110.632310</td>\n",
              "      <td>16.698201</td>\n",
              "      <td>33.788996</td>\n",
              "      <td>13.879141</td>\n",
              "      <td>19.001428</td>\n",
              "      <td>3.767332</td>\n",
              "      <td>1.409160</td>\n",
              "      <td>2.890195</td>\n",
              "      <td>3.222341</td>\n",
              "      <td>4.465174</td>\n",
              "      <td>3.242381</td>\n",
              "      <td>-1.963791</td>\n",
              "      <td>-2.341719</td>\n",
              "      <td>-3.616084</td>\n",
              "      <td>-2.701438</td>\n",
              "      <td>-4.977351</td>\n",
              "      <td>-3.165370</td>\n",
              "      <td>-3.640886</td>\n",
              "      <td>0.176411</td>\n",
              "      <td>Positive</td>\n",
              "    </tr>\n",
              "    <tr>\n",
              "      <th>1</th>\n",
              "      <td>Mineral Jam</td>\n",
              "      <td>117.453835</td>\n",
              "      <td>57</td>\n",
              "      <td>0.530285</td>\n",
              "      <td>0.364335</td>\n",
              "      <td>1179.936513</td>\n",
              "      <td>1525.160675</td>\n",
              "      <td>2318.044316</td>\n",
              "      <td>0.045548</td>\n",
              "      <td>-169.768073</td>\n",
              "      <td>128.011031</td>\n",
              "      <td>31.087594</td>\n",
              "      <td>41.338974</td>\n",
              "      <td>12.218054</td>\n",
              "      <td>14.371713</td>\n",
              "      <td>0.611594</td>\n",
              "      <td>4.866311</td>\n",
              "      <td>-4.419981</td>\n",
              "      <td>-3.461787</td>\n",
              "      <td>-4.486261</td>\n",
              "      <td>-1.051323</td>\n",
              "      <td>-4.566284</td>\n",
              "      <td>-2.433868</td>\n",
              "      <td>-3.681192</td>\n",
              "      <td>-0.303089</td>\n",
              "      <td>-5.670000</td>\n",
              "      <td>0.043169</td>\n",
              "      <td>-2.551780</td>\n",
              "      <td>-0.763620</td>\n",
              "      <td>Positive</td>\n",
              "    </tr>\n",
              "    <tr>\n",
              "      <th>2</th>\n",
              "      <td>Follow It Up</td>\n",
              "      <td>123.046875</td>\n",
              "      <td>57</td>\n",
              "      <td>0.487480</td>\n",
              "      <td>0.199916</td>\n",
              "      <td>1889.696244</td>\n",
              "      <td>2133.491562</td>\n",
              "      <td>3733.277425</td>\n",
              "      <td>0.081335</td>\n",
              "      <td>-158.373490</td>\n",
              "      <td>110.230342</td>\n",
              "      <td>10.147539</td>\n",
              "      <td>21.354809</td>\n",
              "      <td>6.072530</td>\n",
              "      <td>10.005396</td>\n",
              "      <td>-9.733303</td>\n",
              "      <td>4.145555</td>\n",
              "      <td>-5.548374</td>\n",
              "      <td>6.724870</td>\n",
              "      <td>-1.628670</td>\n",
              "      <td>4.610132</td>\n",
              "      <td>-4.824420</td>\n",
              "      <td>-6.962575</td>\n",
              "      <td>-11.116335</td>\n",
              "      <td>1.748993</td>\n",
              "      <td>-3.278139</td>\n",
              "      <td>2.372594</td>\n",
              "      <td>-1.994538</td>\n",
              "      <td>-0.616440</td>\n",
              "      <td>Positive</td>\n",
              "    </tr>\n",
              "    <tr>\n",
              "      <th>3</th>\n",
              "      <td>In the Mat</td>\n",
              "      <td>117.453835</td>\n",
              "      <td>57</td>\n",
              "      <td>0.453177</td>\n",
              "      <td>0.221536</td>\n",
              "      <td>1824.363991</td>\n",
              "      <td>2041.036663</td>\n",
              "      <td>3785.352110</td>\n",
              "      <td>0.074528</td>\n",
              "      <td>-163.914754</td>\n",
              "      <td>103.450245</td>\n",
              "      <td>22.506802</td>\n",
              "      <td>42.558706</td>\n",
              "      <td>8.406848</td>\n",
              "      <td>9.423533</td>\n",
              "      <td>-4.239890</td>\n",
              "      <td>-1.505637</td>\n",
              "      <td>-8.061546</td>\n",
              "      <td>-1.319770</td>\n",
              "      <td>-5.666580</td>\n",
              "      <td>3.293678</td>\n",
              "      <td>-5.581189</td>\n",
              "      <td>-2.775511</td>\n",
              "      <td>-5.318247</td>\n",
              "      <td>-1.134098</td>\n",
              "      <td>-4.920653</td>\n",
              "      <td>2.697815</td>\n",
              "      <td>-0.166322</td>\n",
              "      <td>-0.137896</td>\n",
              "      <td>Positive</td>\n",
              "    </tr>\n",
              "    <tr>\n",
              "      <th>4</th>\n",
              "      <td>See Me Ride (Original Mix)</td>\n",
              "      <td>103.359375</td>\n",
              "      <td>52</td>\n",
              "      <td>0.377362</td>\n",
              "      <td>0.222891</td>\n",
              "      <td>2762.107984</td>\n",
              "      <td>2780.328825</td>\n",
              "      <td>5801.481586</td>\n",
              "      <td>0.113545</td>\n",
              "      <td>-92.252813</td>\n",
              "      <td>87.248621</td>\n",
              "      <td>34.101466</td>\n",
              "      <td>-4.460067</td>\n",
              "      <td>-11.150378</td>\n",
              "      <td>9.331106</td>\n",
              "      <td>-7.702171</td>\n",
              "      <td>8.426838</td>\n",
              "      <td>-8.996495</td>\n",
              "      <td>-1.367987</td>\n",
              "      <td>-0.404270</td>\n",
              "      <td>0.095679</td>\n",
              "      <td>1.975821</td>\n",
              "      <td>4.382906</td>\n",
              "      <td>-5.835220</td>\n",
              "      <td>1.300028</td>\n",
              "      <td>-6.615231</td>\n",
              "      <td>-2.337214</td>\n",
              "      <td>-4.154540</td>\n",
              "      <td>3.108476</td>\n",
              "      <td>Positive</td>\n",
              "    </tr>\n",
              "    <tr>\n",
              "      <th>...</th>\n",
              "      <td>...</td>\n",
              "      <td>...</td>\n",
              "      <td>...</td>\n",
              "      <td>...</td>\n",
              "      <td>...</td>\n",
              "      <td>...</td>\n",
              "      <td>...</td>\n",
              "      <td>...</td>\n",
              "      <td>...</td>\n",
              "      <td>...</td>\n",
              "      <td>...</td>\n",
              "      <td>...</td>\n",
              "      <td>...</td>\n",
              "      <td>...</td>\n",
              "      <td>...</td>\n",
              "      <td>...</td>\n",
              "      <td>...</td>\n",
              "      <td>...</td>\n",
              "      <td>...</td>\n",
              "      <td>...</td>\n",
              "      <td>...</td>\n",
              "      <td>...</td>\n",
              "      <td>...</td>\n",
              "      <td>...</td>\n",
              "      <td>...</td>\n",
              "      <td>...</td>\n",
              "      <td>...</td>\n",
              "      <td>...</td>\n",
              "      <td>...</td>\n",
              "      <td>...</td>\n",
              "    </tr>\n",
              "    <tr>\n",
              "      <th>94</th>\n",
              "      <td>Ghana (Front De Cadeaux Remix)</td>\n",
              "      <td>99.384014</td>\n",
              "      <td>48</td>\n",
              "      <td>0.425671</td>\n",
              "      <td>0.186018</td>\n",
              "      <td>2919.254787</td>\n",
              "      <td>3000.910725</td>\n",
              "      <td>6719.059371</td>\n",
              "      <td>0.090457</td>\n",
              "      <td>-71.341667</td>\n",
              "      <td>55.225044</td>\n",
              "      <td>15.055480</td>\n",
              "      <td>37.236564</td>\n",
              "      <td>19.799401</td>\n",
              "      <td>16.556160</td>\n",
              "      <td>6.172121</td>\n",
              "      <td>12.234826</td>\n",
              "      <td>1.311653</td>\n",
              "      <td>10.795342</td>\n",
              "      <td>3.380288</td>\n",
              "      <td>-2.649493</td>\n",
              "      <td>-11.353858</td>\n",
              "      <td>-6.819909</td>\n",
              "      <td>-11.102570</td>\n",
              "      <td>-4.330784</td>\n",
              "      <td>-6.693387</td>\n",
              "      <td>-2.052264</td>\n",
              "      <td>-4.651951</td>\n",
              "      <td>6.701540</td>\n",
              "      <td>Positive</td>\n",
              "    </tr>\n",
              "    <tr>\n",
              "      <th>95</th>\n",
              "      <td>Folga</td>\n",
              "      <td>161.499023</td>\n",
              "      <td>77</td>\n",
              "      <td>0.500677</td>\n",
              "      <td>0.081555</td>\n",
              "      <td>1089.904414</td>\n",
              "      <td>1744.551012</td>\n",
              "      <td>2160.820267</td>\n",
              "      <td>0.027476</td>\n",
              "      <td>-356.090766</td>\n",
              "      <td>105.409538</td>\n",
              "      <td>30.265541</td>\n",
              "      <td>40.679173</td>\n",
              "      <td>24.356182</td>\n",
              "      <td>16.607426</td>\n",
              "      <td>7.728994</td>\n",
              "      <td>5.781097</td>\n",
              "      <td>4.936473</td>\n",
              "      <td>3.636472</td>\n",
              "      <td>-0.561351</td>\n",
              "      <td>2.528691</td>\n",
              "      <td>5.837641</td>\n",
              "      <td>6.510077</td>\n",
              "      <td>-0.715796</td>\n",
              "      <td>5.823413</td>\n",
              "      <td>3.562517</td>\n",
              "      <td>5.374062</td>\n",
              "      <td>1.259685</td>\n",
              "      <td>0.882494</td>\n",
              "      <td>Positive</td>\n",
              "    </tr>\n",
              "    <tr>\n",
              "      <th>96</th>\n",
              "      <td>Sara Rivera</td>\n",
              "      <td>123.046875</td>\n",
              "      <td>59</td>\n",
              "      <td>0.405982</td>\n",
              "      <td>0.209439</td>\n",
              "      <td>1813.543612</td>\n",
              "      <td>1934.347790</td>\n",
              "      <td>3487.420579</td>\n",
              "      <td>0.082908</td>\n",
              "      <td>-157.577105</td>\n",
              "      <td>112.467318</td>\n",
              "      <td>19.942006</td>\n",
              "      <td>30.484813</td>\n",
              "      <td>10.013509</td>\n",
              "      <td>10.432128</td>\n",
              "      <td>-10.715484</td>\n",
              "      <td>1.820524</td>\n",
              "      <td>-0.242141</td>\n",
              "      <td>-0.127934</td>\n",
              "      <td>-6.361413</td>\n",
              "      <td>-2.496305</td>\n",
              "      <td>-4.123600</td>\n",
              "      <td>-2.999218</td>\n",
              "      <td>-5.217306</td>\n",
              "      <td>-2.396622</td>\n",
              "      <td>-3.927131</td>\n",
              "      <td>-0.547768</td>\n",
              "      <td>-2.373000</td>\n",
              "      <td>4.622983</td>\n",
              "      <td>Positive</td>\n",
              "    </tr>\n",
              "    <tr>\n",
              "      <th>97</th>\n",
              "      <td>Risk the Rip</td>\n",
              "      <td>117.453835</td>\n",
              "      <td>56</td>\n",
              "      <td>0.351194</td>\n",
              "      <td>0.089719</td>\n",
              "      <td>1684.207098</td>\n",
              "      <td>1846.746658</td>\n",
              "      <td>3335.138166</td>\n",
              "      <td>0.062046</td>\n",
              "      <td>-255.871611</td>\n",
              "      <td>101.589155</td>\n",
              "      <td>1.029655</td>\n",
              "      <td>9.580618</td>\n",
              "      <td>-3.318956</td>\n",
              "      <td>6.293744</td>\n",
              "      <td>-12.529947</td>\n",
              "      <td>-9.186449</td>\n",
              "      <td>-24.207188</td>\n",
              "      <td>-18.179448</td>\n",
              "      <td>-21.240181</td>\n",
              "      <td>-21.031884</td>\n",
              "      <td>-19.339517</td>\n",
              "      <td>-16.576768</td>\n",
              "      <td>-10.965451</td>\n",
              "      <td>-5.266582</td>\n",
              "      <td>-5.219469</td>\n",
              "      <td>2.910833</td>\n",
              "      <td>-5.388279</td>\n",
              "      <td>-12.130870</td>\n",
              "      <td>Positive</td>\n",
              "    </tr>\n",
              "    <tr>\n",
              "      <th>98</th>\n",
              "      <td>Wish I Knew</td>\n",
              "      <td>117.453835</td>\n",
              "      <td>59</td>\n",
              "      <td>0.609108</td>\n",
              "      <td>0.149752</td>\n",
              "      <td>1882.106175</td>\n",
              "      <td>2183.636234</td>\n",
              "      <td>3794.852053</td>\n",
              "      <td>0.070154</td>\n",
              "      <td>-319.494829</td>\n",
              "      <td>65.231257</td>\n",
              "      <td>23.500420</td>\n",
              "      <td>23.844428</td>\n",
              "      <td>18.164745</td>\n",
              "      <td>20.468977</td>\n",
              "      <td>17.491174</td>\n",
              "      <td>16.475422</td>\n",
              "      <td>11.848711</td>\n",
              "      <td>8.432782</td>\n",
              "      <td>3.806594</td>\n",
              "      <td>5.528228</td>\n",
              "      <td>5.694064</td>\n",
              "      <td>5.102047</td>\n",
              "      <td>-0.062482</td>\n",
              "      <td>0.257216</td>\n",
              "      <td>-2.181219</td>\n",
              "      <td>-0.183837</td>\n",
              "      <td>-1.732434</td>\n",
              "      <td>0.596763</td>\n",
              "      <td>Positive</td>\n",
              "    </tr>\n",
              "  </tbody>\n",
              "</table>\n",
              "<p>99 rows × 30 columns</p>\n",
              "</div>"
            ],
            "text/plain": [
              "                                0           1   ...         28        29\n",
              "0                       Atmosphere  117.453835  ...   0.176411  Positive\n",
              "1                      Mineral Jam  117.453835  ...  -0.763620  Positive\n",
              "2                     Follow It Up  123.046875  ...  -0.616440  Positive\n",
              "3                       In the Mat  117.453835  ...  -0.137896  Positive\n",
              "4       See Me Ride (Original Mix)  103.359375  ...   3.108476  Positive\n",
              "..                             ...         ...  ...        ...       ...\n",
              "94  Ghana (Front De Cadeaux Remix)   99.384014  ...   6.701540  Positive\n",
              "95                           Folga  161.499023  ...   0.882494  Positive\n",
              "96                     Sara Rivera  123.046875  ...   4.622983  Positive\n",
              "97                    Risk the Rip  117.453835  ... -12.130870  Positive\n",
              "98                     Wish I Knew  117.453835  ...   0.596763  Positive\n",
              "\n",
              "[99 rows x 30 columns]"
            ]
          },
          "metadata": {
            "tags": []
          },
          "execution_count": 23
        }
      ]
    },
    {
      "cell_type": "code",
      "metadata": {
        "id": "71vGi4UYNmwJ",
        "colab_type": "code",
        "colab": {}
      },
      "source": [
        "music_data.columns=['name','tempo','beats','chroma_stft','rmse','spectral_centroid','spectral_bandwidth','rollof','zero_crossing_rate', 'mfcc1','mfcc2','mfcc3','mfcc4','mfcc5','mfcc6','mfcc7','mfcc8','mfcc9','mfcc10','mfcc11','mfcc12','mfcc13','mfcc14','mfcc15','mfcc16','mfcc17','mfcc18','mfcc19','mfcc20', 'emotion']"
      ],
      "execution_count": null,
      "outputs": []
    },
    {
      "cell_type": "code",
      "metadata": {
        "id": "QbJ_Ec9kyD6t",
        "colab_type": "code",
        "colab": {
          "base_uri": "https://localhost:8080/",
          "height": 575
        },
        "outputId": "46476c2f-ad76-4dee-bc2e-f2f846191d1e"
      },
      "source": [
        "music_data"
      ],
      "execution_count": null,
      "outputs": [
        {
          "output_type": "execute_result",
          "data": {
            "text/html": [
              "<div>\n",
              "<style scoped>\n",
              "    .dataframe tbody tr th:only-of-type {\n",
              "        vertical-align: middle;\n",
              "    }\n",
              "\n",
              "    .dataframe tbody tr th {\n",
              "        vertical-align: top;\n",
              "    }\n",
              "\n",
              "    .dataframe thead th {\n",
              "        text-align: right;\n",
              "    }\n",
              "</style>\n",
              "<table border=\"1\" class=\"dataframe\">\n",
              "  <thead>\n",
              "    <tr style=\"text-align: right;\">\n",
              "      <th></th>\n",
              "      <th>name</th>\n",
              "      <th>tempo</th>\n",
              "      <th>beats</th>\n",
              "      <th>chroma_stft</th>\n",
              "      <th>rmse</th>\n",
              "      <th>spectral_centroid</th>\n",
              "      <th>spectral_bandwidth</th>\n",
              "      <th>rollof</th>\n",
              "      <th>zero_crossing_rate</th>\n",
              "      <th>mfcc1</th>\n",
              "      <th>mfcc2</th>\n",
              "      <th>mfcc3</th>\n",
              "      <th>mfcc4</th>\n",
              "      <th>mfcc5</th>\n",
              "      <th>mfcc6</th>\n",
              "      <th>mfcc7</th>\n",
              "      <th>mfcc8</th>\n",
              "      <th>mfcc9</th>\n",
              "      <th>mfcc10</th>\n",
              "      <th>mfcc11</th>\n",
              "      <th>mfcc12</th>\n",
              "      <th>mfcc13</th>\n",
              "      <th>mfcc14</th>\n",
              "      <th>mfcc15</th>\n",
              "      <th>mfcc16</th>\n",
              "      <th>mfcc17</th>\n",
              "      <th>mfcc18</th>\n",
              "      <th>mfcc19</th>\n",
              "      <th>mfcc20</th>\n",
              "      <th>emotion</th>\n",
              "    </tr>\n",
              "  </thead>\n",
              "  <tbody>\n",
              "    <tr>\n",
              "      <th>0</th>\n",
              "      <td>Atmosphere</td>\n",
              "      <td>117.453835</td>\n",
              "      <td>57</td>\n",
              "      <td>0.420317</td>\n",
              "      <td>0.172838</td>\n",
              "      <td>1681.995953</td>\n",
              "      <td>2131.978614</td>\n",
              "      <td>3656.944554</td>\n",
              "      <td>0.050860</td>\n",
              "      <td>-182.072595</td>\n",
              "      <td>110.632310</td>\n",
              "      <td>16.698201</td>\n",
              "      <td>33.788996</td>\n",
              "      <td>13.879141</td>\n",
              "      <td>19.001428</td>\n",
              "      <td>3.767332</td>\n",
              "      <td>1.409160</td>\n",
              "      <td>2.890195</td>\n",
              "      <td>3.222341</td>\n",
              "      <td>4.465174</td>\n",
              "      <td>3.242381</td>\n",
              "      <td>-1.963791</td>\n",
              "      <td>-2.341719</td>\n",
              "      <td>-3.616084</td>\n",
              "      <td>-2.701438</td>\n",
              "      <td>-4.977351</td>\n",
              "      <td>-3.165370</td>\n",
              "      <td>-3.640886</td>\n",
              "      <td>0.176411</td>\n",
              "      <td>Positive</td>\n",
              "    </tr>\n",
              "    <tr>\n",
              "      <th>1</th>\n",
              "      <td>Mineral Jam</td>\n",
              "      <td>117.453835</td>\n",
              "      <td>57</td>\n",
              "      <td>0.530285</td>\n",
              "      <td>0.364335</td>\n",
              "      <td>1179.936513</td>\n",
              "      <td>1525.160675</td>\n",
              "      <td>2318.044316</td>\n",
              "      <td>0.045548</td>\n",
              "      <td>-169.768073</td>\n",
              "      <td>128.011031</td>\n",
              "      <td>31.087594</td>\n",
              "      <td>41.338974</td>\n",
              "      <td>12.218054</td>\n",
              "      <td>14.371713</td>\n",
              "      <td>0.611594</td>\n",
              "      <td>4.866311</td>\n",
              "      <td>-4.419981</td>\n",
              "      <td>-3.461787</td>\n",
              "      <td>-4.486261</td>\n",
              "      <td>-1.051323</td>\n",
              "      <td>-4.566284</td>\n",
              "      <td>-2.433868</td>\n",
              "      <td>-3.681192</td>\n",
              "      <td>-0.303089</td>\n",
              "      <td>-5.670000</td>\n",
              "      <td>0.043169</td>\n",
              "      <td>-2.551780</td>\n",
              "      <td>-0.763620</td>\n",
              "      <td>Positive</td>\n",
              "    </tr>\n",
              "    <tr>\n",
              "      <th>2</th>\n",
              "      <td>Follow It Up</td>\n",
              "      <td>123.046875</td>\n",
              "      <td>57</td>\n",
              "      <td>0.487480</td>\n",
              "      <td>0.199916</td>\n",
              "      <td>1889.696244</td>\n",
              "      <td>2133.491562</td>\n",
              "      <td>3733.277425</td>\n",
              "      <td>0.081335</td>\n",
              "      <td>-158.373490</td>\n",
              "      <td>110.230342</td>\n",
              "      <td>10.147539</td>\n",
              "      <td>21.354809</td>\n",
              "      <td>6.072530</td>\n",
              "      <td>10.005396</td>\n",
              "      <td>-9.733303</td>\n",
              "      <td>4.145555</td>\n",
              "      <td>-5.548374</td>\n",
              "      <td>6.724870</td>\n",
              "      <td>-1.628670</td>\n",
              "      <td>4.610132</td>\n",
              "      <td>-4.824420</td>\n",
              "      <td>-6.962575</td>\n",
              "      <td>-11.116335</td>\n",
              "      <td>1.748993</td>\n",
              "      <td>-3.278139</td>\n",
              "      <td>2.372594</td>\n",
              "      <td>-1.994538</td>\n",
              "      <td>-0.616440</td>\n",
              "      <td>Positive</td>\n",
              "    </tr>\n",
              "    <tr>\n",
              "      <th>3</th>\n",
              "      <td>In the Mat</td>\n",
              "      <td>117.453835</td>\n",
              "      <td>57</td>\n",
              "      <td>0.453177</td>\n",
              "      <td>0.221536</td>\n",
              "      <td>1824.363991</td>\n",
              "      <td>2041.036663</td>\n",
              "      <td>3785.352110</td>\n",
              "      <td>0.074528</td>\n",
              "      <td>-163.914754</td>\n",
              "      <td>103.450245</td>\n",
              "      <td>22.506802</td>\n",
              "      <td>42.558706</td>\n",
              "      <td>8.406848</td>\n",
              "      <td>9.423533</td>\n",
              "      <td>-4.239890</td>\n",
              "      <td>-1.505637</td>\n",
              "      <td>-8.061546</td>\n",
              "      <td>-1.319770</td>\n",
              "      <td>-5.666580</td>\n",
              "      <td>3.293678</td>\n",
              "      <td>-5.581189</td>\n",
              "      <td>-2.775511</td>\n",
              "      <td>-5.318247</td>\n",
              "      <td>-1.134098</td>\n",
              "      <td>-4.920653</td>\n",
              "      <td>2.697815</td>\n",
              "      <td>-0.166322</td>\n",
              "      <td>-0.137896</td>\n",
              "      <td>Positive</td>\n",
              "    </tr>\n",
              "    <tr>\n",
              "      <th>4</th>\n",
              "      <td>See Me Ride (Original Mix)</td>\n",
              "      <td>103.359375</td>\n",
              "      <td>52</td>\n",
              "      <td>0.377362</td>\n",
              "      <td>0.222891</td>\n",
              "      <td>2762.107984</td>\n",
              "      <td>2780.328825</td>\n",
              "      <td>5801.481586</td>\n",
              "      <td>0.113545</td>\n",
              "      <td>-92.252813</td>\n",
              "      <td>87.248621</td>\n",
              "      <td>34.101466</td>\n",
              "      <td>-4.460067</td>\n",
              "      <td>-11.150378</td>\n",
              "      <td>9.331106</td>\n",
              "      <td>-7.702171</td>\n",
              "      <td>8.426838</td>\n",
              "      <td>-8.996495</td>\n",
              "      <td>-1.367987</td>\n",
              "      <td>-0.404270</td>\n",
              "      <td>0.095679</td>\n",
              "      <td>1.975821</td>\n",
              "      <td>4.382906</td>\n",
              "      <td>-5.835220</td>\n",
              "      <td>1.300028</td>\n",
              "      <td>-6.615231</td>\n",
              "      <td>-2.337214</td>\n",
              "      <td>-4.154540</td>\n",
              "      <td>3.108476</td>\n",
              "      <td>Positive</td>\n",
              "    </tr>\n",
              "    <tr>\n",
              "      <th>...</th>\n",
              "      <td>...</td>\n",
              "      <td>...</td>\n",
              "      <td>...</td>\n",
              "      <td>...</td>\n",
              "      <td>...</td>\n",
              "      <td>...</td>\n",
              "      <td>...</td>\n",
              "      <td>...</td>\n",
              "      <td>...</td>\n",
              "      <td>...</td>\n",
              "      <td>...</td>\n",
              "      <td>...</td>\n",
              "      <td>...</td>\n",
              "      <td>...</td>\n",
              "      <td>...</td>\n",
              "      <td>...</td>\n",
              "      <td>...</td>\n",
              "      <td>...</td>\n",
              "      <td>...</td>\n",
              "      <td>...</td>\n",
              "      <td>...</td>\n",
              "      <td>...</td>\n",
              "      <td>...</td>\n",
              "      <td>...</td>\n",
              "      <td>...</td>\n",
              "      <td>...</td>\n",
              "      <td>...</td>\n",
              "      <td>...</td>\n",
              "      <td>...</td>\n",
              "      <td>...</td>\n",
              "    </tr>\n",
              "    <tr>\n",
              "      <th>94</th>\n",
              "      <td>Ghana (Front De Cadeaux Remix)</td>\n",
              "      <td>99.384014</td>\n",
              "      <td>48</td>\n",
              "      <td>0.425671</td>\n",
              "      <td>0.186018</td>\n",
              "      <td>2919.254787</td>\n",
              "      <td>3000.910725</td>\n",
              "      <td>6719.059371</td>\n",
              "      <td>0.090457</td>\n",
              "      <td>-71.341667</td>\n",
              "      <td>55.225044</td>\n",
              "      <td>15.055480</td>\n",
              "      <td>37.236564</td>\n",
              "      <td>19.799401</td>\n",
              "      <td>16.556160</td>\n",
              "      <td>6.172121</td>\n",
              "      <td>12.234826</td>\n",
              "      <td>1.311653</td>\n",
              "      <td>10.795342</td>\n",
              "      <td>3.380288</td>\n",
              "      <td>-2.649493</td>\n",
              "      <td>-11.353858</td>\n",
              "      <td>-6.819909</td>\n",
              "      <td>-11.102570</td>\n",
              "      <td>-4.330784</td>\n",
              "      <td>-6.693387</td>\n",
              "      <td>-2.052264</td>\n",
              "      <td>-4.651951</td>\n",
              "      <td>6.701540</td>\n",
              "      <td>Positive</td>\n",
              "    </tr>\n",
              "    <tr>\n",
              "      <th>95</th>\n",
              "      <td>Folga</td>\n",
              "      <td>161.499023</td>\n",
              "      <td>77</td>\n",
              "      <td>0.500677</td>\n",
              "      <td>0.081555</td>\n",
              "      <td>1089.904414</td>\n",
              "      <td>1744.551012</td>\n",
              "      <td>2160.820267</td>\n",
              "      <td>0.027476</td>\n",
              "      <td>-356.090766</td>\n",
              "      <td>105.409538</td>\n",
              "      <td>30.265541</td>\n",
              "      <td>40.679173</td>\n",
              "      <td>24.356182</td>\n",
              "      <td>16.607426</td>\n",
              "      <td>7.728994</td>\n",
              "      <td>5.781097</td>\n",
              "      <td>4.936473</td>\n",
              "      <td>3.636472</td>\n",
              "      <td>-0.561351</td>\n",
              "      <td>2.528691</td>\n",
              "      <td>5.837641</td>\n",
              "      <td>6.510077</td>\n",
              "      <td>-0.715796</td>\n",
              "      <td>5.823413</td>\n",
              "      <td>3.562517</td>\n",
              "      <td>5.374062</td>\n",
              "      <td>1.259685</td>\n",
              "      <td>0.882494</td>\n",
              "      <td>Positive</td>\n",
              "    </tr>\n",
              "    <tr>\n",
              "      <th>96</th>\n",
              "      <td>Sara Rivera</td>\n",
              "      <td>123.046875</td>\n",
              "      <td>59</td>\n",
              "      <td>0.405982</td>\n",
              "      <td>0.209439</td>\n",
              "      <td>1813.543612</td>\n",
              "      <td>1934.347790</td>\n",
              "      <td>3487.420579</td>\n",
              "      <td>0.082908</td>\n",
              "      <td>-157.577105</td>\n",
              "      <td>112.467318</td>\n",
              "      <td>19.942006</td>\n",
              "      <td>30.484813</td>\n",
              "      <td>10.013509</td>\n",
              "      <td>10.432128</td>\n",
              "      <td>-10.715484</td>\n",
              "      <td>1.820524</td>\n",
              "      <td>-0.242141</td>\n",
              "      <td>-0.127934</td>\n",
              "      <td>-6.361413</td>\n",
              "      <td>-2.496305</td>\n",
              "      <td>-4.123600</td>\n",
              "      <td>-2.999218</td>\n",
              "      <td>-5.217306</td>\n",
              "      <td>-2.396622</td>\n",
              "      <td>-3.927131</td>\n",
              "      <td>-0.547768</td>\n",
              "      <td>-2.373000</td>\n",
              "      <td>4.622983</td>\n",
              "      <td>Positive</td>\n",
              "    </tr>\n",
              "    <tr>\n",
              "      <th>97</th>\n",
              "      <td>Risk the Rip</td>\n",
              "      <td>117.453835</td>\n",
              "      <td>56</td>\n",
              "      <td>0.351194</td>\n",
              "      <td>0.089719</td>\n",
              "      <td>1684.207098</td>\n",
              "      <td>1846.746658</td>\n",
              "      <td>3335.138166</td>\n",
              "      <td>0.062046</td>\n",
              "      <td>-255.871611</td>\n",
              "      <td>101.589155</td>\n",
              "      <td>1.029655</td>\n",
              "      <td>9.580618</td>\n",
              "      <td>-3.318956</td>\n",
              "      <td>6.293744</td>\n",
              "      <td>-12.529947</td>\n",
              "      <td>-9.186449</td>\n",
              "      <td>-24.207188</td>\n",
              "      <td>-18.179448</td>\n",
              "      <td>-21.240181</td>\n",
              "      <td>-21.031884</td>\n",
              "      <td>-19.339517</td>\n",
              "      <td>-16.576768</td>\n",
              "      <td>-10.965451</td>\n",
              "      <td>-5.266582</td>\n",
              "      <td>-5.219469</td>\n",
              "      <td>2.910833</td>\n",
              "      <td>-5.388279</td>\n",
              "      <td>-12.130870</td>\n",
              "      <td>Positive</td>\n",
              "    </tr>\n",
              "    <tr>\n",
              "      <th>98</th>\n",
              "      <td>Wish I Knew</td>\n",
              "      <td>117.453835</td>\n",
              "      <td>59</td>\n",
              "      <td>0.609108</td>\n",
              "      <td>0.149752</td>\n",
              "      <td>1882.106175</td>\n",
              "      <td>2183.636234</td>\n",
              "      <td>3794.852053</td>\n",
              "      <td>0.070154</td>\n",
              "      <td>-319.494829</td>\n",
              "      <td>65.231257</td>\n",
              "      <td>23.500420</td>\n",
              "      <td>23.844428</td>\n",
              "      <td>18.164745</td>\n",
              "      <td>20.468977</td>\n",
              "      <td>17.491174</td>\n",
              "      <td>16.475422</td>\n",
              "      <td>11.848711</td>\n",
              "      <td>8.432782</td>\n",
              "      <td>3.806594</td>\n",
              "      <td>5.528228</td>\n",
              "      <td>5.694064</td>\n",
              "      <td>5.102047</td>\n",
              "      <td>-0.062482</td>\n",
              "      <td>0.257216</td>\n",
              "      <td>-2.181219</td>\n",
              "      <td>-0.183837</td>\n",
              "      <td>-1.732434</td>\n",
              "      <td>0.596763</td>\n",
              "      <td>Positive</td>\n",
              "    </tr>\n",
              "  </tbody>\n",
              "</table>\n",
              "<p>99 rows × 30 columns</p>\n",
              "</div>"
            ],
            "text/plain": [
              "                              name       tempo  ...     mfcc20   emotion\n",
              "0                       Atmosphere  117.453835  ...   0.176411  Positive\n",
              "1                      Mineral Jam  117.453835  ...  -0.763620  Positive\n",
              "2                     Follow It Up  123.046875  ...  -0.616440  Positive\n",
              "3                       In the Mat  117.453835  ...  -0.137896  Positive\n",
              "4       See Me Ride (Original Mix)  103.359375  ...   3.108476  Positive\n",
              "..                             ...         ...  ...        ...       ...\n",
              "94  Ghana (Front De Cadeaux Remix)   99.384014  ...   6.701540  Positive\n",
              "95                           Folga  161.499023  ...   0.882494  Positive\n",
              "96                     Sara Rivera  123.046875  ...   4.622983  Positive\n",
              "97                    Risk the Rip  117.453835  ... -12.130870  Positive\n",
              "98                     Wish I Knew  117.453835  ...   0.596763  Positive\n",
              "\n",
              "[99 rows x 30 columns]"
            ]
          },
          "metadata": {
            "tags": []
          },
          "execution_count": 27
        }
      ]
    },
    {
      "cell_type": "code",
      "metadata": {
        "id": "SommJhgZvUio",
        "colab_type": "code",
        "colab": {}
      },
      "source": [
        "music_data.to_csv('Positive_dataset.csv')"
      ],
      "execution_count": null,
      "outputs": []
    }
  ]
}